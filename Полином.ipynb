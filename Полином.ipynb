{
  "nbformat": 4,
  "nbformat_minor": 0,
  "metadata": {
    "colab": {
      "name": "Полином.ipynb",
      "provenance": [],
      "authorship_tag": "ABX9TyOrBjCVKpjIwAGKQvLmTlrx",
      "include_colab_link": true
    },
    "kernelspec": {
      "name": "python3",
      "display_name": "Python 3"
    }
  },
  "cells": [
    {
      "cell_type": "markdown",
      "metadata": {
        "id": "view-in-github",
        "colab_type": "text"
      },
      "source": [
        "<a href=\"https://colab.research.google.com/github/olgashlyakhtova2000/firstName/blob/main/%D0%9F%D0%BE%D0%BB%D0%B8%D0%BD%D0%BE%D0%BC.ipynb\" target=\"_parent\"><img src=\"https://colab.research.google.com/assets/colab-badge.svg\" alt=\"Open In Colab\"/></a>"
      ]
    },
    {
      "cell_type": "code",
      "metadata": {
        "id": "Zvn_zWNENitb"
      },
      "source": [
        "class Polynomial:\r\n",
        "  def __init__(self, a):\r\n",
        "    self.a = [x for x in a]\r\n",
        "  def __str__(self):\r\n",
        "    s=\"\"\r\n",
        "    for k in range(len(self.a)-1, 1, -1):\r\n",
        "      if (self.a[k]>1 or self.a[k]<1) and self.a[k]!=0:\r\n",
        "        s+=str(self.a[k])+\"*x^\"+str(k)\r\n",
        "      elif self.a[k]==1:\r\n",
        "        s+=\"x^\"+str(k)\r\n",
        "      if self.a[k-1]>0 and self.a[k]!=0:\r\n",
        "          s+=\"+\"\r\n",
        "    if self.a[1]!=0 and self.a[1]!=1:\r\n",
        "      s+=str(self.a[1])+\"*x\"\r\n",
        "    elif self.a[1]==1:\r\n",
        "      s+=\"x\"\r\n",
        "    if self.a[0]>0:\r\n",
        "      s+=\"+\" + str(self.a[0])\r\n",
        "    elif self.a[0]<0:\r\n",
        "      s+=\"-\" + str(self.a[0])\r\n",
        "    return s\r\n",
        "  def __add__(self, x):\r\n",
        "    n = min(len(self.a), len(x.a))\r\n",
        "    m = max(len(self.a), len(x.a))\r\n",
        "    i =0\r\n",
        "    Res = Polynomial([0]*m)\r\n",
        "    while i<n:\r\n",
        "      Res.a[i] = self.a[i]+x.a[i]\r\n",
        "      i+=1\r\n",
        "    if n==len(self.a)and n!=len(x.a):\r\n",
        "      while n<len(x.a):\r\n",
        "        Res.a[n] = x.a[n]\r\n",
        "        n+=1\r\n",
        "    elif n!=len(self.a)and n==len(x.a):\r\n",
        "      while n<len(self.a):\r\n",
        "        Res.a[n] = self.a[n]\r\n",
        "        n+=1\r\n",
        "    return Res\r\n",
        "  def __sub__(self, x):\r\n",
        "    n = min(len(self.a), len(x.a))\r\n",
        "    m = max(len(self.a), len(x.a))\r\n",
        "    i =0\r\n",
        "    Res = Polynomial([0]*m)\r\n",
        "    while i<n:\r\n",
        "      Res.a[i] = self.a[i]-x.a[i]\r\n",
        "      i+=1\r\n",
        "    if n==len(self.a)and n!=len(x.a):\r\n",
        "      while n<len(x.a):\r\n",
        "        Res.a[n] = -x.a[n]\r\n",
        "        n+=1\r\n",
        "    elif n!=len(self.a)and n==len(x.a):\r\n",
        "      while n<len(self.a):\r\n",
        "        Res.a[n] = self.a[n]\r\n",
        "        n+=1\r\n",
        "    return Res\r\n",
        "  def evalf(self, point):\r\n",
        "    result = 0\r\n",
        "    n = len(self.a)-1\r\n",
        "    while n!=0:\r\n",
        "      result+=self.a[n]*point**n\r\n",
        "      n-=1\r\n",
        "    return result+self.a[0]\r\n"
      ],
      "execution_count": 48,
      "outputs": []
    },
    {
      "cell_type": "code",
      "metadata": {
        "colab": {
          "base_uri": "https://localhost:8080/"
        },
        "id": "NnlDGV4jPc1c",
        "outputId": "9dc3d2bb-dba4-4091-cd81-f00f718265f0"
      },
      "source": [
        "P = Polynomial([1,1, 1])\r\n",
        "Q = Polynomial([1,1])\r\n",
        "print('P: ', P)\r\n",
        "print('Q: ', Q)\r\n",
        "print('P+Q=', P+Q)\r\n",
        "print('P-Q=', P-Q)"
      ],
      "execution_count": 42,
      "outputs": [
        {
          "output_type": "stream",
          "text": [
            "P:  x^2+x+1\n",
            "Q:  x+1\n",
            "P+Q= x^2+2*x+2\n",
            "P-Q= x^2\n"
          ],
          "name": "stdout"
        }
      ]
    },
    {
      "cell_type": "code",
      "metadata": {
        "colab": {
          "base_uri": "https://localhost:8080/"
        },
        "id": "gyeIQS_3kVj3",
        "outputId": "505f3a58-e204-4c48-889d-6fbaeceae58f"
      },
      "source": [
        "Y = Polynomial([1, 6, 1])\r\n",
        "print('Y: ', Y)\r\n",
        "print('Result of evalf(1): ', Y.evalf(1))"
      ],
      "execution_count": 52,
      "outputs": [
        {
          "output_type": "stream",
          "text": [
            "Y:  x^2+6*x+1\n",
            "Result of evalf(1):  8\n"
          ],
          "name": "stdout"
        }
      ]
    }
  ]
}