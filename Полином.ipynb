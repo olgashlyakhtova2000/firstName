{
  "nbformat": 4,
  "nbformat_minor": 0,
  "metadata": {
    "colab": {
      "name": "Полином.ipynb",
      "provenance": [],
      "authorship_tag": "ABX9TyOTFUg47Tf+4t0Gl7qi127S",
      "include_colab_link": true
    },
    "kernelspec": {
      "name": "python3",
      "display_name": "Python 3"
    }
  },
  "cells": [
    {
      "cell_type": "markdown",
      "metadata": {
        "id": "view-in-github",
        "colab_type": "text"
      },
      "source": [
        "<a href=\"https://colab.research.google.com/github/olgashlyakhtova2000/firstName/blob/main/%D0%9F%D0%BE%D0%BB%D0%B8%D0%BD%D0%BE%D0%BC.ipynb\" target=\"_parent\"><img src=\"https://colab.research.google.com/assets/colab-badge.svg\" alt=\"Open In Colab\"/></a>"
      ]
    },
    {
      "cell_type": "code",
      "metadata": {
        "id": "Zvn_zWNENitb"
      },
      "source": [
        "from IPython.display import display, Math\r\n",
        "def ch(x):\r\n",
        "  if isinstance(x, Polynomial):\r\n",
        "      return x\r\n",
        "  return Polynomial([x])\r\n",
        "class Polynomial:\r\n",
        "  def __init__(self, a):\r\n",
        "    self.a = [x for x in a]\r\n",
        "  def __str__(self):\r\n",
        "    s=\"\"\r\n",
        "    for k in range(len(self.a)-1, 1, -1):\r\n",
        "      if (self.a[k]>1 or self.a[k]<1) and self.a[k]!=0:\r\n",
        "        s+=str(self.a[k])+\"*x^\"+str(k)\r\n",
        "      elif self.a[k]==1:\r\n",
        "        s+=\"x^\"+str(k)\r\n",
        "      if self.a[k-1]>0 and self.a[k]!=0:\r\n",
        "          s+=\"+\"\r\n",
        "    if self.a[1]!=0 and self.a[1]!=1:\r\n",
        "      s+=str(self.a[1])+\"*x\"\r\n",
        "    elif self.a[1]==1:\r\n",
        "      s+=\"x\"\r\n",
        "    if self.a[0]>0:\r\n",
        "      s+=\"+\" + str(self.a[0])\r\n",
        "    elif self.a[0]<0:\r\n",
        "      s+=\"-\" + str(self.a[0])\r\n",
        "    return s\r\n",
        "  def __add__(self, x):\r\n",
        "    x = ch(x)\r\n",
        "    n = min(len(self.a), len(x.a))\r\n",
        "    m = max(len(self.a), len(x.a))\r\n",
        "    i =0\r\n",
        "    Res = Polynomial([0]*m)\r\n",
        "    while i<n:\r\n",
        "      Res.a[i] = self.a[i]+x.a[i]\r\n",
        "      i+=1\r\n",
        "    if n==len(self.a)and n!=len(x.a):\r\n",
        "      while n<len(x.a):\r\n",
        "        Res.a[n] = x.a[n]\r\n",
        "        n+=1\r\n",
        "    elif n!=len(self.a)and n==len(x.a):\r\n",
        "      while n<len(self.a):\r\n",
        "        Res.a[n] = self.a[n]\r\n",
        "        n+=1\r\n",
        "    return Res\r\n",
        "  def __sub__(self, x):\r\n",
        "    x = ch(x)\r\n",
        "    n = min(len(self.a), len(x.a))\r\n",
        "    m = max(len(self.a), len(x.a))\r\n",
        "    Res = Polynomial([0]*m)\r\n",
        "    i =0\r\n",
        "    Res = Polynomial([0]*m)\r\n",
        "    while i<n:\r\n",
        "      Res.a[i] = self.a[i]-x.a[i]\r\n",
        "      i+=1\r\n",
        "    if n==len(self.a)and n!=len(x.a):\r\n",
        "      while n<len(x.a):\r\n",
        "        Res.a[n] = -x.a[n]\r\n",
        "        n+=1\r\n",
        "    elif n!=len(self.a)and n==len(x.a):\r\n",
        "      while n<len(self.a):\r\n",
        "        Res.a[n] = self.a[n]\r\n",
        "        n+=1\r\n",
        "    return Res\r\n",
        "  def evalf(self, point):\r\n",
        "    result = 0\r\n",
        "    n = len(self.a)-1\r\n",
        "    while n!=0:\r\n",
        "      result+=self.a[n]*point**n\r\n",
        "      n-=1\r\n",
        "    return result+self.a[0]\r\n",
        "  def diff(self):\r\n",
        "    b=[]\r\n",
        "    for k in range(1, len(self.a)):\r\n",
        "      b.append(k*self.a[k])\r\n",
        "    return Polynomial(b)\r\n",
        "  def toLatex(self):\r\n",
        "    s=\"\"\r\n",
        "    for k in range(len(self.a)-1, 1, -1):\r\n",
        "      if (self.a[k]>1 or self.a[k]<1) and self.a[k]!=0:\r\n",
        "        s+=str(self.a[k])+\"x^\"+str(k)\r\n",
        "      elif self.a[k]==1:\r\n",
        "        s+=\"x^\"+str(k)\r\n",
        "      if self.a[k-1]>0 and self.a[k]!=0:\r\n",
        "          s+=\"+\"\r\n",
        "    if self.a[1]!=0 and self.a[1]!=1:\r\n",
        "      s+=str(self.a[1])+\"x\"\r\n",
        "    elif self.a[1]==1:\r\n",
        "      s+=\"x\"\r\n",
        "    if self.a[0]>0:\r\n",
        "      s+=\"+\" + str(self.a[0])\r\n",
        "    elif self.a[0]<0:\r\n",
        "      s+=\"-\" + str(self.a[0])\r\n",
        "    display(Math(s))\r\n",
        "  def __mul__(self, x):\r\n",
        "    x = ch(x)\r\n",
        "    Res = Polynomial([0]*(len(self.a)*len(self.a)-1))\r\n",
        "    for var1,i1 in enumerate(self.a):\r\n",
        "      for var2,i2 in enumerate(x.a):\r\n",
        "        Res.a[var1+var2] += i1*i2\r\n",
        "    return Res\r\n",
        "  def __pow__(self, y):\r\n",
        "    Res = self\r\n",
        "    if y<=0: \r\n",
        "      return \"Возможно возведение в натуральную степень.\"\r\n",
        "    elif y>1:\r\n",
        "      i=1\r\n",
        "      while i<y:\r\n",
        "        Res = Res * self\r\n",
        "        i+=1\r\n",
        "    return Res\r\n",
        "  def __iadd__(self, other):\r\n",
        "    return self+other\r\n",
        "  def  __isub__(self, other):\r\n",
        "    return self-other\r\n",
        "  def  __imul__(self, other):\r\n",
        "    return self*other   \r\n"
      ],
      "execution_count": 111,
      "outputs": []
    },
    {
      "cell_type": "code",
      "metadata": {
        "colab": {
          "base_uri": "https://localhost:8080/"
        },
        "id": "NnlDGV4jPc1c",
        "outputId": "d1923a8e-1326-40a3-eecd-5d142f79f276"
      },
      "source": [
        "P = Polynomial([1,1, 1])\r\n",
        "Q = Polynomial([1, 1])\r\n",
        "print('P: ', P)\r\n",
        "print('Q: ', Q)\r\n",
        "print('P+Q=', P+Q)\r\n",
        "print('P-Q=', P-Q)\r\n",
        "print('P*Q=', P*Q)\r\n",
        "print('Q^2=', Q**2)\r\n",
        "Q+=P\r\n",
        "print('Q+=P',Q)\r\n"
      ],
      "execution_count": 110,
      "outputs": [
        {
          "output_type": "stream",
          "text": [
            "P:  x^2+x+1\n",
            "Q:  x+1\n",
            "P+Q= x^2+2*x+2\n",
            "P-Q= x^2\n",
            "P*Q= x^3+2*x^2+2*x+1\n",
            "Q^2= x^2+2*x+1\n",
            "Q+=P x^2+2*x+2\n"
          ],
          "name": "stdout"
        }
      ]
    },
    {
      "cell_type": "code",
      "metadata": {
        "colab": {
          "base_uri": "https://localhost:8080/"
        },
        "id": "gyeIQS_3kVj3",
        "outputId": "505f3a58-e204-4c48-889d-6fbaeceae58f"
      },
      "source": [
        "Y = Polynomial([1, 6, 1])\r\n",
        "print('Y: ', Y)\r\n",
        "print('Result of evalf(1): ', Y.evalf(1))"
      ],
      "execution_count": null,
      "outputs": [
        {
          "output_type": "stream",
          "text": [
            "Y:  x^2+6*x+1\n",
            "Result of evalf(1):  8\n"
          ],
          "name": "stdout"
        }
      ]
    },
    {
      "cell_type": "code",
      "metadata": {
        "colab": {
          "base_uri": "https://localhost:8080/",
          "height": 55
        },
        "id": "6_7YtoqVgt-g",
        "outputId": "576c7804-ebe1-4b1e-f475-7e4eaced4bdb"
      },
      "source": [
        "Z = Polynomial([1, 3, 4, 5])\r\n",
        "print ('Z: ', Z, ', Z.diff: ', Z.diff())\r\n",
        "Z.toLatex()"
      ],
      "execution_count": null,
      "outputs": [
        {
          "output_type": "stream",
          "text": [
            "Z:  5*x^3+4*x^2+3*x+1 , Z.diff:  15*x^2+8*x+3\n"
          ],
          "name": "stdout"
        },
        {
          "output_type": "display_data",
          "data": {
            "text/latex": "$$5x^3+4x^2+3x+1$$",
            "text/plain": [
              "<IPython.core.display.Math object>"
            ]
          },
          "metadata": {
            "tags": []
          }
        }
      ]
    },
    {
      "cell_type": "code",
      "metadata": {
        "id": "RYl-RTR8Jx9T"
      },
      "source": [
        "import matplotlib\r\n",
        "import matplotlib.pyplot as plt\r\n",
        "\r\n",
        "def plot(pol, a, b):\r\n",
        "  n = 500\r\n",
        "  dx = (b - a) / n\r\n",
        "  X, Y = [], []\r\n",
        "  for i in range(n + 1):\r\n",
        "    x = a + dx * i\r\n",
        "    y = pol.evalf(x)\r\n",
        "    X.append(x)\r\n",
        "    Y.append(y)\r\n",
        "\r\n",
        "  fig, ax = plt.subplots(figsize=(12, 9))\r\n",
        "  ax.plot(X, Y, color=\"red\", lw=5)\r\n",
        "  plt.show()"
      ],
      "execution_count": null,
      "outputs": []
    },
    {
      "cell_type": "code",
      "metadata": {
        "colab": {
          "base_uri": "https://localhost:8080/",
          "height": 537
        },
        "id": "ZtkBTLYcKNbY",
        "outputId": "e1c773bc-2119-4d04-cdd7-92cb843f8962"
      },
      "source": [
        "L = Polynomial([1,1, 7])\r\n",
        "plot(L, -20, 20)"
      ],
      "execution_count": null,
      "outputs": [
        {
          "output_type": "display_data",
          "data": {
            "image/png": "[encoded data removed]",
            "text/plain": [
              "<Figure size 864x648 with 1 Axes>"
            ]
          },
          "metadata": {
            "tags": [],
            "needs_background": "light"
          }
        }
      ]
    },
    {
      "cell_type": "code",
      "metadata": {
        "id": "tJzgCxvSOsFd"
      },
      "source": [
        "def add(x, y):\r\n",
        "  return ['+', x, y]\r\n",
        "\r\n",
        "def mul(x, y):\r\n",
        "  return ['*', x, y]\r\n",
        "\r\n",
        "def div(x, y):\r\n",
        "  return [\"/\", x, y]\r\n",
        "def sub(x, y):\r\n",
        "  return [\"-\", x, y]"
      ],
      "execution_count": null,
      "outputs": []
    },
    {
      "cell_type": "code",
      "metadata": {
        "id": "sAuV8QpsMd_9"
      },
      "source": [
        "def check2(x):\r\n",
        "  if isinstance(x, Expression):\r\n",
        "    return x\r\n",
        "  return Expression(x)\r\n",
        "\r\n",
        "class Expression:\r\n",
        "  def __init__(self, f):\r\n",
        "    self.f = f\r\n",
        "  def __add__(self, x):\r\n",
        "    x = check2(x)\r\n",
        "    return Expression(add(self.f, x.f))\r\n",
        "  def __sub__(self, x):\r\n",
        "    x = check2(x)\r\n",
        "    return Expression(sub(self.f, x.f))\r\n",
        "  def __mul__(self, x):\r\n",
        "    x = check2(x)\r\n",
        "    return Expression(mul(self.f, x.f))\r\n",
        "  def __div__(self, x):\r\n",
        "    x = check2(x)\r\n",
        "    return Expression(div(self.f, x.f))\r\n",
        "  def __radd__(self, x):\r\n",
        "    x = check2(x)\r\n",
        "    return Expression(add(x.f, self.f))\r\n",
        "  def __rmul__(self, x):\r\n",
        "    x = check2(x)\r\n",
        "    return Expression(mul(x.f, self.f))\r\n",
        "  def subs(self, var, val):\r\n",
        "    return Expression(substitute(self.f, var, val))\r\n",
        "  def evalf(self):\r\n",
        "    return evaluate(self.f)\r\n",
        "  def show(self):\r\n",
        "    display(Math(expr2latex(self.f)))"
      ],
      "execution_count": null,
      "outputs": []
    },
    {
      "cell_type": "code",
      "metadata": {
        "id": "yzxaCyfRMoUy"
      },
      "source": [
        "def expr2latex(x):\r\n",
        "  if isinstance(x, (int, float)):\r\n",
        "    return str(x)\r\n",
        "  if isinstance(x, str):\r\n",
        "    return x\r\n",
        "  if isinstance(x, Polynomial):\r\n",
        "    s=\"\"\r\n",
        "    for k in range(len(x.a)-1, 1, -1):\r\n",
        "      if (x.a[k]>1 or x.a[k]<1) and x.a[k]!=0:\r\n",
        "        s+=str(x.a[k])+\"x^\"+str(k)\r\n",
        "      elif x.a[k]==1:\r\n",
        "        s+=\"x^\"+str(k)\r\n",
        "      if x.a[k-1]>0 and x.a[k]!=0:\r\n",
        "          s+=\"+\"\r\n",
        "    if x.a[1]!=0 and x.a[1]!=1:\r\n",
        "      s+=str(x.a[1])+\"x\"\r\n",
        "    elif x.a[1]==1:\r\n",
        "      s+=\"x\"\r\n",
        "    if x.a[0]>0:\r\n",
        "      s+=\"+\" + str(x.a[0])\r\n",
        "    elif x.a[0]<0:\r\n",
        "      s+=\"-\" + str(x.a[0])\r\n",
        "    return s\r\n",
        "  if isinstance(x, list):\r\n",
        "    if x[0] == \"+\":\r\n",
        "      return expr2latex(x[1]) + \"+\" + expr2latex(x[2])\r\n",
        "    if x[0] == \"-\":\r\n",
        "      return expr2latex(x[1]) + \"-\" + \"(\"+ expr2latex(x[2]) +\")\"\r\n",
        "    if x[0] == \"*\":\r\n",
        "      left = expr2latex(x[1])\r\n",
        "      if isinstance(x[1], list) and x[1][0] == \"+\":\r\n",
        "        left = \"(\" + left + \")\"\r\n",
        "      right = expr2latex(x[2])\r\n",
        "      if isinstance(x[2], list) and x[2][0] == \"+\":\r\n",
        "        right = \"(\" + right + \")\"\r\n",
        "      return left + \"\\\\cdot \" + right\r\n",
        "    if x[0] == \"/\":\r\n",
        "      return \"\\\\dfrac{\" + expr2latex(x[1]) + \"}{\" + expr2latex(x[2]) + \"}\"\r\n",
        "    if x[0] == \"sqrt\":\r\n",
        "      return \"\\\\sqrt{\" + expr2latex(x[1]) + \"}\""
      ],
      "execution_count": null,
      "outputs": []
    },
    {
      "cell_type": "code",
      "metadata": {
        "colab": {
          "base_uri": "https://localhost:8080/",
          "height": 38
        },
        "id": "dy9mHwpZPQxk",
        "outputId": "b22ecdc5-65c8-48eb-e608-e98d70d3de6d"
      },
      "source": [
        "T1 = Expression( Polynomial([1, 2, 3]))\r\n",
        "T2 = Expression(1)\r\n",
        "s=T1+T2\r\n",
        "s.show()"
      ],
      "execution_count": null,
      "outputs": [
        {
          "output_type": "display_data",
          "data": {
            "text/latex": "$$3x^2+2x+1+1$$",
            "text/plain": [
              "<IPython.core.display.Math object>"
            ]
          },
          "metadata": {
            "tags": []
          }
        }
      ]
    }
  ]
}