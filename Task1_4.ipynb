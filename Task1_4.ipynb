{
  "nbformat": 4,
  "nbformat_minor": 0,
  "metadata": {
    "colab": {
      "name": "Task1_4.ipynb",
      "provenance": [],
      "collapsed_sections": [],
      "authorship_tag": "ABX9TyN8/E58b4ARDKSDoGttIJxC",
      "include_colab_link": true
    },
    "kernelspec": {
      "name": "python3",
      "display_name": "Python 3"
    }
  },
  "cells": [
    {
      "cell_type": "markdown",
      "metadata": {
        "id": "view-in-github",
        "colab_type": "text"
      },
      "source": [
        "<a href=\"https://colab.research.google.com/github/olgashlyakhtova2000/firstName/blob/main/Task1_4.ipynb\" target=\"_parent\"><img src=\"https://colab.research.google.com/assets/colab-badge.svg\" alt=\"Open In Colab\"/></a>"
      ]
    },
    {
      "cell_type": "code",
      "metadata": {
        "colab": {
          "base_uri": "https://localhost:8080/"
        },
        "id": "1FfoEMFXMyZ1",
        "outputId": "758d0b40-fed0-49e4-f717-613b88ad3014"
      },
      "source": [
        "def check(x):\r\n",
        "  if isinstance (x,int):\r\n",
        "    return x, 1\r\n",
        "  return x.a, x.b\r\n",
        "\r\n",
        "def NOD (x,y):\r\n",
        "  x = abs(x)\r\n",
        "  y = abs(y)\r\n",
        "  if x==0 or y==0:\r\n",
        "    return x+y\r\n",
        "  if x>y:\r\n",
        "    return NOD(x-y,y)\r\n",
        "  else:\r\n",
        "    return NOD(x,y-x)\r\n",
        "\r\n",
        "class Rational:\r\n",
        "  def __init__ (self, a, b=1):\r\n",
        "    self.a = a\r\n",
        "    self.b = b\r\n",
        "  def __str__ (self):\r\n",
        "    return str(self.a) + \"/\"+ str(self.b)\r\n",
        "  def __add__ (self, x): \r\n",
        "    c, d =check(x)\r\n",
        "    return Rational(self.a*d+self.b*c, self.b*d)\r\n",
        "  def normalize(self): \r\n",
        "    a1 = self.a\r\n",
        "    b1 = self.b\r\n",
        "    if b1<0:\r\n",
        "     a1=-1*a1\r\n",
        "     b1 = -1*b1\r\n",
        "    if abs(a1)>abs(b1):\r\n",
        "      t = NOD(a1, b1)\r\n",
        "      a1 = a1//t\r\n",
        "      b1 = b1//t\r\n",
        "    return Rational(a1,b1)\r\n",
        "    \r\n",
        "  x = Rational(30,-18)\r\n",
        "  print('x: ', x, ', after normalize: ', normalize(x))"
      ],
      "execution_count": 23,
      "outputs": [
        {
          "output_type": "stream",
          "text": [
            "x:  30/-18 , after normalize:  -5/3\n"
          ],
          "name": "stdout"
        }
      ]
    }
  ]
}