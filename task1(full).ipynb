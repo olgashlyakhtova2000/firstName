{
  "nbformat": 4,
  "nbformat_minor": 0,
  "metadata": {
    "colab": {
      "name": "Task1_4.ipynb",
      "provenance": [],
      "collapsed_sections": [],
      "authorship_tag": "ABX9TyNuM3YxW1P+HHvChGysmCs6",
      "include_colab_link": true
    },
    "kernelspec": {
      "name": "python3",
      "display_name": "Python 3"
    }
  },
  "cells": [
    {
      "cell_type": "markdown",
      "metadata": {
        "id": "view-in-github",
        "colab_type": "text"
      },
      "source": [
        "<a href=\"https://colab.research.google.com/github/olgashlyakhtova2000/firstName/blob/main/Task1_4.ipynb\" target=\"_parent\"><img src=\"https://colab.research.google.com/assets/colab-badge.svg\" alt=\"Open In Colab\"/></a>"
      ]
    },
    {
      "cell_type": "code",
      "metadata": {
        "colab": {
          "base_uri": "https://localhost:8080/"
        },
        "id": "1FfoEMFXMyZ1",
        "outputId": "02299eb7-04c0-4017-e2f3-3ae8a8d38405"
      },
      "source": [
        "from IPython.display import display, Math\r\n",
        "def check(x):\r\n",
        "  if isinstance (x,int):\r\n",
        "    return x, 1\r\n",
        "  return x.a, x.b\r\n",
        "\r\n",
        "def NOD (x,y):\r\n",
        "  x = abs(x)\r\n",
        "  y = abs(y)\r\n",
        "  if x==0 or y==0:\r\n",
        "    return x+y\r\n",
        "  if x>y:\r\n",
        "    return NOD(x-y,y)\r\n",
        "  else:\r\n",
        "    return NOD(x,y-x)\r\n",
        "\r\n",
        "class Rational:\r\n",
        "  def __init__ (self, a, b=1):\r\n",
        "    self.a = a\r\n",
        "    self.b = b\r\n",
        "  def __str__ (self):\r\n",
        "    return str(self.a) + \"/\"+ str(self.b)\r\n",
        "  def __add__ (self, x): \r\n",
        "    c, d =check(x)\r\n",
        "    return Rational(self.a*d+self.b*c, self.b*d) \r\n",
        "  def __sub__ (self, x): \r\n",
        "    c, d =check(x)\r\n",
        "    return Rational(self.a*d-self.b*c, self.b*d)\r\n",
        "  def __mul__ (self, x): \r\n",
        "    c, d =check(x)\r\n",
        "    return Rational(self.a*c, self.b*d)\r\n",
        "  def __truediv__ (self, x): \r\n",
        "    c, d =check(x)\r\n",
        "  def __radd__ (self, x): \r\n",
        "    c, d =check(x)\r\n",
        "    return Rational(self.a*d+self.b*c, self.b*d) \r\n",
        "  def __rsub__ (self, x): \r\n",
        "    c, d =check(x)\r\n",
        "    return Rational(self.b*c-self.a*d, self.b*d)\r\n",
        "  def __rmul__ (self, x): \r\n",
        "    c, d =check(x)\r\n",
        "    return Rational(self.a*c, self.b*d)\r\n",
        "  def __rtruediv__ (self, x): \r\n",
        "    c, d =check(x)\r\n",
        "    return Rational(self.b*c, self.a*d)\r\n",
        "  def __lt__(self, x):\r\n",
        "    c, d =check(x)\r\n",
        "    return self.a*d<self.b*c\r\n",
        "  def __le__(self, x):\r\n",
        "    c, d =check(x)\r\n",
        "    return self.a*d<=self.b*c\r\n",
        "  def __eq__(self, x):\r\n",
        "    c, d =check(x)\r\n",
        "    return self.a*d==self.b*c\r\n",
        "  def __ne__(self, x):\r\n",
        "    c, d =check(x)\r\n",
        "    return self.a*d!=self.b*c\r\n",
        "  def __gt__(self, x):\r\n",
        "    c, d =check(x)\r\n",
        "    return self.a*d>self.b*c\r\n",
        "  def __ge__(self, x):\r\n",
        "    c, d =check(x)\r\n",
        "  def __neg__(self):\r\n",
        "    if self.a>0 and self.b>0:\r\n",
        "      return Rational (-1*self.a, self.b)\r\n",
        "    elif self.a<0 and self.b<0:\r\n",
        "      return Rational(-1*abs(self.a), abs(self.b))\r\n",
        "    else:\r\n",
        "      return Rational(abs(self.a), abs(self.b))\r\n",
        "  def __iadd__(self, other):\r\n",
        "    c, d =check(other)\r\n",
        "    return Rational(self.a*d+self.b*c, self.b*d)\r\n",
        "  def __isub__(self, other):\r\n",
        "    c, d =check(other)\r\n",
        "    return Rational(self.a*d-self.b*c, self.b*d)\r\n",
        "  def __imul__(self, other):\r\n",
        "    c, d =check(other)\r\n",
        "    return Rational(self.a*c, self.b*d)\r\n",
        "  def __itruediv__(self, other):\r\n",
        "    c, d =check(other)\r\n",
        "    return Rational(self.a*d, self.b*c)\r\n",
        "  def __pow__ (self, exp, mode=1):\r\n",
        "    if exp>1:\r\n",
        "      i = 0\r\n",
        "      a1 = 1\r\n",
        "      b1 = 1\r\n",
        "      while i<exp:\r\n",
        "        a1 *= self.a\r\n",
        "        b1 *=self.b\r\n",
        "        i = i+1\r\n",
        "      a1 = a1//mode\r\n",
        "      b1 = b1//mode\r\n",
        "      return Rational(a1, b1) \r\n",
        "    elif exp<=0: \r\n",
        "      return Rational(1)  \r\n",
        "    else: \r\n",
        "      return Rational(self.a, self.b)\r\n",
        "  def __abs__(self):\r\n",
        "    return Rational(abs(self.a), abs(self.b))\r\n",
        "  def evalf(self):\r\n",
        "    return self.a/self.b\r\n",
        "  def MixedFiction(self):\r\n",
        "    n =1\r\n",
        "    if self.a<self.b:\r\n",
        "      return self\r\n",
        "    elif self.a==self.b:\r\n",
        "      return Rational(1)\r\n",
        "    else:\r\n",
        "      n = self.a//self.b\r\n",
        "      if self.a-n*self.b!=0:\r\n",
        "        return int(n), Rational(self.a-int(n)*self.b, self.b)\r\n",
        "      else:\r\n",
        "        return int(n)\r\n",
        "  def normalize(self): \r\n",
        "    a1 = self.a\r\n",
        "    b1 = self.b\r\n",
        "    if a1==0:\r\n",
        "      return 0\r\n",
        "    if b1<0:\r\n",
        "      a1 = -1*a1\r\n",
        "      b1 = -1*b1\r\n",
        "    if abs(a1)>abs(b1):\r\n",
        "      t = NOD(a1, b1)\r\n",
        "      a1 = a1//t\r\n",
        "      b1 = b1//t\r\n",
        "    return Rational(a1,b1)\r\n",
        "  def toLatex(self, mix):\r\n",
        "    if mix!=True:\r\n",
        "      s = \"\\\\dfrac{\" + str(self.a) + \"}{\" + str(self.b) + \"}\"\r\n",
        "      display(Math(s))\r\n",
        "    else:\r\n",
        "      n2, h2 = self.MixedFiction()\r\n",
        "      s = str(n2)+\"\\\\dfrac{\" + str(h2.a) + \"}{\" + str(h2.b) + \"}\"\r\n",
        "      display(Math(s))\r\n",
        "\r\n",
        "  x = Rational(30,-18)\r\n",
        "  print('x: ', x, ', after normalize: ', normalize(x))\r\n",
        "  y = Rational(2,5)\r\n",
        "  z = Rational(3,4)\r\n",
        "  print ('Examples: y=', y, ', z=', z)\r\n",
        "  print (y, '+', z, '=', y+z)\r\n",
        "  print (y, '-', z, '=', y-z)\r\n",
        "  print (y, '*', z, '=', y*z)\r\n",
        "  print (y, '/', z, '=', y/z)\r\n",
        "  #n1 = input('n=')\r\n",
        " # n = int(n1)\r\n",
        "  #print (y, '^', n, ' =', y**n)\r\n",
        "  print (y, '>', z, '=', y>z)\r\n",
        "  print (y, '!=', z, '=', y!=z)\r\n",
        "  print (y, '==', z, '=', y==z)\r\n",
        "  print (y, '<=', z, '=', y<=z)\r\n",
        "  print ('Действительное число ', 'y:', evalf(y))\r\n",
        "  print ('Смешанное число ', 'y:', MixedFiction(y))\r\n",
        "  h = Rational(12,5)\r\n",
        "  n2, h2 = MixedFiction(h)\r\n",
        "  print ('Смешанное число ', 'h=', h, ' =>', n2, ' и ', h2)\r\n",
        "  print ('x после унарногo минуса:', -x)\r\n",
        "  y-=1\r\n",
        "  print(abs(y), ' ', y)\r\n",
        "  print(1/y)"
      ],
      "execution_count": 61,
      "outputs": [
        {
          "output_type": "stream",
          "text": [
            "x:  30/-18 , after normalize:  -5/3\n",
            "Examples: y= 2/5 , z= 3/4\n",
            "2/5 + 3/4 = 23/20\n",
            "2/5 - 3/4 = -7/20\n",
            "2/5 * 3/4 = 6/20\n",
            "2/5 / 3/4 = None\n",
            "2/5 > 3/4 = False\n",
            "2/5 != 3/4 = True\n",
            "2/5 == 3/4 = False\n",
            "2/5 <= 3/4 = True\n",
            "Действительное число  y: 0.4\n",
            "Смешанное число  y: 2/5\n",
            "Смешанное число  h= 12/5  => 2  и  2/5\n",
            "x после унарногo минуса: 30/18\n",
            "3/5   -3/5\n",
            "5/-3\n"
          ],
          "name": "stdout"
        }
      ]
    },
    {
      "cell_type": "code",
      "metadata": {
        "colab": {
          "base_uri": "https://localhost:8080/",
          "height": 51
        },
        "id": "mwdyVDlush-1",
        "outputId": "bd0f8d35-e115-4d63-9ab6-91d1a32f731d"
      },
      "source": [
        "s = Rational(1,2)\r\n",
        "s.toLatex(False)"
      ],
      "execution_count": 18,
      "outputs": [
        {
          "output_type": "display_data",
          "data": {
            "text/latex": "$$\\dfrac{1}{2}$$",
            "text/plain": [
              "<IPython.core.display.Math object>"
            ]
          },
          "metadata": {
            "tags": []
          }
        }
      ]
    },
    {
      "cell_type": "code",
      "metadata": {
        "colab": {
          "base_uri": "https://localhost:8080/",
          "height": 51
        },
        "id": "kfvDLboYva9v",
        "outputId": "8f5a9471-12ca-4b6d-9a93-17385b487f0f"
      },
      "source": [
        "s2 = Rational(5,2)\r\n",
        "s2.toLatex(True)"
      ],
      "execution_count": 62,
      "outputs": [
        {
          "output_type": "display_data",
          "data": {
            "text/latex": "$$2\\dfrac{1}{2}$$",
            "text/plain": [
              "<IPython.core.display.Math object>"
            ]
          },
          "metadata": {
            "tags": []
          }
        }
      ]
    },
    {
      "cell_type": "markdown",
      "metadata": {
        "id": "k88dd6hF4o1s"
      },
      "source": [
        "Все, что ниже, - для вывода формул"
      ]
    },
    {
      "cell_type": "code",
      "metadata": {
        "id": "X-WqmQLs15yC"
      },
      "source": [
        "def check2(x):\r\n",
        "  if isinstance(x, Expression):\r\n",
        "    return x\r\n",
        "  return Expression(x)\r\n",
        "\r\n",
        "class Expression:\r\n",
        "  def __init__(self, f):\r\n",
        "    self.f = f\r\n",
        "  def __add__(self, x):\r\n",
        "    x = check2(x)\r\n",
        "    return Expression(add(self.f, x.f))\r\n",
        "  def __mul__(self, x):\r\n",
        "    x = check2(x)\r\n",
        "    return Expression(mul(self.f, x.f))\r\n",
        "  def __radd__(self, x):\r\n",
        "    x = check2(x)\r\n",
        "    return Expression(add(x.f, self.f))\r\n",
        "  def __rmul__(self, x):\r\n",
        "    x = check2(x)\r\n",
        "    return Expression(mul(x.f, self.f))\r\n",
        "  def subs(self, var, val):\r\n",
        "    return Expression(substitute(self.f, var, val))\r\n",
        "  def evalf(self):\r\n",
        "    return evaluate(self.f)\r\n",
        "  def show(self):\r\n",
        "    display(Math(expr2latex(self.f)))"
      ],
      "execution_count": 79,
      "outputs": []
    },
    {
      "cell_type": "code",
      "metadata": {
        "id": "0SJHiE5h25Ra"
      },
      "source": [
        "def expr2latex(x):\r\n",
        "  if isinstance(x, (int, float)):\r\n",
        "    return str(x)\r\n",
        "  if isinstance(x, str):\r\n",
        "    return x\r\n",
        "  if isinstance(x, Rational):\r\n",
        "    return \"\\\\dfrac{\" + str(x.a) + \"}{\" + str(x.b) + \"}\"\r\n",
        "  if isinstance(x, list):\r\n",
        "    if x[0] == \"+\":\r\n",
        "      return expr2latex(x[1]) + \"+\" + expr2latex(x[2])\r\n",
        "    if x[0] == \"*\":\r\n",
        "      left = expr2latex(x[1])\r\n",
        "      if isinstance(x[1], list) and x[1][0] == \"+\":\r\n",
        "        left = \"(\" + left + \")\"\r\n",
        "      right = expr2latex(x[2])\r\n",
        "      if isinstance(x[2], list) and x[2][0] == \"+\":\r\n",
        "        right = \"(\" + right + \")\"\r\n",
        "      return left + \"\\\\cdot \" + right\r\n",
        "    if x[0] == \"/\":\r\n",
        "      return \"\\\\dfrac{\" + expr2latex(x[1]) + \"}{\" + expr2latex(x[2]) + \"}\"\r\n",
        "    if x[0] == \"sqrt\":\r\n",
        "      return \"\\\\sqrt{\" + expr2latex(x[1]) + \"}\"\r\n",
        "    if x[0] == \"sin\":\r\n",
        "      return \"\\\\sin{\" + expr2latex(x[1]) + \"}\"\r\n",
        "\r\n",
        "  "
      ],
      "execution_count": 80,
      "outputs": []
    },
    {
      "cell_type": "code",
      "metadata": {
        "colab": {
          "base_uri": "https://localhost:8080/",
          "height": 51
        },
        "id": "MbLWOofy2Bcs",
        "outputId": "ab5f9c8b-b9ce-47a0-d4e5-105bf113f36f"
      },
      "source": [
        "gg = Rational(1,3)\r\n",
        "x = Expression(gg)\r\n",
        "y = Expression('y')\r\n",
        "z = x+y\r\n",
        "z.show()"
      ],
      "execution_count": 81,
      "outputs": [
        {
          "output_type": "display_data",
          "data": {
            "text/latex": "$$\\dfrac{1}{3}+y$$",
            "text/plain": [
              "<IPython.core.display.Math object>"
            ]
          },
          "metadata": {
            "tags": []
          }
        }
      ]
    }
  ]
}
