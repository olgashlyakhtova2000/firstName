{
  "nbformat": 4,
  "nbformat_minor": 0,
  "metadata": {
    "colab": {
      "name": "Complex.ipynb",
      "provenance": [],
      "collapsed_sections": [],
      "authorship_tag": "ABX9TyPDpmqqhFrw1Y4f1t0ATNDT",
      "include_colab_link": true
    },
    "kernelspec": {
      "name": "python3",
      "display_name": "Python 3"
    }
  },
  "cells": [
    {
      "cell_type": "markdown",
      "metadata": {
        "id": "view-in-github",
        "colab_type": "text"
      },
      "source": [
        "<a href=\"https://colab.research.google.com/github/olgashlyakhtova2000/firstName/blob/main/Complex.ipynb\" target=\"_parent\"><img src=\"https://colab.research.google.com/assets/colab-badge.svg\" alt=\"Open In Colab\"/></a>"
      ]
    },
    {
      "cell_type": "code",
      "metadata": {
        "id": "RJnJ-OjZcv5C"
      },
      "source": [
        "from math import *\r\n",
        "from IPython.display import display, Math\r\n",
        "def check(x):\r\n",
        "  if isinstance (x,int):\r\n",
        "    return x, 0\r\n",
        "  return x.re, x.im\r\n",
        "\r\n",
        "class Complex:\r\n",
        "  I=1\r\n",
        "  def __init__(self, re,im=0):\r\n",
        "    self.re = re\r\n",
        "    self.im = im\r\n",
        "  def __str__ (self):\r\n",
        "    return str(self.re)+ ' + '+ str(self.im)+'i'  \r\n",
        "  def getArgument(self):\r\n",
        "    n = self.getModule()\r\n",
        "    return acos(self.re/n), asin(self.im/n)\r\n",
        "  def getModule(self):\r\n",
        "    return sqrt(self.re**2+self.im**2)\r\n",
        "  def __pow__(self, mode):\r\n",
        "    if mode==1:\r\n",
        "      return Complex(1,1)\r\n",
        "    else:\r\n",
        "        n = self.getModule()**mode\r\n",
        "        x, y = self.getArgument()\r\n",
        "        x*=mode\r\n",
        "        y*=mode\r\n",
        "        return Complex(int(n*cos(x)), int(n*sin(y)))\r\n",
        "  def __add__(self, x):\r\n",
        "    c, d = check(x)\r\n",
        "    return Complex(self.re+c, self.im+d)\r\n",
        "  def __sub__(self, x):\r\n",
        "    c, d = check(x)\r\n",
        "    return Complex(self.re-c, self.im-d)\r\n",
        "  def __mul__(self, x):\r\n",
        "    c, d = check(x)\r\n",
        "    return Complex(self.re*c-self.im*d, self.re*d+self.im*c) \r\n",
        "  def __truediv__(self, x):\r\n",
        "    c, d = check(x)\r\n",
        "    return Complex((self.re*c+self.im*d)/(c**2+d**2), (self.im*c+self.re*d)/(c**2+d**2))\r\n",
        "  def toLatex(self):\r\n",
        "    s=\" \"\r\n",
        "    if self.im>0:\r\n",
        "      s = str(self.re)+\"+\" + str(self.im)+\"i\"\r\n",
        "    elif self.im<0:\r\n",
        "      s = str(self.re)+\"\" + str(self.im)+\"i\"\r\n",
        "    else:\r\n",
        "      s = str(self.re)\r\n",
        "    display(Math(s))"
      ],
      "execution_count": 38,
      "outputs": []
    },
    {
      "cell_type": "code",
      "metadata": {
        "colab": {
          "base_uri": "https://localhost:8080/"
        },
        "id": "zAhaPOYdfE7y",
        "outputId": "61aa6787-40b0-459b-cc14-3eb5e4fc0ada"
      },
      "source": [
        "x = Complex(1,2)\r\n",
        "print(x)\r\n",
        "y = Complex(2, 1)\r\n",
        "print('х в степени 2 => ',x**2)"
      ],
      "execution_count": 40,
      "outputs": [
        {
          "output_type": "stream",
          "text": [
            "1 + 2i\n",
            "х в степени 2 =>  -3 + 4i\n"
          ],
          "name": "stdout"
        }
      ]
    },
    {
      "cell_type": "code",
      "metadata": {
        "colab": {
          "base_uri": "https://localhost:8080/",
          "height": 55
        },
        "id": "BgWQljfTSiRP",
        "outputId": "fbbe2ae1-61f8-41aa-df0e-af22e951a4ba"
      },
      "source": [
        "print('y=>', y)\r\n",
        "y.toLatex()"
      ],
      "execution_count": 42,
      "outputs": [
        {
          "output_type": "stream",
          "text": [
            "y=> 2 + 1i\n"
          ],
          "name": "stdout"
        },
        {
          "output_type": "display_data",
          "data": {
            "text/latex": "$$2+1i$$",
            "text/plain": [
              "<IPython.core.display.Math object>"
            ]
          },
          "metadata": {
            "tags": []
          }
        }
      ]
    },
    {
      "cell_type": "code",
      "metadata": {
        "colab": {
          "base_uri": "https://localhost:8080/",
          "height": 38
        },
        "id": "I5eVOl9gUBrG",
        "outputId": "d11540ca-bc3e-473c-de0a-fcfa577cc1f9"
      },
      "source": [
        "t = Complex(-1, -3)\r\n",
        "t.toLatex()"
      ],
      "execution_count": 43,
      "outputs": [
        {
          "output_type": "display_data",
          "data": {
            "text/latex": "$$-1-3i$$",
            "text/plain": [
              "<IPython.core.display.Math object>"
            ]
          },
          "metadata": {
            "tags": []
          }
        }
      ]
    }
  ]
}