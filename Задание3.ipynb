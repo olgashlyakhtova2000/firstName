{
  "nbformat": 4,
  "nbformat_minor": 0,
  "metadata": {
    "colab": {
      "name": "Задание3.ipynb",
      "provenance": [],
      "collapsed_sections": [],
      "authorship_tag": "ABX9TyN5e2TQBzn+9hyoxvvDppCh",
      "include_colab_link": true
    },
    "kernelspec": {
      "name": "python3",
      "display_name": "Python 3"
    },
    "language_info": {
      "name": "python"
    }
  },
  "cells": [
    {
      "cell_type": "markdown",
      "metadata": {
        "id": "view-in-github",
        "colab_type": "text"
      },
      "source": [
        "<a href=\"https://colab.research.google.com/github/olgashlyakhtova2000/firstName/blob/main/%D0%97%D0%B0%D0%B4%D0%B0%D0%BD%D0%B8%D0%B53.ipynb\" target=\"_parent\"><img src=\"https://colab.research.google.com/assets/colab-badge.svg\" alt=\"Open In Colab\"/></a>"
      ]
    },
    {
      "cell_type": "code",
      "metadata": {
        "id": "Z-doE_JE9iQ0"
      },
      "source": [
        "from IPython.display import display, Math\n",
        "import matplotlib\n",
        "import matplotlib.pyplot as plt"
      ],
      "execution_count": 65,
      "outputs": []
    },
    {
      "cell_type": "code",
      "metadata": {
        "id": "zvA93RjgnlVs"
      },
      "source": [
        "def add(x, y):\n",
        "  return ['+', x, y]\n",
        "\n",
        "def mul(x, y):\n",
        "  return ['*', x, y]\n",
        "\n",
        "def div(x, y):\n",
        "  return [\"/\", x, y]\n",
        "\n",
        "def sub(x, y):\n",
        "  return [\"-\", x, y]\n",
        "\n",
        "def pow(x, y):\n",
        "  return [\"^\", x, y]\n"
      ],
      "execution_count": 66,
      "outputs": []
    },
    {
      "cell_type": "code",
      "metadata": {
        "id": "hD8odMG1p-uZ"
      },
      "source": [
        "def fsqrt(x):\n",
        "  return ['sqrt', x]\n",
        "\n",
        "def fsin(x):\n",
        "  return ['sin', x]\n",
        "\n",
        "def fcos(x):\n",
        "  return ['cos', x]\n",
        "\n",
        "def ftan(x):\n",
        "  return ['tan', x]\n",
        "\n",
        "def fctan(x):\n",
        "  return ['ctan', x]\n",
        "\n",
        "def fsinh(x):\n",
        "  return ['sinh', x]\n",
        "\n",
        "def fcosh(x):\n",
        "  return ['cosh', x]\n",
        "\n",
        "def ftanh(x):\n",
        "  return ['tanh', x]\n",
        "\n",
        "def fctanh(x):\n",
        "  return ['ctanh', x]\n",
        "\n",
        "def fasinh(x):\n",
        "  return ['asinh', x]\n",
        "\n",
        "def facosh(x):\n",
        "  return ['acosh', x]\n",
        "\n",
        "def fatanh(x):\n",
        "  return ['atanh', x]\n",
        "\n",
        "def factanh(x):\n",
        "  return ['actanh', x]\n",
        "\n",
        "def fasin(x):\n",
        "  return ['asim', x]\n",
        "\n",
        "def facos(x):\n",
        "  return ['acos', x]\n",
        "\n",
        "def fatan(x):\n",
        "  return ['atan', x]\n",
        "\n",
        "def factan(x):\n",
        "  return ['actan', x]\n",
        "\n",
        "def fln(x):\n",
        "  return ['ln', x]\n",
        "\n",
        "def fpi():\n",
        "  return ['pi']\n",
        "\n",
        "def fexp():\n",
        "  return ['e']"
      ],
      "execution_count": 67,
      "outputs": []
    },
    {
      "cell_type": "code",
      "metadata": {
        "id": "Jp01o0iKuY21"
      },
      "source": [
        "def flg(x):\n",
        "  return ['lg', x]\n",
        "def flog(x, a):\n",
        "  return ['log_a', x, a]\n",
        "def fsqrtn(x, n):\n",
        "  return ['sqrt_n', x, n]"
      ],
      "execution_count": 82,
      "outputs": []
    },
    {
      "cell_type": "code",
      "metadata": {
        "id": "5tW4vUt8qpAx"
      },
      "source": [
        "def check(x):\n",
        "  if isinstance(x, Expression):\n",
        "    return x\n",
        "  return Expression(x)\n",
        "\n",
        "class Expression:\n",
        "  def __init__(self, f):\n",
        "    self.f = f\n",
        "  def __add__(self, x):\n",
        "    x = check(x)\n",
        "    return Expression(add(self.f, x.f))\n",
        "  def __sub__(self, x):\n",
        "    x = check(x)\n",
        "    return Expression(sub(self.f, x.f))\n",
        "  def __mul__(self, x):\n",
        "    x = check(x)\n",
        "    return Expression(mul(self.f, x.f))\n",
        "  def __truediv__(self, x):\n",
        "    x = check(x)\n",
        "    return Expression(div(self.f, x.f))\n",
        "  def __pow__(self, x):\n",
        "    x = check(x)\n",
        "    return Expression(pow(self.f, x.f))\n",
        "  def __radd__(self, x):\n",
        "    x = check(x)\n",
        "    return Expression(add(x.f, self.f))\n",
        "  def __rsub__(self, x):\n",
        "    x = check(x)\n",
        "    return Expression(sub(x.f, self.f))\n",
        "  def __rmul__(self, x):\n",
        "    x = check(x)\n",
        "    return Expression(mul(x.f, self.f))\n",
        "  def __rtruediv__(self, x):\n",
        "    x = check(x)\n",
        "    return Expression(div(x.f, self.f))\n",
        "  def __rpow__(self, x):\n",
        "    x = check(x)\n",
        "    return Expression(pow(x.f, self.f))\n",
        "  def subs(self, var, val):\n",
        "    return Expression(substitute(self.f, var, val))\n",
        "  def evalf(self):\n",
        "    return evaluate(self.f)\n",
        "  def __str__(self):\n",
        "    return expr2latex(self.f)\n",
        "  def show(self):\n",
        "    display(Math(expr2latex(self.f)))"
      ],
      "execution_count": 69,
      "outputs": []
    },
    {
      "cell_type": "code",
      "metadata": {
        "id": "8AUaU6XRwmgx"
      },
      "source": [
        "  def sqrt(x):\n",
        "    x = check(x)\n",
        "    t = x.f\n",
        "    r = fsqrt(t)\n",
        "    return Expression(r)\n",
        "  def sin(x):\n",
        "    return Expression(fsin(check(x).f))\n",
        "  def cos(x):\n",
        "    return Expression(fcos(check(x).f))\n",
        "  def tan(x):\n",
        "    return Expression(ftan(check(x).f))\n",
        "  def ctan(x):\n",
        "    return Expression(fctan(check(x).f))\n",
        "  def acos(x):\n",
        "    return Expression(facos(check(x).f))\n",
        "  def asin(x):\n",
        "    return Expression(fasin(check(x).f))\n",
        "  def atan(x):\n",
        "    return Expression(fatan(check(x).f))\n",
        "  def actan(x):\n",
        "    return Expression(fcatan(check(x).f))\n",
        "  def sinh(x):\n",
        "    return Expression(fsinh(check(x).f))\n",
        "  def cosh(x):\n",
        "    return Expression(fcosh(check(x).f))\n",
        "  def tanh(x):\n",
        "    return Expression(ftanh(check(x).f))\n",
        "  def ctanh(x):\n",
        "    return Expression(fctanh(check(x).f))\n",
        "  def asinh(x):\n",
        "    return Expression(fasinh(check(x).f))\n",
        "  def aacosh(x):\n",
        "    return Expression(facosh(check(x).f))\n",
        "  def atanh(x):\n",
        "    return Expression(fatanh(check(x).f))\n",
        "  def ctanh(x):\n",
        "    return Expression(factanh(check(x).f))\n",
        "  def ln(x):\n",
        "    return Expression(fln(check(x).f))\n",
        "  def lg(x):\n",
        "    return Expression(flg(check(x).f))\n",
        "  def log(x, a):\n",
        "    return Expression(flog(check(x).f, check(a).f))\n",
        "  def pi():\n",
        "    return Expression(fpi().f)\n",
        "  def exp():\n",
        "    return Expression(fexp().f)   "
      ],
      "execution_count": 70,
      "outputs": []
    },
    {
      "cell_type": "code",
      "metadata": {
        "id": "c2rMkZYs7VrI"
      },
      "source": [
        "def substitute(f, var, val):\n",
        "  val = check(val).f\n",
        "  if f == var:\n",
        "    return val\n",
        "  elif isinstance(f, list):\n",
        "    y = [f[0]]\n",
        "    for i in range(1, len(f)):\n",
        "      t = substitute(f[i], var, val)\n",
        "      y.append(t)\n",
        "    return y\n",
        "  else:\n",
        "    return f\n",
        "\n",
        "def evaluate(f):\n",
        "  if isinstance(f, (int, float)):\n",
        "    return f\n",
        "  elif isinstance(f, list):\n",
        "    if f[0] == \"+\": \n",
        "      return evaluate(f[1]) + evaluate(f[2])\n",
        "    elif f[0] == \"*\":\n",
        "      return evaluate(f[1]) * evaluate(f[2])\n",
        "    elif f[0] == \"/\": \n",
        "      return evaluate(f[1]) / evaluate(f[2])\n",
        "    elif f[0] == \"-\": \n",
        "      return evaluate(f[1]) - evaluate(f[2])\n",
        "    elif f[0] == \"sqrt\":\n",
        "      return sqrt(evaluate(f[1]))\n",
        "    elif f[0] == \"sqrt_n\":\n",
        "      return evaluate(f[1])**(1/evaluate(f[2]))\n",
        "    elif f[0] == \"sin\":\n",
        "      return sin(evaluate(f[1]))\n",
        "    elif f[0] == \"cos\":\n",
        "      return cos(evaluate(f[1]))\n",
        "    elif f[0] == \"tan\":\n",
        "      return tan(evaluate(f[1]))\n",
        "    elif f[0] == \"ctan\":\n",
        "      return 1/tan(evaluate(f[1]))\n",
        "    elif f[0] == \"asin\":\n",
        "      return asin(evaluate(f[1]))\n",
        "    elif f[0] == \"acos\":\n",
        "      return acos(evaluate(f[1]))\n",
        "    elif f[0] == \"atan\":\n",
        "      return atan(evaluate(f[1]))\n",
        "    elif f[0] == \"actan\":\n",
        "      return 1/atan(evaluate(f[1]))\n",
        "    elif f[0] == \"sinh\":\n",
        "      return sinh(evaluate(f[1]))\n",
        "    elif f[0] == \"cosh\":\n",
        "      return cosh(evaluate(f[1]))\n",
        "    elif f[0] == \"tanh\":\n",
        "      return tanh(evaluate(f[1]))\n",
        "    elif f[0] == \"ctanh\":\n",
        "      return 1/tanh(evaluate(f[1]))      \n",
        "    elif f[0] == \"asinh\":\n",
        "      return asinh(evaluate(f[1]))\n",
        "    elif f[0] == \"acosh\":\n",
        "      return acosh(evaluate(f[1]))\n",
        "    elif f[0] == \"atanh\":\n",
        "      return atanh(evaluate(f[1]))\n",
        "    elif f[0] == \"actanh\":\n",
        "      return 1/atanh(evaluate(f[1]))\n",
        "    elif f[0] == \"ln\":\n",
        "      return log1p(evaluate(f[1]))  \n",
        "    elif f[0] == \"lg\":\n",
        "      return log10(evaluate(f[1]))  \n",
        "    elif f[0] == \"log_a\":\n",
        "      return log(evaluate(f[1]), evaluate(f[2]))  \n",
        "  return None"
      ],
      "execution_count": 86,
      "outputs": []
    },
    {
      "cell_type": "code",
      "metadata": {
        "id": "_uAKFDITASVO"
      },
      "source": [
        "def expr2latex(x):\n",
        "  if isinstance(x, (int, float)):\n",
        "    return str(x)\n",
        "  if isinstance(x, str):\n",
        "    return x\n",
        "  if isinstance(x, list):\n",
        "    if x[0] == \"+\":\n",
        "      return expr2latex(x[1]) + \"+\" + expr2latex(x[2])\n",
        "    if x[0] == \"-\":\n",
        "      return expr2latex(x[1]) + \"-\" + expr2latex(x[2])\n",
        "    if x[0] == \"*\":\n",
        "      left = expr2latex(x[1])\n",
        "      if isinstance(x[1], list) and x[1][0] == \"+\":\n",
        "        left = \"\\\\left(\" + left + \"\\\\right)\"\n",
        "      right = expr2latex(x[2])\n",
        "      if isinstance(x[2], list) and x[2][0] == \"+\":\n",
        "        right = \"\\\\left(\" + right + \"\\\\right)\"\n",
        "      return left + \"\\\\cdot \" + right\n",
        "    if x[0] == \"/\":\n",
        "      return \"\\\\dfrac{\" + expr2latex(x[1]) + \"}{\" + expr2latex(x[2]) + \"}\"\n",
        "    if x[0] == \"^\":\n",
        "      left = expr2latex(x[1])\n",
        "      if isinstance(x[1], list):\n",
        "        left = \"\\\\left(\" + left + \"\\\\right)\"\n",
        "      right = expr2latex(x[2])\n",
        "      return \"{\" + left + \"}^{\" + right + \"}\"\n",
        "    if x[0] == \"--\":\n",
        "      a = expr2latex(x[1])\n",
        "      if isinstance(x[1], list):\n",
        "        a = \"\\\\left(\" + a + \"\\\\right)\"\n",
        "      return \"-{\" + a + \"}\"\n",
        "    if x[0] == \"sqrt\":\n",
        "      a = expr2latex(x[1])\n",
        "      return \"\\\\sqrt{\" + a + \"}\"\n",
        "    if x[0] == \"sin\":\n",
        "      a = expr2latex(x[1])\n",
        "      if isinstance(x[1], list):\n",
        "        a = \"\\\\left(\" + a + \"\\\\right)\"\n",
        "      return \"\\\\sin{\" + a + \"}\"\n",
        "    if x[0] == \"cos\":\n",
        "      a = expr2latex(x[1])\n",
        "      if isinstance(x[1], list):\n",
        "        a = \"\\\\left(\" + a + \"\\\\right)\"\n",
        "      return \"\\\\cos{\" + a + \"}\"\n",
        "    if x[0] == \"ln\":\n",
        "      a = expr2latex(x[1])\n",
        "      if isinstance(x[1], list):\n",
        "        a = \"\\\\left(\" + a + \"\\\\right)\"\n",
        "      return \"\\\\ln{\" + a + \"}\""
      ],
      "execution_count": 72,
      "outputs": []
    },
    {
      "cell_type": "code",
      "metadata": {
        "colab": {
          "base_uri": "https://localhost:8080/"
        },
        "id": "u-10g0yjq_aw",
        "outputId": "f3da0b8b-3b9e-49e8-d7e0-60a73cfaa217"
      },
      "source": [
        "k = Expression('k')\n",
        "b = Expression('b')\n",
        "print(k.f, b.f)\n",
        "z = (k + b) * k\n",
        "z.f"
      ],
      "execution_count": 73,
      "outputs": [
        {
          "output_type": "stream",
          "text": [
            "k b\n"
          ],
          "name": "stdout"
        },
        {
          "output_type": "execute_result",
          "data": {
            "text/plain": [
              "['*', ['+', 'k', 'b'], 'k']"
            ]
          },
          "metadata": {
            "tags": []
          },
          "execution_count": 73
        }
      ]
    },
    {
      "cell_type": "code",
      "metadata": {
        "colab": {
          "base_uri": "https://localhost:8080/"
        },
        "id": "iezTJswkxeFU",
        "outputId": "34002cba-0f10-4633-a210-5e8601e0cba9"
      },
      "source": [
        "d = lg(k)\n",
        "d.f"
      ],
      "execution_count": 74,
      "outputs": [
        {
          "output_type": "execute_result",
          "data": {
            "text/plain": [
              "['lg', 'k']"
            ]
          },
          "metadata": {
            "tags": []
          },
          "execution_count": 74
        }
      ]
    },
    {
      "cell_type": "code",
      "metadata": {
        "colab": {
          "base_uri": "https://localhost:8080/"
        },
        "id": "WwQW3jdBy1_n",
        "outputId": "1943fdcb-2d5d-45b8-c2c9-464508fab25d"
      },
      "source": [
        "g = log(k, 3)\n",
        "g.f"
      ],
      "execution_count": 75,
      "outputs": [
        {
          "output_type": "execute_result",
          "data": {
            "text/plain": [
              "['log_3', 'k', 3]"
            ]
          },
          "metadata": {
            "tags": []
          },
          "execution_count": 75
        }
      ]
    },
    {
      "cell_type": "code",
      "metadata": {
        "colab": {
          "base_uri": "https://localhost:8080/"
        },
        "id": "yJ47Ta8yy33X",
        "outputId": "4fb317c6-0073-4092-ef76-1228236dfdcd"
      },
      "source": [
        "g = sinh(tan(k+k**2))*2\n",
        "g.f"
      ],
      "execution_count": 76,
      "outputs": [
        {
          "output_type": "execute_result",
          "data": {
            "text/plain": [
              "['*', ['sinh', ['tan', ['+', 'k', ['^', 'k', 2]]]], 2]"
            ]
          },
          "metadata": {
            "tags": []
          },
          "execution_count": 76
        }
      ]
    },
    {
      "cell_type": "code",
      "metadata": {
        "colab": {
          "base_uri": "https://localhost:8080/"
        },
        "id": "vx5Q-EX36_IZ",
        "outputId": "15b8c8df-9fdc-4b49-bc8b-cd84eb7b9e9a"
      },
      "source": [
        "g = sinh(tan(k+k**2))*2\n",
        "g.subs('k', 3).f"
      ],
      "execution_count": 78,
      "outputs": [
        {
          "output_type": "execute_result",
          "data": {
            "text/plain": [
              "['*', ['sinh', ['tan', ['+', 3, ['^', 3, 2]]]], 2]"
            ]
          },
          "metadata": {
            "tags": []
          },
          "execution_count": 78
        }
      ]
    },
    {
      "cell_type": "code",
      "metadata": {
        "colab": {
          "base_uri": "https://localhost:8080/",
          "height": 38
        },
        "id": "Hjf5pvTa_Z1w",
        "outputId": "3eee1e31-578f-4429-f0ab-ed2a67714711"
      },
      "source": [
        "x = Expression('x')\n",
        "g = x+1\n",
        "g.subs('x', 5).evalf()\n",
        "g.show()"
      ],
      "execution_count": 79,
      "outputs": [
        {
          "output_type": "display_data",
          "data": {
            "text/latex": "$$x+1$$",
            "text/plain": [
              "<IPython.core.display.Math object>"
            ]
          },
          "metadata": {
            "tags": []
          }
        }
      ]
    },
    {
      "cell_type": "code",
      "metadata": {
        "id": "ub_LHjZzAUqF"
      },
      "source": [
        ""
      ],
      "execution_count": null,
      "outputs": []
    }
  ]
}