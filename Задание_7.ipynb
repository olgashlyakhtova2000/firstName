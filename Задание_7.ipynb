{
  "nbformat": 4,
  "nbformat_minor": 0,
  "metadata": {
    "colab": {
      "name": "Задание 7.ipynb",
      "provenance": [],
      "collapsed_sections": [],
      "authorship_tag": "ABX9TyOuXGlLBJg+6WlepbFbiswk",
      "include_colab_link": true
    },
    "kernelspec": {
      "name": "python3",
      "display_name": "Python 3"
    },
    "language_info": {
      "name": "python"
    }
  },
  "cells": [
    {
      "cell_type": "markdown",
      "metadata": {
        "id": "view-in-github",
        "colab_type": "text"
      },
      "source": [
        "<a href=\"https://colab.research.google.com/github/olgashlyakhtova2000/firstName/blob/main/%D0%97%D0%B0%D0%B4%D0%B0%D0%BD%D0%B8%D0%B5_7.ipynb\" target=\"_parent\"><img src=\"https://colab.research.google.com/assets/colab-badge.svg\" alt=\"Open In Colab\"/></a>"
      ]
    },
    {
      "cell_type": "code",
      "metadata": {
        "id": "hRQBdrkMXzDz"
      },
      "source": [
        "from IPython.display import display, Math\n",
        "import matplotlib\n",
        "import matplotlib.pyplot as plt"
      ],
      "execution_count": 1,
      "outputs": []
    },
    {
      "cell_type": "code",
      "metadata": {
        "id": "u9la1-X3X-oX"
      },
      "source": [
        "def add(x, y):\n",
        "  return ['+', x, y]\n",
        "\n",
        "def mul(x, y):\n",
        "  return ['*', x, y]\n",
        "\n",
        "def div(x, y):\n",
        "  return [\"/\", x, y]\n",
        "\n",
        "def sub(x, y):\n",
        "  return [\"-\", x, y]\n",
        "\n",
        "def pow(x, y):\n",
        "  return [\"^\", x, y]\n",
        "\n",
        "def neg(x):\n",
        "  return [\"--\", x]\n",
        "\n",
        "def eq(x, y):\n",
        "  return [\"=\", x, y]\n"
      ],
      "execution_count": 2,
      "outputs": []
    },
    {
      "cell_type": "code",
      "metadata": {
        "id": "gCamrhUIYEIx"
      },
      "source": [
        "def fsqrt(x):\n",
        "  return ['sqrt', x]\n",
        "\n",
        "def fsin(x):\n",
        "  return ['sin', x]\n",
        "\n",
        "def fcos(x):\n",
        "  return ['cos', x]\n",
        "\n",
        "def fln(x):\n",
        "  return ['ln', x]"
      ],
      "execution_count": 3,
      "outputs": []
    },
    {
      "cell_type": "code",
      "metadata": {
        "id": "nvVklJMsYHdV"
      },
      "source": [
        "def check(x):\n",
        "  if isinstance(x, Expression):\n",
        "    return x\n",
        "  return Expression(x)\n",
        "\n",
        "class Expression:\n",
        "  def __init__(self, f):\n",
        "    self.f = f\n",
        "  def __add__(self, x):\n",
        "    x = check(x)\n",
        "    return Expression(add(self.f, x.f))\n",
        "  def __sub__(self, x):\n",
        "    x = check(x)\n",
        "    return Expression(sub(self.f, x.f))\n",
        "  def __mul__(self, x):\n",
        "    x = check(x)\n",
        "    return Expression(mul(self.f, x.f))\n",
        "  def __truediv__(self, x):\n",
        "    x = check(x)\n",
        "    return Expression(div(self.f, x.f))\n",
        "  def __pow__(self, x):\n",
        "    x = check(x)\n",
        "    return Expression(pow(self.f, x.f))\n",
        "  def __radd__(self, x):\n",
        "    x = check(x)\n",
        "    return Expression(add(x.f, self.f))\n",
        "  def __rsub__(self, x):\n",
        "    x = check(x)\n",
        "    return Expression(sub(x.f, self.f))\n",
        "  def __rmul__(self, x):\n",
        "    x = check(x)\n",
        "    return Expression(mul(x.f, self.f))\n",
        "  def __rtruediv__(self, x):\n",
        "    x = check(x)\n",
        "    return Expression(div(x.f, self.f))\n",
        "  def __rpow__(self, x):\n",
        "    x = check(x)\n",
        "    return Expression(pow(x.f, self.f))\n",
        "  def __neg__(self):\n",
        "    return Expression(neg(self.f))\n",
        "  def subs(self, var, val):\n",
        "    return Expression(substitute(self.f, var, val))\n",
        "  def evalf(self):\n",
        "    return evaluate(self.f)\n",
        "  def __str__(self):\n",
        "    return expr2latex(self.f)\n",
        "  def show(self):\n",
        "    display(Math(expr2latex(self.f)))\n",
        "  def diff(self, var):\n",
        "    var = check(var).f\n",
        "    return Expression(differentiate(self.f, var))\n",
        "  def simp(self):\n",
        "    return Expression(simplify(self.f))\n",
        "  def expn(self):\n",
        "    return Expression(expand(self.f))\n",
        "  def intg(self, var):\n",
        "    var = check(var).f\n",
        "    return Expression(integrate(self.f, var))\n",
        "  def __eq__(self, x):\n",
        "    x = check(x)\n",
        "    return Expression(eq(self.f, x.f))\n",
        "  def solve(self, var):\n",
        "    var = check(var).f\n",
        "    return Expression(solver(self.f, var))"
      ],
      "execution_count": 4,
      "outputs": []
    },
    {
      "cell_type": "code",
      "metadata": {
        "id": "Q8hTTU8UYPwV"
      },
      "source": [
        "def sqrt(x):\n",
        "  x = check(x)\n",
        "  t = x.f\n",
        "  r = fsqrt(t)\n",
        "  return Expression(r)\n",
        "\n",
        "def sin(x):\n",
        "  return Expression(fsin(check(x).f))\n",
        "\n",
        "def cos(x):\n",
        "  return Expression(fcos(check(x).f))\n",
        "\n",
        "def ln(x):\n",
        "  return Expression(fln(check(x).f))"
      ],
      "execution_count": 5,
      "outputs": []
    },
    {
      "cell_type": "code",
      "metadata": {
        "id": "kL0maqQNYTfb"
      },
      "source": [
        "def substitute(f, var, val):\n",
        "  var = check(var).f\n",
        "  val = check(val).f\n",
        "  if f == var:\n",
        "    return val\n",
        "  elif isinstance(f, list):\n",
        "    y = [f[0]]\n",
        "    for i in range(1, len(f)):\n",
        "      t = substitute(f[i], var, val)\n",
        "      y.append(t)\n",
        "    return y\n",
        "  else:\n",
        "    return f"
      ],
      "execution_count": 6,
      "outputs": []
    },
    {
      "cell_type": "code",
      "metadata": {
        "id": "so14JM2SYV1a"
      },
      "source": [
        "import math\n",
        "\n",
        "def evaluate(f):\n",
        "  if isinstance(f, (int, float)):\n",
        "    return f\n",
        "  elif isinstance(f, list):\n",
        "    if f[0] == \"+\": \n",
        "      return evaluate(f[1]) + evaluate(f[2])\n",
        "    elif f[0] == \"*\":\n",
        "      return evaluate(f[1]) * evaluate(f[2])\n",
        "    elif f[0] == \"-\": \n",
        "      return evaluate(f[1]) - evaluate(f[2])\n",
        "    elif f[0] == \"/\":\n",
        "      return evaluate(f[1]) / evaluate(f[2])\n",
        "    elif f[0] == \"sqrt\":\n",
        "      return math.sqrt(evaluate(f[1]))\n",
        "    elif f[0] == \"sin\":\n",
        "      return math.sin(evaluate(f[1]))\n",
        "    elif f[0] == \"cos\":\n",
        "      return math.cos(evaluate(f[1]))\n",
        "  return None\n",
        "  "
      ],
      "execution_count": 7,
      "outputs": []
    },
    {
      "cell_type": "code",
      "metadata": {
        "id": "NHP3jo9zYc0G"
      },
      "source": [
        "def symbols(vars):\n",
        "  return map(Expression, vars.split())\n",
        "\n",
        "x, y = symbols(\"x y\")  "
      ],
      "execution_count": 8,
      "outputs": []
    },
    {
      "cell_type": "code",
      "metadata": {
        "id": "YxukUAgtYgAr"
      },
      "source": [
        "def expr2latex(x):\n",
        "  if isinstance(x, (int, float)):\n",
        "    return str(x)\n",
        "  if isinstance(x, str):\n",
        "    return x\n",
        "  if isinstance(x, list):\n",
        "    if len(x)==2 and isinstance(x[0], (int, float, list)) and isinstance(x[1], (int, float, list)) :\n",
        "      if isinstance(x[0], list) and not isinstance(x[1], list):\n",
        "        return \"\\\\left[\"+expr2latex(simplify(x[0]))+\",\"+str(x[1])+\"\\\\right]\"\n",
        "      if isinstance(x[1], list) and not isinstance(x[0], list): \n",
        "        return \"\\\\left[\"+str(x[0])+\",\"+expr2latex(simplify(x[1]))+\"\\\\right]\"\n",
        "      if not isinstance(x[0], list) and not isinstance(x[1], list): \n",
        "        return \"\\\\left[\"+str(x[0])+\",\" +str(x[1])+\"\\\\right]\"\n",
        "      if isinstance(x[0], list) and isinstance(x[1], list):\n",
        "        #print(Expression(x).f)\n",
        "        return \"\\\\left[\"+expr2latex(simplify(x[0]))+\",\"+expr2latex(simplify(x[1]))+\"\\\\right]\"\n",
        "    if x[0] == \"+\":\n",
        "      return expr2latex(x[1]) + \"+\" + expr2latex(x[2])\n",
        "    if x[0] == \"-\":\n",
        "      return expr2latex(x[1]) + \"-\" + expr2latex(x[2])\n",
        "    if x[0] == \"*\":\n",
        "      left = expr2latex(x[1])\n",
        "      if isinstance(x[1], list) and x[1][0] == \"+\":\n",
        "        left = \"\\\\left(\" + left + \"\\\\right)\"\n",
        "      right = expr2latex(x[2])\n",
        "      if isinstance(x[2], list) and x[2][0] == \"+\":\n",
        "        right = \"\\\\left(\" + right + \"\\\\right)\"\n",
        "      return left + \"\\\\cdot \" + right\n",
        "    if x[0] == \"/\":\n",
        "      return \"\\\\dfrac{\" + expr2latex(x[1]) + \"}{\" + expr2latex(x[2]) + \"}\"\n",
        "    if x[0] == \"^\":\n",
        "      left = expr2latex(x[1])\n",
        "      if isinstance(x[1], list):\n",
        "        left = \"\\\\left(\" + left + \"\\\\right)\"\n",
        "      right = expr2latex(x[2])\n",
        "      return \"{\" + left + \"}^{\" + right + \"}\"\n",
        "    if x[0] == \"--\":\n",
        "      a = expr2latex(x[1])\n",
        "      if isinstance(x[1], list):\n",
        "        a = \"\\\\left(\" + a + \"\\\\right)\"\n",
        "      return \"-{\" + a + \"}\"\n",
        "    if x[0] == \"sqrt\":\n",
        "      a = expr2latex(x[1])\n",
        "      return \"\\\\sqrt{\" + a + \"}\"\n",
        "    if x[0] == \"sin\":\n",
        "      a = expr2latex(x[1])\n",
        "      if isinstance(x[1], list):\n",
        "        a = \"\\\\left(\" + a + \"\\\\right)\"\n",
        "      return \"\\\\sin{\" + a + \"}\"\n",
        "    if x[0] == \"cos\":\n",
        "      a = expr2latex(x[1])\n",
        "      if isinstance(x[1], list):\n",
        "        a = \"\\\\left(\" + a + \"\\\\right)\"\n",
        "      return \"\\\\cos{\" + a + \"}\"\n",
        "    if x[0] == \"ln\":\n",
        "      a = expr2latex(x[1])\n",
        "      if isinstance(x[1], list):\n",
        "        a = \"\\\\left(\" + a + \"\\\\right)\"\n",
        "      return \"\\\\ln{\" + a + \"}\"\n",
        "    if x[0] == \"int\":\n",
        "      a = expr2latex(x[1])\n",
        "      if isinstance(x[1], list) and x[1][0] in \"+-\":\n",
        "        a = \"\\\\left(\" + a + \"\\\\right)\"\n",
        "      return \"\\\\int{\" + a + \"}d\" + x[2]\n",
        "    if x[0] == \"=\":\n",
        "      return expr2latex(x[1]) + \"=\" + expr2latex(x[2])\n",
        "    if isinstance(x[0], list) and isinstance(x[1], list):\n",
        "      return \"\\\\left[\"+expr2latex(simplify(x[0]))+\",\"+expr2latex(simplify(x[1]))+\"\\\\right]\"\n"
      ],
      "execution_count": 9,
      "outputs": []
    },
    {
      "cell_type": "code",
      "metadata": {
        "id": "7CoODVrlYopl"
      },
      "source": [
        "def differentiate(f, x):\n",
        "  if isinstance(f, int):\n",
        "    return 0\n",
        "  if f == x:\n",
        "    return 1\n",
        "  if isinstance(f, str):\n",
        "    return 0\n",
        "  if isinstance(f, list):\n",
        "    if f[0] == \"+\":\n",
        "      u, v = f[1], f[2]\n",
        "      u1, v1 = differentiate(u, x), differentiate(v, x)\n",
        "      return add(u1, v1)\n",
        "    if f[0] == \"-\":\n",
        "      u, v = f[1], f[2]\n",
        "      u1, v1 = differentiate(u, x), differentiate(v, x)\n",
        "      return sub(u1, v1)      \n",
        "    if f[0] == \"*\":\n",
        "      u, v = f[1], f[2]\n",
        "      u1, v1 = differentiate(u, x), differentiate(v, x)\n",
        "      return add(mul(u1, v), mul(u, v1))   \n",
        "    if f[0] == \"/\":\n",
        "      u, v = f[1], f[2]\n",
        "      u1, v1 = differentiate(u, x), differentiate(v, x)\n",
        "      return div(sub(mul(u1, v), mul(u, v1)), pow(v, 2))   \n",
        "    if f[0] == \"^\":\n",
        "      u, v = f[1], f[2]\n",
        "      u1, v1 = differentiate(u, x), differentiate(v, x)\n",
        "      p1, p2 = pow(u, v), pow(u, sub(v, 1))\n",
        "      s1 = mul(p1, mul(v1, fln(u)))\n",
        "      s2 = mul(v, mul(p2, u1))\n",
        "      return add(s1, s2) \n",
        "    if f[0] == \"--\":\n",
        "      u = f[1]\n",
        "      u1 = differentiate(u, x)\n",
        "      return neg(u1)\n",
        "    if f[0] == \"ln\":\n",
        "      u = f[1]\n",
        "      u1 = differentiate(u, x)\n",
        "      return div(u1, u)\n",
        "    if f[0] == \"sin\":\n",
        "      u = f[1]\n",
        "      u1 = differentiate(u, x)\n",
        "      return mul(fcos(u), u1)\n",
        "    if f[0] == \"cos\":\n",
        "      u = f[1]\n",
        "      u1 = differentiate(u, x)\n",
        "      return mul(neg(fsin(u)), u1)\n",
        "    if f[0] == \"sqrt\":\n",
        "      u = f[1]\n",
        "      u1 = differentiate(u, x)\n",
        "      return div(u1, mul(2, fsqrt(u)))\n",
        "      "
      ],
      "execution_count": 10,
      "outputs": []
    },
    {
      "cell_type": "code",
      "metadata": {
        "id": "87qYEGJpXqRZ"
      },
      "source": [
        "def NOD(num1, num2):\n",
        "  while num1 != 0 and num2 != 0:\n",
        "      if num1 >= num2:\n",
        "          num1 -= num2\n",
        "      else:\n",
        "          num2 -= num1\n",
        "  return num1 or num2"
      ],
      "execution_count": 11,
      "outputs": []
    },
    {
      "cell_type": "code",
      "metadata": {
        "id": "PiC3ZZ9wXruG"
      },
      "source": [
        "def findSq(num):\n",
        "  max = int(math.sqrt(num))-1;\n",
        "  while max>1:\n",
        "    if num%max==0:\n",
        "     return max;\n",
        "    else: max=max-1;\n",
        "  return max;"
      ],
      "execution_count": 12,
      "outputs": []
    },
    {
      "cell_type": "code",
      "metadata": {
        "id": "36XBPkemYshn"
      },
      "source": [
        "def simplify(f):\n",
        "  if isinstance(f, list):\n",
        "    r = [f[0]]\n",
        "    for x in f[1:]:\n",
        "      r.append(simplify(x))\n",
        "    if r[0] == \"+\":\n",
        "      if isinstance(r[1], list) and isinstance(r[2], int):\n",
        "        if contains(r[1], \"--\"):\n",
        "          return r[2] - r[1][1]\n",
        "      if isinstance(r[1], int) and isinstance(r[2], int):\n",
        "        return r[1] + r[2] \n",
        "      if r[1] == 0: \n",
        "        return r[2]\n",
        "      if r[2] == 0:\n",
        "        return r[1]\n",
        "      if r[1] == r[2]:\n",
        "        return mul(2, r[1])\n",
        "      if isinstance(r[2], list) and r[2][0] == \"--\": # unary minus\n",
        "        return simplify(sub(r[1], r[2][1]))\n",
        "    if r[0] == \"-\":\n",
        "      if isinstance(r[1], list) and isinstance(r[2], int):\n",
        "        if contains(r[1], \"--\"):\n",
        "          return neg(r[1][1]+r[2])\n",
        "      if isinstance(r[1], int) and isinstance(r[2], int):\n",
        "        return r[1] - r[2]\n",
        "      if r[1] == 0: \n",
        "        return neg(r[2])\n",
        "      if r[2] == 0:\n",
        "        return r[1]\n",
        "      if r[1] == r[2]:\n",
        "        return 0\n",
        "      if isinstance(r[2], list) and r[2][0] == \"--\": # unary minus\n",
        "        return simplify(add(r[1], r[2][1]))\n",
        "      if isinstance (r[1], list) and isinstance(r[2], list):\n",
        "        return sub(simplify(r[1]), simplify(r[2]))\n",
        "    if r[0]==\"--\" and isinstance(r[1], list):\n",
        "      if contains(r[1], \"--\"):\n",
        "        return r[1][1]\n",
        "    if r[0] == \"*\":\n",
        "      if isinstance(r[1], int) and isinstance(r[2], int):\n",
        "        return r[1] * r[2] \n",
        "      if r[1] == 0 or r[2] == 0: \n",
        "        return 0\n",
        "      if r[1] == 1:\n",
        "        return r[2]\n",
        "      if isinstance(r[2],list) and isinstance(r[1], int) and contains(r[2], \"--\"):\n",
        "        return neg(mul(r[1], r[2][1]))\n",
        "      if r[2] == 1:\n",
        "        return r[1]\n",
        "      if r[1] == r[2]:\n",
        "        return pow(r[1], 2)\n",
        "    if r[0] == \"/\":\n",
        "      if r[2] == 1:\n",
        "        return r[1]\n",
        "      if isinstance(r[1], int) and isinstance(r[2], int):\n",
        "        if NOD(r[1], r[2])==1:\n",
        "          return (int)(r[1] / r[2])\n",
        "        else:\n",
        "          a = NOD(r[1], r[2])\n",
        "          return div(r[1]//a, r[2]//a)\n",
        "      if r[1] == 0: \n",
        "        return 0\n",
        "      if r[2] == 1:\n",
        "        return r[1]\n",
        "      if r[2] == 0:\n",
        "        return \"error\"\n",
        "      if r[1] == r[2]:\n",
        "        return 1\n",
        "    if r[0] == \"^\":\n",
        "      if isinstance(r[1], int) and isinstance(r[2], int) and r[2] > 0:\n",
        "        return r[1] ** r[2] \n",
        "      if r[2] == 1: \n",
        "        return r[1]\n",
        "      if isinstance(r[1], list):\n",
        "        if contains(r[1], \"--\"):\n",
        "          return r[1][1]**r[2]\n",
        "    if r[0] == \"sqrt\":\n",
        "      if isinstance(r[1], list):\n",
        "        r[1] = simplify(r[1])\n",
        "\n",
        "      if isinstance(r[1], int):\n",
        "        if r[1]>0:\n",
        "          a = int(math.sqrt(r[1]))\n",
        "        elif r[1]<0:\n",
        "          return \"error\"\n",
        "        elif r[1]==0:\n",
        "          return 0\n",
        "        if a * a == r[1]:\n",
        "          return (int)(a)\n",
        "        return r \n",
        "    return r\n",
        "  return f "
      ],
      "execution_count": 31,
      "outputs": []
    },
    {
      "cell_type": "code",
      "metadata": {
        "id": "MbhQJRbxYzT7"
      },
      "source": [
        "def expand(f):\n",
        "  if isinstance(f, list):\n",
        "    r = [f[0]]\n",
        "    for x in f[1:]:\n",
        "      r.append(expand(x))\n",
        "    if r[0] == \"*\":\n",
        "      if isinstance(r[1], list) and r[1][0] == \"+\":\n",
        "        a = expand(mul(r[1][1], r[2]))\n",
        "        b = expand(mul(r[1][2], r[2]))\n",
        "        return add(a, b)\n",
        "      if isinstance(r[2], list) and r[2][0] == \"+\":\n",
        "        a = expand(mul(r[1], r[2][1]))\n",
        "        b = expand(mul(r[1], r[2][2]))\n",
        "        return add(a, b)\n",
        "    if r[0] == \"^\":\n",
        "      if isinstance(r[1], list) and r[1][0] == \"+\" and r[2] == 2:\n",
        "        a = pow(r[1][1], 2)\n",
        "        b = mul(2, mul(r[1][1], r[1][2]))\n",
        "        c = pow(r[1][2], 2)\n",
        "        return add(a, add(b, c))\n",
        "    return r\n",
        "  return f"
      ],
      "execution_count": 14,
      "outputs": []
    },
    {
      "cell_type": "code",
      "metadata": {
        "id": "YDmG9kgVY2md"
      },
      "source": [
        "def integral(f, x):\n",
        "  return [\"int\", f, x]\n",
        "\n",
        "def contains(f, x):\n",
        "  if f == x:\n",
        "    return True\n",
        "  if isinstance(f, (int, str)):\n",
        "    return False\n",
        "  if isinstance(f, list):\n",
        "    for a in f:\n",
        "      if contains(a, x):\n",
        "        return True\n",
        "  return False\n",
        "\n",
        "def integrate(f, x):\n",
        "  if not contains(f, x):\n",
        "    return mul(f, x)\n",
        "  if f == x:\n",
        "    return mul(div(1, 2), pow(x, 2))\n",
        "  if isinstance(f, list):\n",
        "    if f[0] == \"cos\" and f[1] == x:\n",
        "      return fsin(x)\n",
        "    if f[0] == \"sin\" and f[1] == x:\n",
        "      return neg(fcos(x))\n",
        "    if f[0] == \"sqrt\" and f[1] == x:\n",
        "      return mul(div(2, 3), mul(x, fsqrt(x)))\n",
        "    if f[0] == \"^\" and f[1] == x and not contains(f[2], x):\n",
        "      if f[2] == -1:\n",
        "        return fln(x)\n",
        "      else:\n",
        "        return mul(div(1, add(f[2], 1)), pow(x, add(f[2], 1))) \n",
        "    if f[0] == \"^\" and f[2] == x and not contains(f[1], x):\n",
        "      return mul(div(1, fln(f[1])), f)\n",
        "    if f[0] in \"+-\":\n",
        "      a = integrate(f[1], x)\n",
        "      b = integrate(f[2], x)\n",
        "      return [f[0], a, b]\n",
        "    if f[0] == \"*\" and not contains(f[1], x):\n",
        "      a = integrate(f[2], x)\n",
        "      return mul(f[1], a)\n",
        "    if f[0] == \"*\" and not contains(f[2], x):\n",
        "      a = integrate(f[1], x)\n",
        "      return mul(f[2], a)\n",
        "    if f[0] == \"/\" and not contains(f[2], x):\n",
        "      a = integrate(f[1], x)\n",
        "      return mul(div(1, f[2]), a)\n",
        "    if f[0] == \"*\" and f[1] == x:\n",
        "      t = x + \"t\"\n",
        "      g = substitute(f[2], pow(x, 2), t)\n",
        "      #Expression(g).show()\n",
        "      if not contains(g, x):\n",
        "        G = integrate(g, t)\n",
        "        if not contains(G, \"int\"): \n",
        "          F = substitute(G, t, pow(x, 2))\n",
        "          return mul(div(1, 2), F)\n",
        "\n",
        "  return integral(f, x)"
      ],
      "execution_count": 15,
      "outputs": []
    },
    {
      "cell_type": "code",
      "metadata": {
        "colab": {
          "base_uri": "https://localhost:8080/",
          "height": 55
        },
        "id": "iyCcRCn-ZF6c",
        "outputId": "437db96c-007b-4a0d-d217-c06874352822"
      },
      "source": [
        "z = x +5 == 2\n",
        "print(z.f)\n",
        "z.show()"
      ],
      "execution_count": null,
      "outputs": [
        {
          "output_type": "stream",
          "text": [
            "['=', ['+', 'x', 5], 2]\n"
          ],
          "name": "stdout"
        },
        {
          "output_type": "display_data",
          "data": {
            "text/latex": "$$x+5=2$$",
            "text/plain": [
              "<IPython.core.display.Math object>"
            ]
          },
          "metadata": {
            "tags": []
          }
        }
      ]
    },
    {
      "cell_type": "code",
      "metadata": {
        "id": "GP2vDpKoZZ4c"
      },
      "source": [
        "def ur(f,x):\n",
        "  a = 0\n",
        "  b = 0\n",
        "  c = 0\n",
        "  d =0\n",
        "  if isinstance(f[1][2], int) or isinstance(f[1][1], int):\n",
        "    if f[1][0] not in \"+-\" and not contains(f, \"+\") and not contains(f, \"-\"):\n",
        "      if f[2] ==0: #only a*x^2==0\n",
        "        return [fsqrt(f[2]),neg(fsqrt(f[2]))]\n",
        "      else:\n",
        "        if f[1][0]==\"*\":\n",
        "          return [fsqrt(div(f[2],f[1][1])),neg(fsqrt(div(f[2],f[1][1])))]\n",
        "    else:\n",
        "      if f[1][1][0] not in \"+-\" and (f[1][0]==\"-\" or f[1][0]==\"+\"): #ax**2+c\n",
        "        if not contains(f[1][1], \"-\") and  not contains(f[1][1], \"+\"):\n",
        "          if f[1][0]==\"-\":\n",
        "            c = neg(f[1][2])\n",
        "          else:\n",
        "            c = f[1][2]\n",
        "        if contains(f[1][1], \"*\"):\n",
        "          a = f[1][1][1]\n",
        "        else:\n",
        "          a = 1\n",
        "        d = sub(pow(b,2), mul(4, mul(a,c))) \n",
        "        return [div(add(neg(b),fsqrt(d)), mul(2, a)), div(sub(neg(b),fsqrt(d)),  mul(2, a))]\n",
        "      else:\n",
        "        if isinstance(f[1][2], int):\n",
        "          if f[1][0] ==\"-\":\n",
        "            c = neg(sub(f[1][2],f[2]))\n",
        "          else:\n",
        "            c = sub(f[1][2],f[2])\n",
        "          if contains(f[1][1][2], \"*\"):\n",
        "            if f[1][1][0]==\"-\":\n",
        "              b = neg(f[1][1][2][1])\n",
        "            else:\n",
        "              b = f[1][1][2][1]\n",
        "          else:\n",
        "            b = 1\n",
        "          if contains(f[1][1][1], \"*\"):\n",
        "            a = f[1][1][1][1]\n",
        "          else:\n",
        "            a = 1\n",
        "        elif contains(f[1][2], \"*\"):\n",
        "          c =neg(f[2])\n",
        "          b = f[1][2][1]\n",
        "          if contains(f[1][1], \"*\"):\n",
        "            if f[1][1][0]==\"-\":\n",
        "              a = neg(f[1][1][1][1])\n",
        "            else:\n",
        "              a = f[1][1][1][1]\n",
        "        d = sub(pow(b,2), mul(4, mul(a,c))) #do without d, only expression\n",
        "        return [div(add(neg(b),fsqrt(d)), mul(2, a)), div(sub(neg(b),fsqrt(d)),  mul(2, a))]\n",
        "  else:\n",
        "    if contains(f[1][1], \"*\"):\n",
        "      a = f[1][1][1]\n",
        "    else:\n",
        "      a = 1\n",
        "    if contains(f[1][2], \"*\"):\n",
        "      if f[1][0]==\"-\":\n",
        "        b = neg(f[1][2][1])\n",
        "      else:\n",
        "        b = f[1][2][1]\n",
        "    else:\n",
        "      if f[1][0]==\"-\":\n",
        "        b = neg(1)\n",
        "      else:\n",
        "        b = 1\n",
        "    c = neg(f[2])\n",
        "    d = sub(pow(b,2), mul(4, mul(a,c))) #do without d, only expression\n",
        "    return [div(add(neg(b),fsqrt(d)), mul(2, a)), div(sub(neg(b),fsqrt(d)),  mul(2, a))]\n",
        "    #return [6,7]\n",
        "\n",
        "\n",
        "\n",
        "        \n",
        "      \n",
        "    "
      ],
      "execution_count": 30,
      "outputs": []
    },
    {
      "cell_type": "code",
      "metadata": {
        "colab": {
          "base_uri": "https://localhost:8080/",
          "height": 60
        },
        "id": "PYGybfNPXmb6",
        "outputId": "c738c8d9-e667-4fbf-a58e-1a662396b36a"
      },
      "source": [
        "z = x**2+9==0\n",
        "z.show()\n",
        "m = []\n",
        "m = z.solve(x)\n",
        "m.show()"
      ],
      "execution_count": null,
      "outputs": [
        {
          "output_type": "display_data",
          "data": {
            "text/latex": "$${x}^{2}+9=0$$",
            "text/plain": [
              "<IPython.core.display.Math object>"
            ]
          },
          "metadata": {
            "tags": []
          }
        },
        {
          "output_type": "display_data",
          "data": {
            "text/latex": "$$\\left[error,error\\right]$$",
            "text/plain": [
              "<IPython.core.display.Math object>"
            ]
          },
          "metadata": {
            "tags": []
          }
        }
      ]
    },
    {
      "cell_type": "code",
      "metadata": {
        "colab": {
          "base_uri": "https://localhost:8080/",
          "height": 96
        },
        "id": "M-qRehQCWck2",
        "outputId": "d3ebde46-e108-4cff-9d0c-70fbac95aded"
      },
      "source": [
        "z = 5*x**2+7==0\n",
        "print(z.f)\n",
        "z.show()\n",
        "m = []\n",
        "m = z.solve(x)\n",
        "m.show()"
      ],
      "execution_count": null,
      "outputs": [
        {
          "output_type": "stream",
          "text": [
            "['=', ['+', ['*', 5, ['^', 'x', 2]], 7], 0]\n"
          ],
          "name": "stdout"
        },
        {
          "output_type": "display_data",
          "data": {
            "text/latex": "$$5\\cdot {x}^{2}+7=0$$",
            "text/plain": [
              "<IPython.core.display.Math object>"
            ]
          },
          "metadata": {
            "tags": []
          }
        },
        {
          "output_type": "display_data",
          "data": {
            "text/latex": "$$\\left[\\dfrac{-{0}+error}{10},\\dfrac{-{0}-error}{10}\\right]$$",
            "text/plain": [
              "<IPython.core.display.Math object>"
            ]
          },
          "metadata": {
            "tags": []
          }
        }
      ]
    },
    {
      "cell_type": "code",
      "metadata": {
        "colab": {
          "base_uri": "https://localhost:8080/",
          "height": 96
        },
        "id": "wOnjIpnxBsQ3",
        "outputId": "4b8bcbe0-bfd0-4ec7-a540-ba8dd6deab9d"
      },
      "source": [
        "z = x**2-3*x+2==0\n",
        "print(z.f)\n",
        "z.show()\n",
        "m = []\n",
        "m = z.solve(x)\n",
        "m.show()"
      ],
      "execution_count": null,
      "outputs": [
        {
          "output_type": "stream",
          "text": [
            "['=', ['+', ['-', ['^', 'x', 2], ['*', 3, 'x']], 2], 0]\n"
          ],
          "name": "stdout"
        },
        {
          "output_type": "display_data",
          "data": {
            "text/latex": "$${x}^{2}-3\\cdot x+2=0$$",
            "text/plain": [
              "<IPython.core.display.Math object>"
            ]
          },
          "metadata": {
            "tags": []
          }
        },
        {
          "output_type": "display_data",
          "data": {
            "text/latex": "$$\\left[\\dfrac{2}{1},\\dfrac{1}{1}\\right]$$",
            "text/plain": [
              "<IPython.core.display.Math object>"
            ]
          },
          "metadata": {
            "tags": []
          }
        }
      ]
    },
    {
      "cell_type": "code",
      "metadata": {
        "colab": {
          "base_uri": "https://localhost:8080/",
          "height": 85
        },
        "id": "4DDx2WIzUH1v",
        "outputId": "412188a0-d912-4422-ade5-eb8d4d842660"
      },
      "source": [
        "z = 5*x**2-8*x-6==0\n",
        "print(z.f)\n",
        "m = []\n",
        "m = z.solve(x)\n",
        "m.show()"
      ],
      "execution_count": null,
      "outputs": [
        {
          "output_type": "stream",
          "text": [
            "['=', ['-', ['-', ['*', 5, ['^', 'x', 2]], ['*', 8, 'x']], 6], 0]\n"
          ],
          "name": "stdout"
        },
        {
          "output_type": "display_data",
          "data": {
            "text/latex": "$$\\left[\\dfrac{8+\\sqrt{184}}{10},\\dfrac{8-\\sqrt{184}}{10}\\right]$$",
            "text/plain": [
              "<IPython.core.display.Math object>"
            ]
          },
          "metadata": {
            "tags": []
          }
        }
      ]
    },
    {
      "cell_type": "code",
      "metadata": {
        "colab": {
          "base_uri": "https://localhost:8080/",
          "height": 96
        },
        "id": "mqK34OieaPlQ",
        "outputId": "b768b90f-ee53-4ebf-9dd6-b2767c49dc68"
      },
      "source": [
        "z = 6*x**2-7*x==0\n",
        "print(z.f)\n",
        "z.show()\n",
        "m = []\n",
        "m = z.solve(x)\n",
        "m.show()"
      ],
      "execution_count": null,
      "outputs": [
        {
          "output_type": "stream",
          "text": [
            "['=', ['-', ['*', 6, ['^', 'x', 2]], ['*', 7, 'x']], 0]\n"
          ],
          "name": "stdout"
        },
        {
          "output_type": "display_data",
          "data": {
            "text/latex": "$$6\\cdot {x}^{2}-7\\cdot x=0$$",
            "text/plain": [
              "<IPython.core.display.Math object>"
            ]
          },
          "metadata": {
            "tags": []
          }
        },
        {
          "output_type": "display_data",
          "data": {
            "text/latex": "$$\\left[\\dfrac{7}{6},\\dfrac{0}{1}\\right]$$",
            "text/plain": [
              "<IPython.core.display.Math object>"
            ]
          },
          "metadata": {
            "tags": []
          }
        }
      ]
    },
    {
      "cell_type": "code",
      "metadata": {
        "colab": {
          "base_uri": "https://localhost:8080/",
          "height": 96
        },
        "id": "f5XSLOmff2aR",
        "outputId": "d70b5b1d-adcf-4b16-b66e-fa95af4a26e8"
      },
      "source": [
        "z = x**2-7*x==0\n",
        "print(z.f)\n",
        "z.show()\n",
        "m = []\n",
        "m = z.solve(x)\n",
        "m.show()"
      ],
      "execution_count": null,
      "outputs": [
        {
          "output_type": "stream",
          "text": [
            "['=', ['-', ['^', 'x', 2], ['*', 7, 'x']], 0]\n"
          ],
          "name": "stdout"
        },
        {
          "output_type": "display_data",
          "data": {
            "text/latex": "$${x}^{2}-7\\cdot x=0$$",
            "text/plain": [
              "<IPython.core.display.Math object>"
            ]
          },
          "metadata": {
            "tags": []
          }
        },
        {
          "output_type": "display_data",
          "data": {
            "text/latex": "$$\\left[\\dfrac{7}{1},\\dfrac{0}{1}\\right]$$",
            "text/plain": [
              "<IPython.core.display.Math object>"
            ]
          },
          "metadata": {
            "tags": []
          }
        }
      ]
    },
    {
      "cell_type": "code",
      "metadata": {
        "colab": {
          "base_uri": "https://localhost:8080/",
          "height": 96
        },
        "id": "T-HUtbb1uuzo",
        "outputId": "fdaeae79-8e74-4a83-bd2a-fad1b90befc7"
      },
      "source": [
        "z = x**2-x==0\n",
        "print(z.f)\n",
        "z.show()\n",
        "m = []\n",
        "m = z.solve(x)\n",
        "m.show()"
      ],
      "execution_count": null,
      "outputs": [
        {
          "output_type": "stream",
          "text": [
            "['=', ['-', ['^', 'x', 2], 'x'], 0]\n"
          ],
          "name": "stdout"
        },
        {
          "output_type": "display_data",
          "data": {
            "text/latex": "$${x}^{2}-x=0$$",
            "text/plain": [
              "<IPython.core.display.Math object>"
            ]
          },
          "metadata": {
            "tags": []
          }
        },
        {
          "output_type": "display_data",
          "data": {
            "text/latex": "$$\\left[\\dfrac{1}{1},\\dfrac{0}{1}\\right]$$",
            "text/plain": [
              "<IPython.core.display.Math object>"
            ]
          },
          "metadata": {
            "tags": []
          }
        }
      ]
    },
    {
      "cell_type": "code",
      "metadata": {
        "colab": {
          "base_uri": "https://localhost:8080/",
          "height": 79
        },
        "id": "HG3ef9cOSBpe",
        "outputId": "b5c3e0bf-d173-48c1-975e-1d8538e17bb0"
      },
      "source": [
        "z = 6*x**2-6==0\n",
        "z.show()\n",
        "m = []\n",
        "m = z.solve(x)\n",
        "m.show()"
      ],
      "execution_count": null,
      "outputs": [
        {
          "output_type": "display_data",
          "data": {
            "text/latex": "$$6\\cdot {x}^{2}-6=0$$",
            "text/plain": [
              "<IPython.core.display.Math object>"
            ]
          },
          "metadata": {
            "tags": []
          }
        },
        {
          "output_type": "display_data",
          "data": {
            "text/latex": "$$\\left[\\dfrac{1}{1},\\dfrac{-{12}}{12}\\right]$$",
            "text/plain": [
              "<IPython.core.display.Math object>"
            ]
          },
          "metadata": {
            "tags": []
          }
        }
      ]
    },
    {
      "cell_type": "code",
      "metadata": {
        "colab": {
          "base_uri": "https://localhost:8080/",
          "height": 90
        },
        "id": "HAotDYNaUou0",
        "outputId": "afb55e55-aec4-4adb-daae-d58ed52cb007"
      },
      "source": [
        "z = x**2-6==0\n",
        "z.show()\n",
        "m = []\n",
        "m = z.solve(x)\n",
        "m.show()"
      ],
      "execution_count": null,
      "outputs": [
        {
          "output_type": "display_data",
          "data": {
            "text/latex": "$${x}^{2}-6=0$$",
            "text/plain": [
              "<IPython.core.display.Math object>"
            ]
          },
          "metadata": {
            "tags": []
          }
        },
        {
          "output_type": "display_data",
          "data": {
            "text/latex": "$$\\left[\\dfrac{-{0}+\\sqrt{-{\\left(-{24}\\right)}}}{2},\\dfrac{-{0}-\\sqrt{-{\\left(-{24}\\right)}}}{2}\\right]$$",
            "text/plain": [
              "<IPython.core.display.Math object>"
            ]
          },
          "metadata": {
            "tags": []
          }
        }
      ]
    },
    {
      "cell_type": "code",
      "metadata": {
        "id": "1ay9EuwWw9sg"
      },
      "source": [
        "def terms(f): \n",
        "  if isinstance(f, list) and f[0] == \"+\":\n",
        "    p1, n1 = terms(f[1])\n",
        "    p2, n2 = terms(f[2])\n",
        "    return p1 + p2, n1 + n2\n",
        "  if isinstance(f, list) and f[0] == \"-\":\n",
        "    p1, n1 = terms(f[1])\n",
        "    p2, n2 = terms(f[2]) # (p1 - n1) - (p2 - n2) = p1 - n1  - p2 + n2\n",
        "    return p1 + n2, n1 + p2\n",
        "  return [f], [] \n",
        " \n",
        "def factors(f): \n",
        "  if isinstance(f, list) and f[0] == \"*\":\n",
        "    n1, d1 = factors(f[1])\n",
        "    n2, d2 = factors(f[2]) # (n1 / d1) * (n2 / d2) --> (n1 * n2) / (d1 * d2)\n",
        "    return n1 + n2, d1 + d2\n",
        "  if isinstance(f, list) and f[0] == \"/\":\n",
        "    n1, d1 = factors(f[1])\n",
        "    n2, d2 = factors(f[2]) # (n1 / d1) / (n2 / d2) --> (n1 * d2) / (d1 * n2)\n",
        "    return n1 + d2, d1 + n2\n",
        "  return [f], [] \n",
        " \n",
        "def Mul(L):\n",
        "  res = L[0]\n",
        "  for i in L[1:]:\n",
        "    res = mul(res, i)\n",
        "  return res\n",
        " \n",
        "def solver(f, x):\n",
        "  if not contains(f, pow(x,2)):\n",
        "    ls, rs = f[1], f[2]\n",
        "    if contains(rs, x):\n",
        "      ls, rs = rs, ls\n",
        " \n",
        "    p, n = terms(ls)\n",
        "    for i in p:\n",
        "      if contains(i, x):\n",
        "        ls = i\n",
        "      else:\n",
        "        rs = sub(rs, i)\n",
        "    for i in n:\n",
        "      if contains(i, x):\n",
        "        ls = mul(-1, i)\n",
        "      else:\n",
        "        rs = add(rs, i)\n",
        " \n",
        "    if ls == x:\n",
        "      return eq(ls, rs) # solved!\n",
        " \n",
        "    nl, dl = factors(ls)\n",
        "    nr, dr = factors(rs)\n",
        "    for i in nl:\n",
        "      if contains(i, x):\n",
        "        ls = i\n",
        "        down = False\n",
        "      else:\n",
        "        dr.append(i)\n",
        "    for i in dl:\n",
        "      if contains(i, x):\n",
        "        ls = i\n",
        "        down = True\n",
        "      else:\n",
        "        nr.append(i)\n",
        "    if down:\n",
        "      nr, dr = dr, nr\n",
        "    if dr == []:\n",
        "      rs = Mul(nr)  \n",
        "    else:\n",
        "      rs = div(Mul(nr), Mul(dr))\n",
        " \n",
        "    if ls == x:\n",
        "      return eq(ls, rs) # solved!\n",
        " \n",
        "    if isinstance(ls, list) and ls[0] in \"+-\":\n",
        "      return solver(eq(ls, rs), x)  # recursive call\n",
        " \n",
        "  if contains(f, pow(x,2)):\n",
        "    m = []\n",
        "    m = ur(f,x)\n",
        "    return m\n",
        " \n",
        "  #ls = simplify(ls)\n",
        "  #rs = simplify(rs)\n",
        "  return eq(ls, rs)"
      ],
      "execution_count": 16,
      "outputs": []
    },
    {
      "cell_type": "code",
      "metadata": {
        "id": "Zq9br6TXdDLu",
        "colab": {
          "base_uri": "https://localhost:8080/",
          "height": 155
        },
        "outputId": "8ef6aeb5-c1e0-4f47-8f18-0c7119f8e781"
      },
      "source": [
        "z = (x - y) - (1 - (y**2 - 3))\n",
        "p, n = terms(z.f)\n",
        "print('+')\n",
        "for i in p:\n",
        "  Expression(i).show()\n",
        "print('-')\n",
        "for i in n:\n",
        "  Expression(i).show()  "
      ],
      "execution_count": 17,
      "outputs": [
        {
          "output_type": "stream",
          "text": [
            "+\n"
          ],
          "name": "stdout"
        },
        {
          "output_type": "display_data",
          "data": {
            "text/latex": "$$x$$",
            "text/plain": [
              "<IPython.core.display.Math object>"
            ]
          },
          "metadata": {
            "tags": []
          }
        },
        {
          "output_type": "display_data",
          "data": {
            "text/latex": "$${y}^{2}$$",
            "text/plain": [
              "<IPython.core.display.Math object>"
            ]
          },
          "metadata": {
            "tags": []
          }
        },
        {
          "output_type": "stream",
          "text": [
            "-\n"
          ],
          "name": "stdout"
        },
        {
          "output_type": "display_data",
          "data": {
            "text/latex": "$$y$$",
            "text/plain": [
              "<IPython.core.display.Math object>"
            ]
          },
          "metadata": {
            "tags": []
          }
        },
        {
          "output_type": "display_data",
          "data": {
            "text/latex": "$$1$$",
            "text/plain": [
              "<IPython.core.display.Math object>"
            ]
          },
          "metadata": {
            "tags": []
          }
        },
        {
          "output_type": "display_data",
          "data": {
            "text/latex": "$$3$$",
            "text/plain": [
              "<IPython.core.display.Math object>"
            ]
          },
          "metadata": {
            "tags": []
          }
        }
      ]
    },
    {
      "cell_type": "code",
      "metadata": {
        "colab": {
          "base_uri": "https://localhost:8080/",
          "height": 91
        },
        "id": "CvEhM5FQdOcA",
        "outputId": "1b223f27-f461-4a7c-bab5-434ae3c28720"
      },
      "source": [
        "z = 2 - 2 * x - 1 == 3\n",
        "print(z.f)\n",
        "z.show()\n",
        "z.solve(x).show()"
      ],
      "execution_count": 18,
      "outputs": [
        {
          "output_type": "stream",
          "text": [
            "['=', ['-', ['-', 2, ['*', 2, 'x']], 1], 3]\n"
          ],
          "name": "stdout"
        },
        {
          "output_type": "display_data",
          "data": {
            "text/latex": "$$2-2\\cdot x-1=3$$",
            "text/plain": [
              "<IPython.core.display.Math object>"
            ]
          },
          "metadata": {
            "tags": []
          }
        },
        {
          "output_type": "display_data",
          "data": {
            "text/latex": "$$x=\\dfrac{3-2+1}{-1\\cdot 2}$$",
            "text/plain": [
              "<IPython.core.display.Math object>"
            ]
          },
          "metadata": {
            "tags": []
          }
        }
      ]
    },
    {
      "cell_type": "code",
      "metadata": {
        "colab": {
          "base_uri": "https://localhost:8080/",
          "height": 120
        },
        "id": "eYWI_fcssBGh",
        "outputId": "7abd8492-829b-42e1-f831-39b1aacecc68"
      },
      "source": [
        "z = 2 * x / 3 == 4\n",
        "z.show()\n",
        "z.solve(x).show()\n",
        "z.solve(x).simp().show()"
      ],
      "execution_count": 19,
      "outputs": [
        {
          "output_type": "display_data",
          "data": {
            "text/latex": "$$\\dfrac{2\\cdot x}{3}=4$$",
            "text/plain": [
              "<IPython.core.display.Math object>"
            ]
          },
          "metadata": {
            "tags": []
          }
        },
        {
          "output_type": "display_data",
          "data": {
            "text/latex": "$$x=\\dfrac{4\\cdot 3}{2}$$",
            "text/plain": [
              "<IPython.core.display.Math object>"
            ]
          },
          "metadata": {
            "tags": []
          }
        },
        {
          "output_type": "display_data",
          "data": {
            "text/latex": "$$x=\\dfrac{6}{1}$$",
            "text/plain": [
              "<IPython.core.display.Math object>"
            ]
          },
          "metadata": {
            "tags": []
          }
        }
      ]
    },
    {
      "cell_type": "code",
      "metadata": {
        "id": "c07PtxwUtLJ8"
      },
      "source": [
        ""
      ],
      "execution_count": 19,
      "outputs": []
    },
    {
      "cell_type": "code",
      "metadata": {
        "colab": {
          "base_uri": "https://localhost:8080/",
          "height": 108
        },
        "id": "v75wW40NsIQ1",
        "outputId": "b123ffaf-f0af-4981-da5f-16d217f54272"
      },
      "source": [
        "z = 1 + 2 * (3 * x + 1) == 4\n",
        "z.show()\n",
        "q = z.solve(x)\n",
        "q.show()\n",
        "#print(q.f)\n",
        "print(evaluate(q.f[2]))"
      ],
      "execution_count": 20,
      "outputs": [
        {
          "output_type": "display_data",
          "data": {
            "text/latex": "$$1+2\\cdot \\left(3\\cdot x+1\\right)=4$$",
            "text/plain": [
              "<IPython.core.display.Math object>"
            ]
          },
          "metadata": {
            "tags": []
          }
        },
        {
          "output_type": "display_data",
          "data": {
            "text/latex": "$$x=\\dfrac{\\dfrac{4-1}{2}-1}{3}$$",
            "text/plain": [
              "<IPython.core.display.Math object>"
            ]
          },
          "metadata": {
            "tags": []
          }
        },
        {
          "output_type": "stream",
          "text": [
            "0.16666666666666666\n"
          ],
          "name": "stdout"
        }
      ]
    },
    {
      "cell_type": "code",
      "metadata": {
        "colab": {
          "base_uri": "https://localhost:8080/",
          "height": 54
        },
        "id": "k4cRwfkmf1QK",
        "outputId": "8562132a-523d-4df8-8ef6-976b8c79c97f"
      },
      "source": [
        "z = x**2==0\n",
        "print(z.f)\n",
        "m = []\n",
        "m = z.solve(x)\n",
        "m.show()\n"
      ],
      "execution_count": 32,
      "outputs": [
        {
          "output_type": "stream",
          "text": [
            "['=', ['^', 'x', 2], 0]\n"
          ],
          "name": "stdout"
        },
        {
          "output_type": "display_data",
          "data": {
            "text/latex": "$$\\left[0,-{0}\\right]$$",
            "text/plain": [
              "<IPython.core.display.Math object>"
            ]
          },
          "metadata": {
            "tags": []
          }
        }
      ]
    },
    {
      "cell_type": "code",
      "metadata": {
        "colab": {
          "base_uri": "https://localhost:8080/",
          "height": 38
        },
        "id": "EimQNNphifhp",
        "outputId": "7b8807ee-9446-43f6-c3ff-43ee677cc933"
      },
      "source": [
        "z = 6*x**2==36\n",
        "z.f\n",
        "m = []\n",
        "m = z.solve(x)\n",
        "m.show()"
      ],
      "execution_count": 33,
      "outputs": [
        {
          "output_type": "display_data",
          "data": {
            "text/latex": "$$\\left[\\sqrt{6},-{\\left(\\sqrt{6}\\right)}\\right]$$",
            "text/plain": [
              "<IPython.core.display.Math object>"
            ]
          },
          "metadata": {
            "tags": []
          }
        }
      ]
    },
    {
      "cell_type": "code",
      "metadata": {
        "id": "hLYVaJyfEiqO",
        "colab": {
          "base_uri": "https://localhost:8080/",
          "height": 68
        },
        "outputId": "d72f6b3e-0624-4cb0-a644-eed41f861349"
      },
      "source": [
        "z = 6*x**2-3==0\n",
        "z.f\n",
        "m = []\n",
        "m = z.solve(x)\n",
        "m.show()\n",
        "#z.solve(x).show()"
      ],
      "execution_count": 35,
      "outputs": [
        {
          "output_type": "display_data",
          "data": {
            "text/latex": "$$\\left[\\dfrac{-{0}+\\sqrt{72}}{12},\\dfrac{-{0}-\\sqrt{72}}{12}\\right]$$",
            "text/plain": [
              "<IPython.core.display.Math object>"
            ]
          },
          "metadata": {
            "tags": []
          }
        }
      ]
    },
    {
      "cell_type": "code",
      "metadata": {
        "id": "an-yrzErIm2h"
      },
      "source": [
        "z = x**2-5==0\n",
        "z.f"
      ],
      "execution_count": null,
      "outputs": []
    },
    {
      "cell_type": "code",
      "metadata": {
        "id": "2PDaRbJgy-Qy"
      },
      "source": [
        "z = 5*x**2-4*x==0\n",
        "z.f"
      ],
      "execution_count": null,
      "outputs": []
    },
    {
      "cell_type": "code",
      "metadata": {
        "id": "hklCXovF6MO3"
      },
      "source": [
        "z = 5*x**2-x-6==0\n",
        "z.f"
      ],
      "execution_count": null,
      "outputs": []
    },
    {
      "cell_type": "code",
      "metadata": {
        "id": "zG2Z0zQFGd7J"
      },
      "source": [
        "z = 6*x**2==0\n",
        "z.f\n",
        "print(isinstance(z, list))"
      ],
      "execution_count": null,
      "outputs": []
    },
    {
      "cell_type": "code",
      "metadata": {
        "id": "E44HI-XcC_ks"
      },
      "source": [
        "z = 6*x**2==0\n",
        "m = []\n",
        "m = z.solve(x)\n",
        "m.show()\n"
      ],
      "execution_count": null,
      "outputs": []
    },
    {
      "cell_type": "code",
      "metadata": {
        "id": "2SBF_DKJPYQP"
      },
      "source": [
        "z = x**2+5*x-4==0\n",
        "m = []\n",
        "m = z.solve(x)\n",
        "m.show()\n",
        "\n",
        "\n",
        "\n"
      ],
      "execution_count": null,
      "outputs": []
    }
  ]
}