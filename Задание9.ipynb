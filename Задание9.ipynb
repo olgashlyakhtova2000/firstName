{
  "nbformat": 4,
  "nbformat_minor": 0,
  "metadata": {
    "colab": {
      "name": "Задание9.ipynb",
      "provenance": [],
      "collapsed_sections": [],
      "authorship_tag": "ABX9TyPl2sBeXelrhjMJH4+8HL5w",
      "include_colab_link": true
    },
    "kernelspec": {
      "name": "python3",
      "display_name": "Python 3"
    },
    "language_info": {
      "name": "python"
    }
  },
  "cells": [
    {
      "cell_type": "markdown",
      "metadata": {
        "id": "view-in-github",
        "colab_type": "text"
      },
      "source": [
        "<a href=\"https://colab.research.google.com/github/olgashlyakhtova2000/firstName/blob/main/%D0%97%D0%B0%D0%B4%D0%B0%D0%BD%D0%B8%D0%B59.ipynb\" target=\"_parent\"><img src=\"https://colab.research.google.com/assets/colab-badge.svg\" alt=\"Open In Colab\"/></a>"
      ]
    },
    {
      "cell_type": "code",
      "metadata": {
        "id": "s_46jvW4rymf"
      },
      "source": [
        "from sympy import * \n",
        "from IPython.display import display"
      ],
      "execution_count": 1,
      "outputs": []
    },
    {
      "cell_type": "markdown",
      "metadata": {
        "id": "QZ_A9bc-sK11"
      },
      "source": [
        "Алгебраические выражения (67-77, 80)\n"
      ]
    },
    {
      "cell_type": "markdown",
      "metadata": {
        "id": "45mtfmhNtqxV"
      },
      "source": [
        "66"
      ]
    },
    {
      "cell_type": "code",
      "metadata": {
        "colab": {
          "base_uri": "https://localhost:8080/",
          "height": 59
        },
        "id": "tZ3nLXvmsYXZ",
        "outputId": "c2451d23-ebad-4875-ddb6-994daeb81e1f"
      },
      "source": [
        "expr1 = sqrt(6)+sqrt(10)\n",
        "expr2 = 3+sqrt(7)\n",
        "\n",
        "display(expr1)\n",
        "display(expr2)\n"
      ],
      "execution_count": 29,
      "outputs": [
        {
          "output_type": "display_data",
          "data": {
            "text/latex": "$\\displaystyle \\sqrt{6} + \\sqrt{10}$",
            "text/plain": [
              "sqrt(6) + sqrt(10)"
            ]
          },
          "metadata": {
            "tags": []
          }
        },
        {
          "output_type": "display_data",
          "data": {
            "text/latex": "$\\displaystyle \\sqrt{7} + 3$",
            "text/plain": [
              "sqrt(7) + 3"
            ]
          },
          "metadata": {
            "tags": []
          }
        }
      ]
    },
    {
      "cell_type": "code",
      "metadata": {
        "colab": {
          "base_uri": "https://localhost:8080/",
          "height": 38
        },
        "id": "S8I9M6nDtpoX",
        "outputId": "cd34fe58-b666-4e4a-c37a-bce717338f13"
      },
      "source": [
        "if expr1>expr2:\n",
        "  display(expr1)\n",
        "else: display(expr2)"
      ],
      "execution_count": 30,
      "outputs": [
        {
          "output_type": "display_data",
          "data": {
            "text/latex": "$\\displaystyle \\sqrt{7} + 3$",
            "text/plain": [
              "sqrt(7) + 3"
            ]
          },
          "metadata": {
            "tags": []
          }
        }
      ]
    },
    {
      "cell_type": "markdown",
      "metadata": {
        "id": "1gdx68AHtsPb"
      },
      "source": [
        "67"
      ]
    },
    {
      "cell_type": "code",
      "metadata": {
        "colab": {
          "base_uri": "https://localhost:8080/",
          "height": 59
        },
        "id": "SzT2f1FCtsyO",
        "outputId": "f99dfc11-fa0b-4fd8-8811-cc0152d07f57"
      },
      "source": [
        "expr1 = sqrt(7)-sqrt(5)\n",
        "expr2 = sqrt(13)-sqrt(11)\n",
        "\n",
        "display(expr1)\n",
        "display(expr2)\n",
        "\n"
      ],
      "execution_count": 27,
      "outputs": [
        {
          "output_type": "display_data",
          "data": {
            "text/latex": "$\\displaystyle - \\sqrt{5} + \\sqrt{7}$",
            "text/plain": [
              "-sqrt(5) + sqrt(7)"
            ]
          },
          "metadata": {
            "tags": []
          }
        },
        {
          "output_type": "display_data",
          "data": {
            "text/latex": "$\\displaystyle - \\sqrt{11} + \\sqrt{13}$",
            "text/plain": [
              "-sqrt(11) + sqrt(13)"
            ]
          },
          "metadata": {
            "tags": []
          }
        }
      ]
    },
    {
      "cell_type": "code",
      "metadata": {
        "colab": {
          "base_uri": "https://localhost:8080/",
          "height": 38
        },
        "id": "DoyTvFumt6Dk",
        "outputId": "0805fe20-a014-4d73-b562-e06b9e5f7e30"
      },
      "source": [
        "if expr1>expr2:\n",
        "  display(expr1)\n",
        "else: display(expr2)"
      ],
      "execution_count": 26,
      "outputs": [
        {
          "output_type": "display_data",
          "data": {
            "text/latex": "$\\displaystyle - \\sqrt{5} + \\sqrt{7}$",
            "text/plain": [
              "-sqrt(5) + sqrt(7)"
            ]
          },
          "metadata": {
            "tags": []
          }
        }
      ]
    },
    {
      "cell_type": "markdown",
      "metadata": {
        "id": "LLtnVAfBt9Y3"
      },
      "source": [
        "68"
      ]
    },
    {
      "cell_type": "code",
      "metadata": {
        "colab": {
          "base_uri": "https://localhost:8080/",
          "height": 59
        },
        "id": "JXROYJ6Mt9EC",
        "outputId": "be98c44b-55fb-4446-d044-729eaa2471a2"
      },
      "source": [
        "expr1 = sqrt(14)-sqrt(11)\n",
        "expr2 = sqrt(10)-sqrt(7)\n",
        "\n",
        "display(expr1)\n",
        "display(expr2)"
      ],
      "execution_count": 33,
      "outputs": [
        {
          "output_type": "display_data",
          "data": {
            "text/latex": "$\\displaystyle - \\sqrt{11} + \\sqrt{14}$",
            "text/plain": [
              "-sqrt(11) + sqrt(14)"
            ]
          },
          "metadata": {
            "tags": []
          }
        },
        {
          "output_type": "display_data",
          "data": {
            "text/latex": "$\\displaystyle - \\sqrt{7} + \\sqrt{10}$",
            "text/plain": [
              "-sqrt(7) + sqrt(10)"
            ]
          },
          "metadata": {
            "tags": []
          }
        }
      ]
    },
    {
      "cell_type": "code",
      "metadata": {
        "colab": {
          "base_uri": "https://localhost:8080/",
          "height": 38
        },
        "id": "9gjPXKdov4qE",
        "outputId": "969a1a26-6946-4676-f14f-f6755cd27e12"
      },
      "source": [
        "if expr1>expr2:\n",
        "  display(expr1)\n",
        "else: display(expr2)"
      ],
      "execution_count": 32,
      "outputs": [
        {
          "output_type": "display_data",
          "data": {
            "text/latex": "$\\displaystyle - \\sqrt{7} + \\sqrt{10}$",
            "text/plain": [
              "-sqrt(7) + sqrt(10)"
            ]
          },
          "metadata": {
            "tags": []
          }
        }
      ]
    },
    {
      "cell_type": "markdown",
      "metadata": {
        "id": "ce07Ib4lv8Iq"
      },
      "source": [
        "69"
      ]
    },
    {
      "cell_type": "code",
      "metadata": {
        "colab": {
          "base_uri": "https://localhost:8080/",
          "height": 59
        },
        "id": "YJspZkhhv9gM",
        "outputId": "39725ff2-8d89-4358-be8f-35ae54a1a0d5"
      },
      "source": [
        "expr1 = sqrt(101)+sqrt(102)\n",
        "expr2 = sqrt(99)+sqrt(104)\n",
        "\n",
        "display(expr1)\n",
        "display(expr2)"
      ],
      "execution_count": 40,
      "outputs": [
        {
          "output_type": "display_data",
          "data": {
            "text/latex": "$\\displaystyle \\sqrt{101} + \\sqrt{102}$",
            "text/plain": [
              "sqrt(101) + sqrt(102)"
            ]
          },
          "metadata": {
            "tags": []
          }
        },
        {
          "output_type": "display_data",
          "data": {
            "text/latex": "$\\displaystyle 3 \\sqrt{11} + 2 \\sqrt{26}$",
            "text/plain": [
              "3*sqrt(11) + 2*sqrt(26)"
            ]
          },
          "metadata": {
            "tags": []
          }
        }
      ]
    },
    {
      "cell_type": "code",
      "metadata": {
        "colab": {
          "base_uri": "https://localhost:8080/",
          "height": 38
        },
        "id": "ydnJ1c7gwITm",
        "outputId": "149cd1d4-67df-44a3-8c3e-b5e11a519866"
      },
      "source": [
        "if expr1>expr2:\n",
        "  display(expr1)\n",
        "else: display(expr2)"
      ],
      "execution_count": 35,
      "outputs": [
        {
          "output_type": "display_data",
          "data": {
            "text/latex": "$\\displaystyle \\sqrt{101} + \\sqrt{102}$",
            "text/plain": [
              "sqrt(101) + sqrt(102)"
            ]
          },
          "metadata": {
            "tags": []
          }
        }
      ]
    },
    {
      "cell_type": "markdown",
      "metadata": {
        "id": "f2g11lZ3worZ"
      },
      "source": [
        "70"
      ]
    },
    {
      "cell_type": "code",
      "metadata": {
        "colab": {
          "base_uri": "https://localhost:8080/",
          "height": 59
        },
        "id": "nRZyeOAbwpfI",
        "outputId": "2bb1885c-5385-4dbf-95d1-809a6923aaa8"
      },
      "source": [
        "expr1 = sqrt(99)+sqrt(108)\n",
        "expr2 = sqrt(103)+sqrt(104)\n",
        "\n",
        "display(expr1)\n",
        "display(expr2)"
      ],
      "execution_count": 41,
      "outputs": [
        {
          "output_type": "display_data",
          "data": {
            "text/latex": "$\\displaystyle 3 \\sqrt{11} + 6 \\sqrt{3}$",
            "text/plain": [
              "3*sqrt(11) + 6*sqrt(3)"
            ]
          },
          "metadata": {
            "tags": []
          }
        },
        {
          "output_type": "display_data",
          "data": {
            "text/latex": "$\\displaystyle \\sqrt{103} + 2 \\sqrt{26}$",
            "text/plain": [
              "sqrt(103) + 2*sqrt(26)"
            ]
          },
          "metadata": {
            "tags": []
          }
        }
      ]
    },
    {
      "cell_type": "code",
      "metadata": {
        "colab": {
          "base_uri": "https://localhost:8080/",
          "height": 38
        },
        "id": "-CRRDFYHwvu6",
        "outputId": "a93010a3-9e08-46c4-eab7-27d45a67100f"
      },
      "source": [
        "if expr1>expr2:\n",
        "  display(expr1)\n",
        "else: display(expr2)"
      ],
      "execution_count": 42,
      "outputs": [
        {
          "output_type": "display_data",
          "data": {
            "text/latex": "$\\displaystyle \\sqrt{103} + 2 \\sqrt{26}$",
            "text/plain": [
              "sqrt(103) + 2*sqrt(26)"
            ]
          },
          "metadata": {
            "tags": []
          }
        }
      ]
    },
    {
      "cell_type": "code",
      "metadata": {
        "id": "JPQ-moDoxhym"
      },
      "source": [
        ""
      ],
      "execution_count": null,
      "outputs": []
    },
    {
      "cell_type": "markdown",
      "metadata": {
        "id": "m14wuCA-ww-E"
      },
      "source": [
        "71"
      ]
    },
    {
      "cell_type": "code",
      "metadata": {
        "colab": {
          "base_uri": "https://localhost:8080/",
          "height": 78
        },
        "id": "da_9dKUPwx1i",
        "outputId": "2713f699-18e8-41ba-ff9f-9ee721dec090"
      },
      "source": [
        "b = symbols(\"b\")\n",
        "p = (b+3/b)*(3*b+1/b)\n",
        "display(p)\n",
        "expr = simplify(p/p.subs(b, 1/b))\n",
        "display(expr)"
      ],
      "execution_count": 44,
      "outputs": [
        {
          "output_type": "display_data",
          "data": {
            "text/latex": "$\\displaystyle \\left(b + \\frac{3}{b}\\right) \\left(3 b + \\frac{1}{b}\\right)$",
            "text/plain": [
              "(b + 3/b)*(3*b + 1/b)"
            ]
          },
          "metadata": {
            "tags": []
          }
        },
        {
          "output_type": "display_data",
          "data": {
            "text/latex": "$\\displaystyle 1$",
            "text/plain": [
              "1"
            ]
          },
          "metadata": {
            "tags": []
          }
        }
      ]
    },
    {
      "cell_type": "markdown",
      "metadata": {
        "id": "JfyE-JphxkSU"
      },
      "source": [
        "72"
      ]
    },
    {
      "cell_type": "code",
      "metadata": {
        "colab": {
          "base_uri": "https://localhost:8080/",
          "height": 78
        },
        "id": "xx2rbynDxlBl",
        "outputId": "79c441c6-3b3a-4d14-8656-30f1eed7b52a"
      },
      "source": [
        "p = (b+5/b)*(5*b+1/b)\n",
        "display(p)\n",
        "expr = simplify(p/p.subs(b, 1/b))\n",
        "display(expr)"
      ],
      "execution_count": 45,
      "outputs": [
        {
          "output_type": "display_data",
          "data": {
            "text/latex": "$\\displaystyle \\left(b + \\frac{5}{b}\\right) \\left(5 b + \\frac{1}{b}\\right)$",
            "text/plain": [
              "(b + 5/b)*(5*b + 1/b)"
            ]
          },
          "metadata": {
            "tags": []
          }
        },
        {
          "output_type": "display_data",
          "data": {
            "text/latex": "$\\displaystyle 1$",
            "text/plain": [
              "1"
            ]
          },
          "metadata": {
            "tags": []
          }
        }
      ]
    },
    {
      "cell_type": "markdown",
      "metadata": {
        "id": "zKH_F4qDxye7"
      },
      "source": [
        "73"
      ]
    },
    {
      "cell_type": "code",
      "metadata": {
        "colab": {
          "base_uri": "https://localhost:8080/",
          "height": 78
        },
        "id": "6n7QSRL7xz22",
        "outputId": "6bbcd665-c40a-47b3-815d-db29700dff37"
      },
      "source": [
        "p = (b+10/b)*(10*b+1/b)\n",
        "display(p)\n",
        "expr = simplify(p/p.subs(b, 1/b))\n",
        "display(expr)"
      ],
      "execution_count": 47,
      "outputs": [
        {
          "output_type": "display_data",
          "data": {
            "text/latex": "$\\displaystyle \\left(b + \\frac{10}{b}\\right) \\left(10 b + \\frac{1}{b}\\right)$",
            "text/plain": [
              "(b + 10/b)*(10*b + 1/b)"
            ]
          },
          "metadata": {
            "tags": []
          }
        },
        {
          "output_type": "display_data",
          "data": {
            "text/latex": "$\\displaystyle 1$",
            "text/plain": [
              "1"
            ]
          },
          "metadata": {
            "tags": []
          }
        }
      ]
    },
    {
      "cell_type": "markdown",
      "metadata": {
        "id": "0Qsp3bK-yAH6"
      },
      "source": [
        "74"
      ]
    },
    {
      "cell_type": "code",
      "metadata": {
        "colab": {
          "base_uri": "https://localhost:8080/",
          "height": 74
        },
        "id": "ebGxRMH4yA3m",
        "outputId": "6124e458-529c-4f46-b866-79e40497f455"
      },
      "source": [
        "c = symbols(\"c\")\n",
        "a = symbols(\"a\")\n",
        "p = c*(6-c)/(c-3)\n",
        "display(p)\n",
        "expr = simplify(p.subs(c, a)/p.subs(c, 6-a))\n",
        "display(expr)"
      ],
      "execution_count": 49,
      "outputs": [
        {
          "output_type": "display_data",
          "data": {
            "text/latex": "$\\displaystyle \\frac{c \\left(6 - c\\right)}{c - 3}$",
            "text/plain": [
              "c*(6 - c)/(c - 3)"
            ]
          },
          "metadata": {
            "tags": []
          }
        },
        {
          "output_type": "display_data",
          "data": {
            "text/latex": "$\\displaystyle -1$",
            "text/plain": [
              "-1"
            ]
          },
          "metadata": {
            "tags": []
          }
        }
      ]
    },
    {
      "cell_type": "markdown",
      "metadata": {
        "id": "kDvRc76GyfIt"
      },
      "source": [
        "75"
      ]
    },
    {
      "cell_type": "code",
      "metadata": {
        "colab": {
          "base_uri": "https://localhost:8080/",
          "height": 74
        },
        "id": "9w3FZlTYyaHC",
        "outputId": "b03774dc-7401-4918-8a9d-45e97fb7bdae"
      },
      "source": [
        "p = c*(8-c)/(c-4)\n",
        "display(p)\n",
        "expr = simplify(p.subs(c, a)/p.subs(c, 8-a))\n",
        "display(expr)"
      ],
      "execution_count": 50,
      "outputs": [
        {
          "output_type": "display_data",
          "data": {
            "text/latex": "$\\displaystyle \\frac{c \\left(8 - c\\right)}{c - 4}$",
            "text/plain": [
              "c*(8 - c)/(c - 4)"
            ]
          },
          "metadata": {
            "tags": []
          }
        },
        {
          "output_type": "display_data",
          "data": {
            "text/latex": "$\\displaystyle -1$",
            "text/plain": [
              "-1"
            ]
          },
          "metadata": {
            "tags": []
          }
        }
      ]
    },
    {
      "cell_type": "markdown",
      "metadata": {
        "id": "ASBxua79yl6p"
      },
      "source": [
        "76"
      ]
    },
    {
      "cell_type": "code",
      "metadata": {
        "colab": {
          "base_uri": "https://localhost:8080/",
          "height": 74
        },
        "id": "tAjsriJKygWT",
        "outputId": "b11c7adb-5bee-4b88-edf4-945bef4e3292"
      },
      "source": [
        "p = c*(20-c)/(c-10)\n",
        "display(p)\n",
        "expr = simplify(p.subs(c, a)/p.subs(c, 20-a))\n",
        "display(expr)"
      ],
      "execution_count": 51,
      "outputs": [
        {
          "output_type": "display_data",
          "data": {
            "text/latex": "$\\displaystyle \\frac{c \\left(20 - c\\right)}{c - 10}$",
            "text/plain": [
              "c*(20 - c)/(c - 10)"
            ]
          },
          "metadata": {
            "tags": []
          }
        },
        {
          "output_type": "display_data",
          "data": {
            "text/latex": "$\\displaystyle -1$",
            "text/plain": [
              "-1"
            ]
          },
          "metadata": {
            "tags": []
          }
        }
      ]
    },
    {
      "cell_type": "markdown",
      "metadata": {
        "id": "7RiJnMcZyqbp"
      },
      "source": [
        "77"
      ]
    },
    {
      "cell_type": "code",
      "metadata": {
        "colab": {
          "base_uri": "https://localhost:8080/",
          "height": 38
        },
        "id": "QzFXq0evyrGI",
        "outputId": "60b57ee6-ffc4-4349-b189-e54a55627960"
      },
      "source": [
        "x = symbols(\"x\")\n",
        "y = symbols(\"y\")\n",
        "#factor((25*x-16*y)/(5*sqrt(x)+4*sqrt(y)))\n",
        "cancel((25*x-16*y)/(5*sqrt(x)+4*sqrt(y)))"
      ],
      "execution_count": 96,
      "outputs": [
        {
          "output_type": "execute_result",
          "data": {
            "text/latex": "$\\displaystyle 25 x - 16 y$",
            "text/plain": [
              "25*x - 16*y"
            ]
          },
          "metadata": {
            "tags": []
          },
          "execution_count": 96
        }
      ]
    },
    {
      "cell_type": "markdown",
      "metadata": {
        "id": "6UiSPTq_5MZV"
      },
      "source": [
        "80"
      ]
    },
    {
      "cell_type": "code",
      "metadata": {
        "colab": {
          "base_uri": "https://localhost:8080/",
          "height": 128
        },
        "id": "Zogi-doaypwQ",
        "outputId": "91cd3e28-bd0d-40f1-beb3-b1ae40606a6d"
      },
      "source": [
        "expr = Eq(x-5,y+x+2)\n",
        "ex = solve(expr)[0]\n",
        "(4**(y-))"
      ],
      "execution_count": 102,
      "outputs": [
        {
          "output_type": "error",
          "ename": "SyntaxError",
          "evalue": "ignored",
          "traceback": [
            "\u001b[0;36m  File \u001b[0;32m\"<ipython-input-102-03e5c0269f15>\"\u001b[0;36m, line \u001b[0;32m3\u001b[0m\n\u001b[0;31m    (4**(y-))\u001b[0m\n\u001b[0m           ^\u001b[0m\n\u001b[0;31mSyntaxError\u001b[0m\u001b[0;31m:\u001b[0m invalid syntax\n"
          ]
        }
      ]
    },
    {
      "cell_type": "markdown",
      "metadata": {
        "id": "xNWp0Pwp9GzQ"
      },
      "source": [
        "Уравнения"
      ]
    },
    {
      "cell_type": "markdown",
      "metadata": {
        "id": "0DusM1qe9R6T"
      },
      "source": [
        "91"
      ]
    },
    {
      "cell_type": "code",
      "metadata": {
        "colab": {
          "base_uri": "https://localhost:8080/",
          "height": 47
        },
        "id": "QmB9Dj0P--ga",
        "outputId": "31f3a1c1-11a2-4db6-affb-33c794d415e5"
      },
      "source": [
        "solveset((x**2+x-5)/x + 3*x/(x**2+x-5)+4, x, domain=S.Reals)"
      ],
      "execution_count": 124,
      "outputs": [
        {
          "output_type": "execute_result",
          "data": {
            "text/latex": "$\\displaystyle \\left\\{-5, 1, -1 + \\sqrt{6}, - \\sqrt{6} - 1\\right\\}$",
            "text/plain": [
              "FiniteSet(-5, 1, -1 + sqrt(6), -sqrt(6) - 1)"
            ]
          },
          "metadata": {
            "tags": []
          },
          "execution_count": 124
        }
      ]
    },
    {
      "cell_type": "markdown",
      "metadata": {
        "id": "vegWq084BORh"
      },
      "source": [
        "92"
      ]
    },
    {
      "cell_type": "code",
      "metadata": {
        "colab": {
          "base_uri": "https://localhost:8080/",
          "height": 56
        },
        "id": "hEwAhQxZBmfk",
        "outputId": "34bf4207-b72e-44e8-9010-3cbf6c25266c"
      },
      "source": [
        "Eq((x**2-14)/x - 10*x/(x**2-14),3)"
      ],
      "execution_count": 129,
      "outputs": [
        {
          "output_type": "execute_result",
          "data": {
            "text/latex": "$\\displaystyle - \\frac{10 x}{x^{2} - 14} + \\frac{x^{2} - 14}{x} = 3$",
            "text/plain": [
              "Eq(-10*x/(x**2 - 14) + (x**2 - 14)/x, 3)"
            ]
          },
          "metadata": {
            "tags": []
          },
          "execution_count": 129
        }
      ]
    },
    {
      "cell_type": "code",
      "metadata": {
        "colab": {
          "base_uri": "https://localhost:8080/",
          "height": 47
        },
        "id": "dN9MrOmnBPS2",
        "outputId": "61043abb-3ffc-420f-b921-4fda4bfd393b"
      },
      "source": [
        "solveset(Eq((x**2-14)/x - 10*x/(x**2-14),3), domain=S.Reals)"
      ],
      "execution_count": 130,
      "outputs": [
        {
          "output_type": "execute_result",
          "data": {
            "text/latex": "$\\displaystyle \\left\\{-2, 7, -1 + \\sqrt{15}, - \\sqrt{15} - 1\\right\\}$",
            "text/plain": [
              "FiniteSet(-2, 7, -1 + sqrt(15), -sqrt(15) - 1)"
            ]
          },
          "metadata": {
            "tags": []
          },
          "execution_count": 130
        }
      ]
    },
    {
      "cell_type": "markdown",
      "metadata": {
        "id": "1_vKcr8yB9Z7"
      },
      "source": [
        "93"
      ]
    },
    {
      "cell_type": "code",
      "metadata": {
        "colab": {
          "base_uri": "https://localhost:8080/",
          "height": 86
        },
        "id": "jH__r6DQB-K8",
        "outputId": "10cc338d-d419-419e-c6a8-2e242ae39aaf"
      },
      "source": [
        "display(Eq(((x**2+12)/(9-x**2))**2 - (7*x/(x**2-9))**2,0))\n",
        "solveset(Eq(((x**2+12)/(9-x**2))**2 - (7*x/(x**2-9))**2,0), domain=S.Reals)"
      ],
      "execution_count": 133,
      "outputs": [
        {
          "output_type": "display_data",
          "data": {
            "text/latex": "$\\displaystyle - \\frac{49 x^{2}}{\\left(x^{2} - 9\\right)^{2}} + \\frac{\\left(x^{2} + 12\\right)^{2}}{\\left(9 - x^{2}\\right)^{2}} = 0$",
            "text/plain": [
              "Eq(-49*x**2/(x**2 - 9)**2 + (x**2 + 12)**2/(9 - x**2)**2, 0)"
            ]
          },
          "metadata": {
            "tags": []
          }
        },
        {
          "output_type": "execute_result",
          "data": {
            "text/latex": "$\\displaystyle \\left\\{-4, 4\\right\\}$",
            "text/plain": [
              "FiniteSet(-4, 4)"
            ]
          },
          "metadata": {
            "tags": []
          },
          "execution_count": 133
        }
      ]
    },
    {
      "cell_type": "markdown",
      "metadata": {
        "id": "rUhXbBU_Cd_E"
      },
      "source": [
        "94"
      ]
    },
    {
      "cell_type": "code",
      "metadata": {
        "colab": {
          "base_uri": "https://localhost:8080/",
          "height": 86
        },
        "id": "YwHBr_oDCfGU",
        "outputId": "ba68fd23-a50b-4230-d8db-082bb158ed87"
      },
      "source": [
        "qn = Eq(((x**2+10)/(4-x**2))**2 - (7*x/(x**2-4))**2,0)\n",
        "display(qn)\n",
        "solveset(qn, domain=S.Reals)"
      ],
      "execution_count": 140,
      "outputs": [
        {
          "output_type": "display_data",
          "data": {
            "text/latex": "$\\displaystyle - \\frac{49 x^{2}}{\\left(x^{2} - 4\\right)^{2}} + \\frac{\\left(x^{2} + 10\\right)^{2}}{\\left(4 - x^{2}\\right)^{2}} = 0$",
            "text/plain": [
              "Eq(-49*x**2/(x**2 - 4)**2 + (x**2 + 10)**2/(4 - x**2)**2, 0)"
            ]
          },
          "metadata": {
            "tags": []
          }
        },
        {
          "output_type": "execute_result",
          "data": {
            "text/latex": "$\\displaystyle \\left\\{-5, 5\\right\\}$",
            "text/plain": [
              "FiniteSet(-5, 5)"
            ]
          },
          "metadata": {
            "tags": []
          },
          "execution_count": 140
        }
      ]
    },
    {
      "cell_type": "markdown",
      "metadata": {
        "id": "wZId4EHnDDHK"
      },
      "source": [
        "95"
      ]
    },
    {
      "cell_type": "code",
      "metadata": {
        "colab": {
          "base_uri": "https://localhost:8080/",
          "height": 78
        },
        "id": "qSDws3z0DENh",
        "outputId": "60511345-d52e-43fd-d6c5-c2c161a8182a"
      },
      "source": [
        "qn = Eq(1/(x*(x+2))-1/(x+1)**2,1/12)\n",
        "display(qn)\n",
        "solveset(qn, domain=S.Reals)"
      ],
      "execution_count": 148,
      "outputs": [
        {
          "output_type": "display_data",
          "data": {
            "text/latex": "$\\displaystyle - \\frac{1}{\\left(x + 1\\right)^{2}} + \\frac{1}{x \\left(x + 2\\right)} = 0.0833333333333333$",
            "text/plain": [
              "Eq(-1/(x + 1)**2 + 1/(x*(x + 2)), 0.0833333333333333)"
            ]
          },
          "metadata": {
            "tags": []
          }
        },
        {
          "output_type": "execute_result",
          "data": {
            "text/latex": "$\\displaystyle \\left\\{-3.0, 1.0\\right\\}$",
            "text/plain": [
              "FiniteSet(-3.0, 1.0)"
            ]
          },
          "metadata": {
            "tags": []
          },
          "execution_count": 148
        }
      ]
    },
    {
      "cell_type": "markdown",
      "metadata": {
        "id": "vnhlmj0PDtkr"
      },
      "source": [
        "96"
      ]
    },
    {
      "cell_type": "code",
      "metadata": {
        "colab": {
          "base_uri": "https://localhost:8080/",
          "height": 78
        },
        "id": "h03Vu-1yDv7r",
        "outputId": "c6df9068-8ace-4ef3-986a-544c5d636fc1"
      },
      "source": [
        "qn = Eq(1/(x-2)**2-1/(x*(x-4)),4/3)\n",
        "display(qn)\n",
        "solveset(qn, domain=S.Reals)"
      ],
      "execution_count": 151,
      "outputs": [
        {
          "output_type": "display_data",
          "data": {
            "text/latex": "$\\displaystyle \\frac{1}{\\left(x - 2\\right)^{2}} - \\frac{1}{x \\left(x - 4\\right)} = 1.33333333333333$",
            "text/plain": [
              "Eq((x - 2)**(-2) - 1/(x*(x - 4)), 1.33333333333333)"
            ]
          },
          "metadata": {
            "tags": []
          }
        },
        {
          "output_type": "execute_result",
          "data": {
            "text/latex": "$\\displaystyle \\left\\{0.267949192431123, 1.0, 3.0, 3.73205080756888\\right\\}$",
            "text/plain": [
              "FiniteSet(0.267949192431123, 1.0, 3.0, 3.73205080756888)"
            ]
          },
          "metadata": {
            "tags": []
          },
          "execution_count": 151
        }
      ]
    },
    {
      "cell_type": "markdown",
      "metadata": {
        "id": "RYlPbvGTDu8-"
      },
      "source": [
        "97"
      ]
    },
    {
      "cell_type": "code",
      "metadata": {
        "colab": {
          "base_uri": "https://localhost:8080/",
          "height": 81
        },
        "id": "Fh-_seLfEJum",
        "outputId": "61b7009f-4550-4fa0-cdbc-ce9985ded3af"
      },
      "source": [
        "qn = Eq((x-2*x/(x+2))**2+4*x**2/(x+2),5)\n",
        "display(qn)\n",
        "solveset(qn, domain=S.Reals)"
      ],
      "execution_count": 152,
      "outputs": [
        {
          "output_type": "display_data",
          "data": {
            "text/latex": "$\\displaystyle \\frac{4 x^{2}}{x + 2} + \\left(x - \\frac{2 x}{x + 2}\\right)^{2} = 5$",
            "text/plain": [
              "Eq(4*x**2/(x + 2) + (x - 2*x/(x + 2))**2, 5)"
            ]
          },
          "metadata": {
            "tags": []
          }
        },
        {
          "output_type": "execute_result",
          "data": {
            "text/latex": "$\\displaystyle \\left\\{-1, 2\\right\\}$",
            "text/plain": [
              "FiniteSet(-1, 2)"
            ]
          },
          "metadata": {
            "tags": []
          },
          "execution_count": 152
        }
      ]
    },
    {
      "cell_type": "markdown",
      "metadata": {
        "id": "rjhjzY1pEfiL"
      },
      "source": [
        "98"
      ]
    },
    {
      "cell_type": "code",
      "metadata": {
        "colab": {
          "base_uri": "https://localhost:8080/",
          "height": 101
        },
        "id": "dBJ7bKnLEgol",
        "outputId": "295cb5bd-388c-4d0c-a1a2-066667dcc401"
      },
      "source": [
        "qn = Eq((x+3*x/(x-3))**2 +3*x**2/(x-3),4)\n",
        "display(qn)\n",
        "sols = list(solveset(qn, x,domain=S.Reals))\n",
        "for sol in sols:\n",
        "  display(N(sol))"
      ],
      "execution_count": 172,
      "outputs": [
        {
          "output_type": "display_data",
          "data": {
            "text/latex": "$\\displaystyle \\frac{3 x^{2}}{x - 3} + \\left(x + \\frac{3 x}{x - 3}\\right)^{2} = 4$",
            "text/plain": [
              "Eq(3*x**2/(x - 3) + (x + 3*x/(x - 3))**2, 4)"
            ]
          },
          "metadata": {
            "tags": []
          }
        },
        {
          "output_type": "display_data",
          "data": {
            "text/latex": "$\\displaystyle -6.0$",
            "text/plain": [
              "-6.00000000000000"
            ]
          },
          "metadata": {
            "tags": []
          }
        },
        {
          "output_type": "display_data",
          "data": {
            "text/latex": "$\\displaystyle 2.0$",
            "text/plain": [
              "2.00000000000000"
            ]
          },
          "metadata": {
            "tags": []
          }
        }
      ]
    },
    {
      "cell_type": "markdown",
      "metadata": {
        "id": "rlDwcWN0HHpH"
      },
      "source": [
        "99"
      ]
    },
    {
      "cell_type": "code",
      "metadata": {
        "colab": {
          "base_uri": "https://localhost:8080/",
          "height": 92
        },
        "id": "SkpAuaZRHI7o",
        "outputId": "898286dc-4fa7-434e-d041-caa0b5ea5067"
      },
      "source": [
        "qn = Eq(7*(x+1/x)-2*(x**2+1/x**2),9)\n",
        "display(qn)\n",
        "solveset(qn, domain=S.Reals)"
      ],
      "execution_count": 173,
      "outputs": [
        {
          "output_type": "display_data",
          "data": {
            "text/latex": "$\\displaystyle - 2 x^{2} + 7 x + \\frac{7}{x} - \\frac{2}{x^{2}} = 9$",
            "text/plain": [
              "Eq(-2*x**2 + 7*x + 7/x - 2/x**2, 9)"
            ]
          },
          "metadata": {
            "tags": []
          }
        },
        {
          "output_type": "execute_result",
          "data": {
            "text/latex": "$\\displaystyle \\left\\{\\frac{1}{2}, 2\\right\\}$",
            "text/plain": [
              "FiniteSet(1/2, 2)"
            ]
          },
          "metadata": {
            "tags": []
          },
          "execution_count": 173
        }
      ]
    },
    {
      "cell_type": "markdown",
      "metadata": {
        "id": "F2Ou7XSoHX_3"
      },
      "source": [
        "100"
      ]
    },
    {
      "cell_type": "code",
      "metadata": {
        "colab": {
          "base_uri": "https://localhost:8080/",
          "height": 92
        },
        "id": "PODZaDQ7HY88",
        "outputId": "ff1259a9-27b2-4f9f-b9bb-6df117ba8091"
      },
      "source": [
        "qn = Eq(2*(x**2+1/x**2)-11*(x-1/x)+8,0)\n",
        "display(qn)\n",
        "solveset(qn, domain=S.Reals)"
      ],
      "execution_count": 174,
      "outputs": [
        {
          "output_type": "display_data",
          "data": {
            "text/latex": "$\\displaystyle 2 x^{2} - 11 x + 8 + \\frac{11}{x} + \\frac{2}{x^{2}} = 0$",
            "text/plain": [
              "Eq(2*x**2 - 11*x + 8 + 11/x + 2/x**2, 0)"
            ]
          },
          "metadata": {
            "tags": []
          }
        },
        {
          "output_type": "execute_result",
          "data": {
            "text/latex": "$\\displaystyle \\left\\{- \\frac{1}{2}, 2, 2 - \\sqrt{5}, 2 + \\sqrt{5}\\right\\}$",
            "text/plain": [
              "FiniteSet(-1/2, 2, 2 + sqrt(5), 2 - sqrt(5))"
            ]
          },
          "metadata": {
            "tags": []
          },
          "execution_count": 174
        }
      ]
    },
    {
      "cell_type": "markdown",
      "metadata": {
        "id": "8bc5kbzBHtGh"
      },
      "source": [
        "101"
      ]
    },
    {
      "cell_type": "code",
      "metadata": {
        "colab": {
          "base_uri": "https://localhost:8080/",
          "height": 106
        },
        "id": "LtUyHc8DHuQ1",
        "outputId": "6270a4cd-129b-4131-d5e2-efb265613c66"
      },
      "source": [
        "qn = Eq(12/((x+1)*(x+5))+15/((x+2)*(x+4)), 2)\n",
        "display(qn)\n",
        "solveset(qn, domain=S.Reals)"
      ],
      "execution_count": 175,
      "outputs": [
        {
          "output_type": "display_data",
          "data": {
            "text/latex": "$\\displaystyle \\frac{15}{\\left(x + 2\\right) \\left(x + 4\\right)} + \\frac{12}{\\left(x + 1\\right) \\left(x + 5\\right)} = 2$",
            "text/plain": [
              "Eq(15/((x + 2)*(x + 4)) + 12/((x + 1)*(x + 5)), 2)"
            ]
          },
          "metadata": {
            "tags": []
          }
        },
        {
          "output_type": "execute_result",
          "data": {
            "text/latex": "$\\displaystyle \\left\\{-7, 1, -3 - \\frac{\\sqrt{10}}{2}, -3 + \\frac{\\sqrt{10}}{2}\\right\\}$",
            "text/plain": [
              "FiniteSet(-7, 1, -3 - sqrt(10)/2, -3 + sqrt(10)/2)"
            ]
          },
          "metadata": {
            "tags": []
          },
          "execution_count": 175
        }
      ]
    },
    {
      "cell_type": "markdown",
      "metadata": {
        "id": "sOfs8JucIDL5"
      },
      "source": [
        "102"
      ]
    },
    {
      "cell_type": "code",
      "metadata": {
        "colab": {
          "base_uri": "https://localhost:8080/",
          "height": 86
        },
        "id": "uqAUViLsID62",
        "outputId": "a18926bd-ac65-4375-c676-de93bc208237"
      },
      "source": [
        "qn = Eq(1/((x+1)*(x+3))+9/((x-1)*(x+5)), -1)\n",
        "display(qn)\n",
        "solveset(qn, domain=S.Reals)"
      ],
      "execution_count": 176,
      "outputs": [
        {
          "output_type": "display_data",
          "data": {
            "text/latex": "$\\displaystyle \\frac{1}{\\left(x + 1\\right) \\left(x + 3\\right)} + \\frac{9}{\\left(x - 1\\right) \\left(x + 5\\right)} = -1$",
            "text/plain": [
              "Eq(1/((x + 1)*(x + 3)) + 9/((x - 1)*(x + 5)), -1)"
            ]
          },
          "metadata": {
            "tags": []
          }
        },
        {
          "output_type": "execute_result",
          "data": {
            "text/latex": "$\\displaystyle \\left\\{-2 - \\sqrt{3}, -2 + \\sqrt{3}\\right\\}$",
            "text/plain": [
              "FiniteSet(-2 + sqrt(3), -2 - sqrt(3))"
            ]
          },
          "metadata": {
            "tags": []
          },
          "execution_count": 176
        }
      ]
    },
    {
      "cell_type": "markdown",
      "metadata": {
        "id": "akeJCoNTIQ-5"
      },
      "source": [
        "103"
      ]
    },
    {
      "cell_type": "code",
      "metadata": {
        "colab": {
          "base_uri": "https://localhost:8080/",
          "height": 69
        },
        "id": "VYI7yTgvIRnT",
        "outputId": "48a89e35-427b-4b18-e9ee-46e6c0278126"
      },
      "source": [
        "qn = Eq(x**3-4*x**2+3*x+2,0)\n",
        "display(qn)\n",
        "solveset(qn, domain=S.Reals)"
      ],
      "execution_count": 177,
      "outputs": [
        {
          "output_type": "display_data",
          "data": {
            "text/latex": "$\\displaystyle x^{3} - 4 x^{2} + 3 x + 2 = 0$",
            "text/plain": [
              "Eq(x**3 - 4*x**2 + 3*x + 2, 0)"
            ]
          },
          "metadata": {
            "tags": []
          }
        },
        {
          "output_type": "execute_result",
          "data": {
            "text/latex": "$\\displaystyle \\left\\{2, 1 - \\sqrt{2}, 1 + \\sqrt{2}\\right\\}$",
            "text/plain": [
              "FiniteSet(2, 1 + sqrt(2), 1 - sqrt(2))"
            ]
          },
          "metadata": {
            "tags": []
          },
          "execution_count": 177
        }
      ]
    },
    {
      "cell_type": "markdown",
      "metadata": {
        "id": "MvJ6pLAcIcgj"
      },
      "source": [
        "104"
      ]
    },
    {
      "cell_type": "code",
      "metadata": {
        "colab": {
          "base_uri": "https://localhost:8080/",
          "height": 90
        },
        "id": "90Fy_3OUId06",
        "outputId": "30effe07-e68a-447b-d00c-df238f43eebc"
      },
      "source": [
        "qn = Eq(x**3-x**2-9*x-6,0)\n",
        "display(qn)\n",
        "solveset(qn, domain=S.Reals)"
      ],
      "execution_count": 178,
      "outputs": [
        {
          "output_type": "display_data",
          "data": {
            "text/latex": "$\\displaystyle x^{3} - x^{2} - 9 x - 6 = 0$",
            "text/plain": [
              "Eq(x**3 - x**2 - 9*x - 6, 0)"
            ]
          },
          "metadata": {
            "tags": []
          }
        },
        {
          "output_type": "execute_result",
          "data": {
            "text/latex": "$\\displaystyle \\left\\{-2, \\frac{3}{2} - \\frac{\\sqrt{21}}{2}, \\frac{3}{2} + \\frac{\\sqrt{21}}{2}\\right\\}$",
            "text/plain": [
              "FiniteSet(-2, 3/2 - sqrt(21)/2, 3/2 + sqrt(21)/2)"
            ]
          },
          "metadata": {
            "tags": []
          },
          "execution_count": 178
        }
      ]
    },
    {
      "cell_type": "markdown",
      "metadata": {
        "id": "qmxXr0EBIrZC"
      },
      "source": [
        "105"
      ]
    },
    {
      "cell_type": "code",
      "metadata": {
        "colab": {
          "base_uri": "https://localhost:8080/",
          "height": 58
        },
        "id": "ROtiqhRXIsqj",
        "outputId": "b81d0d5a-088b-45a7-b025-29d03f58448d"
      },
      "source": [
        "qn = Eq(x**4+x**3+x**2+3*x+2,0)\n",
        "display(qn)\n",
        "solveset(qn, domain=S.Reals)"
      ],
      "execution_count": 179,
      "outputs": [
        {
          "output_type": "display_data",
          "data": {
            "text/latex": "$\\displaystyle x^{4} + x^{3} + x^{2} + 3 x + 2 = 0$",
            "text/plain": [
              "Eq(x**4 + x**3 + x**2 + 3*x + 2, 0)"
            ]
          },
          "metadata": {
            "tags": []
          }
        },
        {
          "output_type": "execute_result",
          "data": {
            "text/latex": "$\\displaystyle \\left\\{-1\\right\\}$",
            "text/plain": [
              "FiniteSet(-1)"
            ]
          },
          "metadata": {
            "tags": []
          },
          "execution_count": 179
        }
      ]
    },
    {
      "cell_type": "markdown",
      "metadata": {
        "id": "zYdJZYSdJHBP"
      },
      "source": [
        "Неравенства"
      ]
    },
    {
      "cell_type": "markdown",
      "metadata": {
        "id": "1I1Z-coPJJhe"
      },
      "source": [
        "25"
      ]
    },
    {
      "cell_type": "code",
      "metadata": {
        "colab": {
          "base_uri": "https://localhost:8080/",
          "height": 37
        },
        "id": "yIflDqhKJKay",
        "outputId": "eb86f553-f8c7-4032-a1e9-b32dc2fa5a19"
      },
      "source": [
        "solveset(x**4-5*x**2+4 < 0, x, S.Reals)"
      ],
      "execution_count": 181,
      "outputs": [
        {
          "output_type": "execute_result",
          "data": {
            "text/latex": "$\\displaystyle \\left(-2, -1\\right) \\cup \\left(1, 2\\right)$",
            "text/plain": [
              "Union(Interval.open(-2, -1), Interval.open(1, 2))"
            ]
          },
          "metadata": {
            "tags": []
          },
          "execution_count": 181
        }
      ]
    },
    {
      "cell_type": "markdown",
      "metadata": {
        "id": "VE3XczSiJ0qM"
      },
      "source": [
        "26"
      ]
    },
    {
      "cell_type": "code",
      "metadata": {
        "colab": {
          "base_uri": "https://localhost:8080/",
          "height": 37
        },
        "id": "wYe7fEQ6J1ZB",
        "outputId": "efe196e7-21d8-4aac-bf34-b05b7e6c7dc2"
      },
      "source": [
        "solveset(x**4-13*x**2+36 >= 0, x, S.Reals)"
      ],
      "execution_count": 182,
      "outputs": [
        {
          "output_type": "execute_result",
          "data": {
            "text/latex": "$\\displaystyle \\left(-\\infty, -3\\right] \\cup \\left[-2, 2\\right] \\cup \\left[3, \\infty\\right)$",
            "text/plain": [
              "Union(Interval(-oo, -3), Interval(-2, 2), Interval(3, oo))"
            ]
          },
          "metadata": {
            "tags": []
          },
          "execution_count": 182
        }
      ]
    },
    {
      "cell_type": "markdown",
      "metadata": {
        "id": "moiN4Q-qJ_1p"
      },
      "source": [
        "27"
      ]
    },
    {
      "cell_type": "code",
      "metadata": {
        "colab": {
          "base_uri": "https://localhost:8080/",
          "height": 37
        },
        "id": "RkitFuDEKAkP",
        "outputId": "73fd34ad-7ebf-4be0-d3f8-d74495d897d9"
      },
      "source": [
        "solveset((x**2+1)**2-12*(x**2+1)+20>=0, x, S.Reals)"
      ],
      "execution_count": 183,
      "outputs": [
        {
          "output_type": "execute_result",
          "data": {
            "text/latex": "$\\displaystyle \\left(-\\infty, -3\\right] \\cup \\left[-1, 1\\right] \\cup \\left[3, \\infty\\right)$",
            "text/plain": [
              "Union(Interval(-oo, -3), Interval(-1, 1), Interval(3, oo))"
            ]
          },
          "metadata": {
            "tags": []
          },
          "execution_count": 183
        }
      ]
    },
    {
      "cell_type": "markdown",
      "metadata": {
        "id": "OZQ2PqUWKPyN"
      },
      "source": [
        "28"
      ]
    },
    {
      "cell_type": "code",
      "metadata": {
        "colab": {
          "base_uri": "https://localhost:8080/",
          "height": 37
        },
        "id": "neL2C1Z2KSmS",
        "outputId": "6933c752-09a7-4910-b17a-5a7890ff6967"
      },
      "source": [
        "solveset((x**2-5)**2-10*(x**2-5)-11<=0, x, S.Reals)"
      ],
      "execution_count": 184,
      "outputs": [
        {
          "output_type": "execute_result",
          "data": {
            "text/latex": "$\\displaystyle \\left[-4, -2\\right] \\cup \\left[2, 4\\right]$",
            "text/plain": [
              "Union(Interval(-4, -2), Interval(2, 4))"
            ]
          },
          "metadata": {
            "tags": []
          },
          "execution_count": 184
        }
      ]
    },
    {
      "cell_type": "markdown",
      "metadata": {
        "id": "NbrRc03GKgoH"
      },
      "source": [
        "34"
      ]
    },
    {
      "cell_type": "code",
      "metadata": {
        "colab": {
          "base_uri": "https://localhost:8080/",
          "height": 37
        },
        "id": "GglzXIPMKhcd",
        "outputId": "8be61fe7-f64e-45d4-a9c6-2cad0faa1baf"
      },
      "source": [
        "solveset((x**2-5)**2-10*(x**2-5)-11>0, x, S.Reals)"
      ],
      "execution_count": 187,
      "outputs": [
        {
          "output_type": "execute_result",
          "data": {
            "text/latex": "$\\displaystyle \\left(-\\infty, -4\\right) \\cup \\left(-2, 2\\right) \\cup \\left(4, \\infty\\right)$",
            "text/plain": [
              "Union(Interval.open(-oo, -4), Interval.open(-2, 2), Interval.open(4, oo))"
            ]
          },
          "metadata": {
            "tags": []
          },
          "execution_count": 187
        }
      ]
    }
  ]
}