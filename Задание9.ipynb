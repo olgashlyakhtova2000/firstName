{
  "nbformat": 4,
  "nbformat_minor": 0,
  "metadata": {
    "colab": {
      "name": "Задание9.ipynb",
      "provenance": [],
      "collapsed_sections": [],
      "authorship_tag": "ABX9TyNF8XAyufV0FKdFjXyZPCaN",
      "include_colab_link": true
    },
    "kernelspec": {
      "name": "python3",
      "display_name": "Python 3"
    },
    "language_info": {
      "name": "python"
    }
  },
  "cells": [
    {
      "cell_type": "markdown",
      "metadata": {
        "id": "view-in-github",
        "colab_type": "text"
      },
      "source": [
        "<a href=\"https://colab.research.google.com/github/olgashlyakhtova2000/firstName/blob/main/%D0%97%D0%B0%D0%B4%D0%B0%D0%BD%D0%B8%D0%B59.ipynb\" target=\"_parent\"><img src=\"https://colab.research.google.com/assets/colab-badge.svg\" alt=\"Open In Colab\"/></a>"
      ]
    },
    {
      "cell_type": "code",
      "metadata": {
        "id": "s_46jvW4rymf"
      },
      "source": [
        "from sympy import * \n",
        "from IPython.display import display"
      ],
      "execution_count": 160,
      "outputs": []
    },
    {
      "cell_type": "markdown",
      "metadata": {
        "id": "QZ_A9bc-sK11"
      },
      "source": [
        "Алгебраические выражения (67-77, 80)\n"
      ]
    },
    {
      "cell_type": "markdown",
      "metadata": {
        "id": "45mtfmhNtqxV"
      },
      "source": [
        "66"
      ]
    },
    {
      "cell_type": "code",
      "metadata": {
        "colab": {
          "base_uri": "https://localhost:8080/",
          "height": 59
        },
        "id": "tZ3nLXvmsYXZ",
        "outputId": "cf156fd0-2d20-44b0-d50a-861b476eea34"
      },
      "source": [
        "expr1 = sqrt(6)+sqrt(10)\n",
        "expr2 = 3+sqrt(7)\n",
        "\n",
        "display(expr1)\n",
        "display(expr2)\n"
      ],
      "execution_count": 161,
      "outputs": [
        {
          "output_type": "display_data",
          "data": {
            "image/png": "[encoded data removed]",
            "text/latex": "$\\displaystyle \\sqrt{6} + \\sqrt{10}$",
            "text/plain": [
              "√6 + √10"
            ]
          },
          "metadata": {
            "tags": []
          }
        },
        {
          "output_type": "display_data",
          "data": {
            "image/png": "[encoded data removed]",
            "text/latex": "$\\displaystyle \\sqrt{7} + 3$",
            "text/plain": [
              "√7 + 3"
            ]
          },
          "metadata": {
            "tags": []
          }
        }
      ]
    },
    {
      "cell_type": "code",
      "metadata": {
        "colab": {
          "base_uri": "https://localhost:8080/",
          "height": 38
        },
        "id": "S8I9M6nDtpoX",
        "outputId": "722edd6f-3025-42cb-c859-1d69df178684"
      },
      "source": [
        "if expr1>expr2:\n",
        "  display(expr1)\n",
        "else: display(expr2)"
      ],
      "execution_count": 162,
      "outputs": [
        {
          "output_type": "display_data",
          "data": {
            "image/png": "[encoded data removed]",
            "text/latex": "$\\displaystyle \\sqrt{7} + 3$",
            "text/plain": [
              "√7 + 3"
            ]
          },
          "metadata": {
            "tags": []
          }
        }
      ]
    },
    {
      "cell_type": "markdown",
      "metadata": {
        "id": "1gdx68AHtsPb"
      },
      "source": [
        "67"
      ]
    },
    {
      "cell_type": "code",
      "metadata": {
        "colab": {
          "base_uri": "https://localhost:8080/",
          "height": 59
        },
        "id": "SzT2f1FCtsyO",
        "outputId": "d3656e6c-9bfa-440f-ee69-266c44885a1a"
      },
      "source": [
        "expr1 = sqrt(7)-sqrt(5)\n",
        "expr2 = sqrt(13)-sqrt(11)\n",
        "\n",
        "display(expr1)\n",
        "display(expr2)\n",
        "\n"
      ],
      "execution_count": 163,
      "outputs": [
        {
          "output_type": "display_data",
          "data": {
            "image/png": "[encoded data removed]",
            "text/latex": "$\\displaystyle - \\sqrt{5} + \\sqrt{7}$",
            "text/plain": [
              "-√5 + √7"
            ]
          },
          "metadata": {
            "tags": []
          }
        },
        {
          "output_type": "display_data",
          "data": {
            "image/png": "[encoded data removed]",
            "text/latex": "$\\displaystyle - \\sqrt{11} + \\sqrt{13}$",
            "text/plain": [
              "-√11 + √13"
            ]
          },
          "metadata": {
            "tags": []
          }
        }
      ]
    },
    {
      "cell_type": "code",
      "metadata": {
        "colab": {
          "base_uri": "https://localhost:8080/",
          "height": 38
        },
        "id": "DoyTvFumt6Dk",
        "outputId": "bec478d3-3cdc-4e65-c7b5-e1ce8a148a6f"
      },
      "source": [
        "if expr1>expr2:\n",
        "  display(expr1)\n",
        "else: display(expr2)"
      ],
      "execution_count": 164,
      "outputs": [
        {
          "output_type": "display_data",
          "data": {
            "image/png": "[encoded data removed]",
            "text/latex": "$\\displaystyle - \\sqrt{5} + \\sqrt{7}$",
            "text/plain": [
              "-√5 + √7"
            ]
          },
          "metadata": {
            "tags": []
          }
        }
      ]
    },
    {
      "cell_type": "markdown",
      "metadata": {
        "id": "LLtnVAfBt9Y3"
      },
      "source": [
        "68"
      ]
    },
    {
      "cell_type": "code",
      "metadata": {
        "colab": {
          "base_uri": "https://localhost:8080/",
          "height": 59
        },
        "id": "JXROYJ6Mt9EC",
        "outputId": "bce1b9e8-9646-4cef-da41-0ad9d56319df"
      },
      "source": [
        "expr1 = sqrt(14)-sqrt(11)\n",
        "expr2 = sqrt(10)-sqrt(7)\n",
        "\n",
        "display(expr1)\n",
        "display(expr2)"
      ],
      "execution_count": 165,
      "outputs": [
        {
          "output_type": "display_data",
          "data": {
            "image/png": "[encoded data removed]",
            "text/latex": "$\\displaystyle - \\sqrt{11} + \\sqrt{14}$",
            "text/plain": [
              "-√11 + √14"
            ]
          },
          "metadata": {
            "tags": []
          }
        },
        {
          "output_type": "display_data",
          "data": {
            "image/png": "[encoded data removed]",
            "text/latex": "$\\displaystyle - \\sqrt{7} + \\sqrt{10}$",
            "text/plain": [
              "-√7 + √10"
            ]
          },
          "metadata": {
            "tags": []
          }
        }
      ]
    },
    {
      "cell_type": "code",
      "metadata": {
        "colab": {
          "base_uri": "https://localhost:8080/",
          "height": 38
        },
        "id": "9gjPXKdov4qE",
        "outputId": "e546d987-b700-4051-df1f-3bc0626c14a7"
      },
      "source": [
        "if expr1>expr2:\n",
        "  display(expr1)\n",
        "else: display(expr2)"
      ],
      "execution_count": 166,
      "outputs": [
        {
          "output_type": "display_data",
          "data": {
            "image/png": "[encoded data removed]",
            "text/latex": "$\\displaystyle - \\sqrt{7} + \\sqrt{10}$",
            "text/plain": [
              "-√7 + √10"
            ]
          },
          "metadata": {
            "tags": []
          }
        }
      ]
    },
    {
      "cell_type": "markdown",
      "metadata": {
        "id": "ce07Ib4lv8Iq"
      },
      "source": [
        "69"
      ]
    },
    {
      "cell_type": "code",
      "metadata": {
        "colab": {
          "base_uri": "https://localhost:8080/",
          "height": 59
        },
        "id": "YJspZkhhv9gM",
        "outputId": "8af69e02-a42c-4b04-f6b2-2f50e4436241"
      },
      "source": [
        "expr1 = sqrt(101)+sqrt(102)\n",
        "expr2 = sqrt(99)+sqrt(104)\n",
        "\n",
        "display(expr1)\n",
        "display(expr2)"
      ],
      "execution_count": 167,
      "outputs": [
        {
          "output_type": "display_data",
          "data": {
            "image/png": "[encoded data removed]",
            "text/latex": "$\\displaystyle \\sqrt{101} + \\sqrt{102}$",
            "text/plain": [
              "√101 + √102"
            ]
          },
          "metadata": {
            "tags": []
          }
        },
        {
          "output_type": "display_data",
          "data": {
            "image/png": "[encoded data removed]",
            "text/latex": "$\\displaystyle 3 \\sqrt{11} + 2 \\sqrt{26}$",
            "text/plain": [
              "3⋅√11 + 2⋅√26"
            ]
          },
          "metadata": {
            "tags": []
          }
        }
      ]
    },
    {
      "cell_type": "code",
      "metadata": {
        "colab": {
          "base_uri": "https://localhost:8080/",
          "height": 38
        },
        "id": "ydnJ1c7gwITm",
        "outputId": "362757f9-3011-4448-c3ec-2c62ae5dec79"
      },
      "source": [
        "if expr1>expr2:\n",
        "  display(expr1)\n",
        "else: display(expr2)"
      ],
      "execution_count": 168,
      "outputs": [
        {
          "output_type": "display_data",
          "data": {
            "image/png": "[encoded data removed]",
            "text/latex": "$\\displaystyle \\sqrt{101} + \\sqrt{102}$",
            "text/plain": [
              "√101 + √102"
            ]
          },
          "metadata": {
            "tags": []
          }
        }
      ]
    },
    {
      "cell_type": "markdown",
      "metadata": {
        "id": "f2g11lZ3worZ"
      },
      "source": [
        "70"
      ]
    },
    {
      "cell_type": "code",
      "metadata": {
        "colab": {
          "base_uri": "https://localhost:8080/",
          "height": 59
        },
        "id": "nRZyeOAbwpfI",
        "outputId": "19226cc8-b5d3-4b89-c855-4f71f1989261"
      },
      "source": [
        "expr1 = sqrt(99)+sqrt(108)\n",
        "expr2 = sqrt(103)+sqrt(104)\n",
        "\n",
        "display(expr1)\n",
        "display(expr2)"
      ],
      "execution_count": 169,
      "outputs": [
        {
          "output_type": "display_data",
          "data": {
            "image/png": "[encoded data removed]",
            "text/latex": "$\\displaystyle 3 \\sqrt{11} + 6 \\sqrt{3}$",
            "text/plain": [
              "3⋅√11 + 6⋅√3"
            ]
          },
          "metadata": {
            "tags": []
          }
        },
        {
          "output_type": "display_data",
          "data": {
            "image/png": "[encoded data removed]",
            "text/latex": "$\\displaystyle \\sqrt{103} + 2 \\sqrt{26}$",
            "text/plain": [
              "√103 + 2⋅√26"
            ]
          },
          "metadata": {
            "tags": []
          }
        }
      ]
    },
    {
      "cell_type": "code",
      "metadata": {
        "colab": {
          "base_uri": "https://localhost:8080/",
          "height": 38
        },
        "id": "-CRRDFYHwvu6",
        "outputId": "5bae32c2-fada-4e7c-f983-496c9f500fa8"
      },
      "source": [
        "if expr1>expr2:\n",
        "  display(expr1)\n",
        "else: display(expr2)"
      ],
      "execution_count": 170,
      "outputs": [
        {
          "output_type": "display_data",
          "data": {
            "image/png": "[encoded data removed]",
            "text/latex": "$\\displaystyle \\sqrt{103} + 2 \\sqrt{26}$",
            "text/plain": [
              "√103 + 2⋅√26"
            ]
          },
          "metadata": {
            "tags": []
          }
        }
      ]
    },
    {
      "cell_type": "code",
      "metadata": {
        "id": "JPQ-moDoxhym"
      },
      "source": [
        ""
      ],
      "execution_count": 170,
      "outputs": []
    },
    {
      "cell_type": "markdown",
      "metadata": {
        "id": "m14wuCA-ww-E"
      },
      "source": [
        "71"
      ]
    },
    {
      "cell_type": "code",
      "metadata": {
        "colab": {
          "base_uri": "https://localhost:8080/",
          "height": 78
        },
        "id": "da_9dKUPwx1i",
        "outputId": "2a5097f7-3b39-4c32-f0fd-7e06a9b80768"
      },
      "source": [
        "b = symbols(\"b\")\n",
        "p = (b+3/b)*(3*b+1/b)\n",
        "display(p)\n",
        "expr = simplify(p/p.subs(b, 1/b))\n",
        "display(expr)"
      ],
      "execution_count": 171,
      "outputs": [
        {
          "output_type": "display_data",
          "data": {
            "image/png": "[encoded data removed]",
            "text/latex": "$\\displaystyle \\left(b + \\frac{3}{b}\\right) \\left(3 b + \\frac{1}{b}\\right)$",
            "text/plain": [
              "⎛    3⎞ ⎛      1⎞\n",
              "⎜b + ─⎟⋅⎜3⋅b + ─⎟\n",
              "⎝    b⎠ ⎝      b⎠"
            ]
          },
          "metadata": {
            "tags": []
          }
        },
        {
          "output_type": "display_data",
          "data": {
            "image/png": "[encoded data removed]",
            "text/latex": "$\\displaystyle 1$",
            "text/plain": [
              "1"
            ]
          },
          "metadata": {
            "tags": []
          }
        }
      ]
    },
    {
      "cell_type": "markdown",
      "metadata": {
        "id": "JfyE-JphxkSU"
      },
      "source": [
        "72"
      ]
    },
    {
      "cell_type": "code",
      "metadata": {
        "colab": {
          "base_uri": "https://localhost:8080/",
          "height": 78
        },
        "id": "xx2rbynDxlBl",
        "outputId": "34a56bfa-19ea-4690-9817-977a5c91130e"
      },
      "source": [
        "p = (b+5/b)*(5*b+1/b)\n",
        "display(p)\n",
        "expr = simplify(p/p.subs(b, 1/b))\n",
        "display(expr)"
      ],
      "execution_count": 172,
      "outputs": [
        {
          "output_type": "display_data",
          "data": {
            "image/png": "[encoded data removed]",
            "text/latex": "$\\displaystyle \\left(b + \\frac{5}{b}\\right) \\left(5 b + \\frac{1}{b}\\right)$",
            "text/plain": [
              "⎛    5⎞ ⎛      1⎞\n",
              "⎜b + ─⎟⋅⎜5⋅b + ─⎟\n",
              "⎝    b⎠ ⎝      b⎠"
            ]
          },
          "metadata": {
            "tags": []
          }
        },
        {
          "output_type": "display_data",
          "data": {
            "image/png": "[encoded data removed]",
            "text/latex": "$\\displaystyle 1$",
            "text/plain": [
              "1"
            ]
          },
          "metadata": {
            "tags": []
          }
        }
      ]
    },
    {
      "cell_type": "markdown",
      "metadata": {
        "id": "zKH_F4qDxye7"
      },
      "source": [
        "73"
      ]
    },
    {
      "cell_type": "code",
      "metadata": {
        "colab": {
          "base_uri": "https://localhost:8080/",
          "height": 78
        },
        "id": "6n7QSRL7xz22",
        "outputId": "46228193-152d-4337-ed6b-828c54ec2a3c"
      },
      "source": [
        "p = (b+10/b)*(10*b+1/b)\n",
        "display(p)\n",
        "expr = simplify(p/p.subs(b, 1/b))\n",
        "display(expr)"
      ],
      "execution_count": 173,
      "outputs": [
        {
          "output_type": "display_data",
          "data": {
            "image/png": "[encoded data removed]",
            "text/latex": "$\\displaystyle \\left(b + \\frac{10}{b}\\right) \\left(10 b + \\frac{1}{b}\\right)$",
            "text/plain": [
              "⎛    10⎞ ⎛       1⎞\n",
              "⎜b + ──⎟⋅⎜10⋅b + ─⎟\n",
              "⎝    b ⎠ ⎝       b⎠"
            ]
          },
          "metadata": {
            "tags": []
          }
        },
        {
          "output_type": "display_data",
          "data": {
            "image/png": "[encoded data removed]",
            "text/latex": "$\\displaystyle 1$",
            "text/plain": [
              "1"
            ]
          },
          "metadata": {
            "tags": []
          }
        }
      ]
    },
    {
      "cell_type": "markdown",
      "metadata": {
        "id": "0Qsp3bK-yAH6"
      },
      "source": [
        "74"
      ]
    },
    {
      "cell_type": "code",
      "metadata": {
        "colab": {
          "base_uri": "https://localhost:8080/",
          "height": 74
        },
        "id": "ebGxRMH4yA3m",
        "outputId": "38cc272d-0541-4e95-e541-6134aac0161e"
      },
      "source": [
        "c = symbols(\"c\")\n",
        "a = symbols(\"a\")\n",
        "p = c*(6-c)/(c-3)\n",
        "display(p)\n",
        "expr = simplify(p.subs(c, a)/p.subs(c, 6-a))\n",
        "display(expr)"
      ],
      "execution_count": 174,
      "outputs": [
        {
          "output_type": "display_data",
          "data": {
            "image/png": "[encoded data removed]",
            "text/latex": "$\\displaystyle \\frac{c \\left(6 - c\\right)}{c - 3}$",
            "text/plain": [
              "c⋅(6 - c)\n",
              "─────────\n",
              "  c - 3  "
            ]
          },
          "metadata": {
            "tags": []
          }
        },
        {
          "output_type": "display_data",
          "data": {
            "image/png": "[encoded data removed]",
            "text/latex": "$\\displaystyle -1$",
            "text/plain": [
              "-1"
            ]
          },
          "metadata": {
            "tags": []
          }
        }
      ]
    },
    {
      "cell_type": "markdown",
      "metadata": {
        "id": "kDvRc76GyfIt"
      },
      "source": [
        "75"
      ]
    },
    {
      "cell_type": "code",
      "metadata": {
        "colab": {
          "base_uri": "https://localhost:8080/",
          "height": 74
        },
        "id": "9w3FZlTYyaHC",
        "outputId": "7870d547-1caf-44c1-c9e8-e4b8a366116e"
      },
      "source": [
        "p = c*(8-c)/(c-4)\n",
        "display(p)\n",
        "expr = simplify(p.subs(c, a)/p.subs(c, 8-a))\n",
        "display(expr)"
      ],
      "execution_count": 175,
      "outputs": [
        {
          "output_type": "display_data",
          "data": {
            "image/png": "[encoded data removed]",
            "text/latex": "$\\displaystyle \\frac{c \\left(8 - c\\right)}{c - 4}$",
            "text/plain": [
              "c⋅(8 - c)\n",
              "─────────\n",
              "  c - 4  "
            ]
          },
          "metadata": {
            "tags": []
          }
        },
        {
          "output_type": "display_data",
          "data": {
            "image/png": "[encoded data removed]",
            "text/latex": "$\\displaystyle -1$",
            "text/plain": [
              "-1"
            ]
          },
          "metadata": {
            "tags": []
          }
        }
      ]
    },
    {
      "cell_type": "markdown",
      "metadata": {
        "id": "ASBxua79yl6p"
      },
      "source": [
        "76"
      ]
    },
    {
      "cell_type": "code",
      "metadata": {
        "colab": {
          "base_uri": "https://localhost:8080/",
          "height": 74
        },
        "id": "tAjsriJKygWT",
        "outputId": "c2316887-8943-4dca-dc5f-c67d39654fac"
      },
      "source": [
        "p = c*(20-c)/(c-10)\n",
        "display(p)\n",
        "expr = simplify(p.subs(c, a)/p.subs(c, 20-a))\n",
        "display(expr)"
      ],
      "execution_count": 176,
      "outputs": [
        {
          "output_type": "display_data",
          "data": {
            "image/png": "[encoded data removed]",
            "text/latex": "$\\displaystyle \\frac{c \\left(20 - c\\right)}{c - 10}$",
            "text/plain": [
              "c⋅(20 - c)\n",
              "──────────\n",
              "  c - 10  "
            ]
          },
          "metadata": {
            "tags": []
          }
        },
        {
          "output_type": "display_data",
          "data": {
            "image/png": "[encoded data removed]",
            "text/latex": "$\\displaystyle -1$",
            "text/plain": [
              "-1"
            ]
          },
          "metadata": {
            "tags": []
          }
        }
      ]
    },
    {
      "cell_type": "markdown",
      "metadata": {
        "id": "7RiJnMcZyqbp"
      },
      "source": [
        "77"
      ]
    },
    {
      "cell_type": "code",
      "metadata": {
        "colab": {
          "base_uri": "https://localhost:8080/",
          "height": 57
        },
        "id": "QzFXq0evyrGI",
        "outputId": "0cb42bdf-b653-48ab-e919-dde9180d74f7"
      },
      "source": [
        "x = symbols(\"x\")\n",
        "y = symbols(\"y\")\n",
        "#factor((25*x-16*y)/(5*sqrt(x)+4*sqrt(y)))\n",
        "cancel((25*x-16*y)/(5*sqrt(x)+4*sqrt(y)))"
      ],
      "execution_count": 177,
      "outputs": [
        {
          "output_type": "execute_result",
          "data": {
            "image/png": "[encoded data removed]",
            "text/latex": "$\\displaystyle \\frac{25 x - 16 y}{5 \\sqrt{x} + 4 \\sqrt{y}}$",
            "text/plain": [
              "25⋅x - 16⋅y\n",
              "───────────\n",
              "5⋅√x + 4⋅√y"
            ]
          },
          "metadata": {
            "tags": []
          },
          "execution_count": 177
        }
      ]
    },
    {
      "cell_type": "markdown",
      "metadata": {
        "id": "6UiSPTq_5MZV"
      },
      "source": [
        "80"
      ]
    },
    {
      "cell_type": "code",
      "metadata": {
        "id": "Zogi-doaypwQ",
        "colab": {
          "base_uri": "https://localhost:8080/",
          "height": 111
        },
        "outputId": "86525ccd-c87e-4a15-cc55-2812805b46f0"
      },
      "source": [
        "z = symbols(\"z\")\n",
        "qn = Eq(4**(x+2+z), 4**(x-5))\n",
        "display(qn)\n",
        "qn1 = Eq(x+2+z, x-5)\n",
        "display(qn1)\n",
        "display(qn1.simplify())\n",
        "#p = solveset(qn1.simplify())[0]\n",
        "sols = list(solveset(qn1, z))\n",
        "p = 4**(sols[0]+y)\n",
        "display(p.subs(y, 5))\n",
        "\n"
      ],
      "execution_count": 178,
      "outputs": [
        {
          "output_type": "display_data",
          "data": {
            "image/png": "[encoded data removed]",
            "text/latex": "$\\displaystyle 4^{x + z + 2} = 4^{x - 5}$",
            "text/plain": [
              " x + z + 2    x - 5\n",
              "4          = 4     "
            ]
          },
          "metadata": {
            "tags": []
          }
        },
        {
          "output_type": "display_data",
          "data": {
            "image/png": "[encoded data removed]",
            "text/latex": "$\\displaystyle x + z + 2 = x - 5$",
            "text/plain": [
              "x + z + 2 = x - 5"
            ]
          },
          "metadata": {
            "tags": []
          }
        },
        {
          "output_type": "display_data",
          "data": {
            "image/png": "[encoded data removed]",
            "text/latex": "$\\displaystyle z = -7$",
            "text/plain": [
              "z = -7"
            ]
          },
          "metadata": {
            "tags": []
          }
        },
        {
          "output_type": "display_data",
          "data": {
            "image/png": "[encoded data removed]",
            "text/latex": "$\\displaystyle \\frac{1}{16}$",
            "text/plain": [
              "1/16"
            ]
          },
          "metadata": {
            "tags": []
          }
        }
      ]
    },
    {
      "cell_type": "markdown",
      "metadata": {
        "id": "xNWp0Pwp9GzQ"
      },
      "source": [
        "Уравнения"
      ]
    },
    {
      "cell_type": "markdown",
      "metadata": {
        "id": "0DusM1qe9R6T"
      },
      "source": [
        "91"
      ]
    },
    {
      "cell_type": "code",
      "metadata": {
        "colab": {
          "base_uri": "https://localhost:8080/",
          "height": 47
        },
        "id": "QmB9Dj0P--ga",
        "outputId": "bafe25f0-b256-4a6c-f53d-7c5b9bc839a5"
      },
      "source": [
        "solveset((x**2+x-5)/x + 3*x/(x**2+x-5)+4, x, domain=S.Reals)"
      ],
      "execution_count": 179,
      "outputs": [
        {
          "output_type": "execute_result",
          "data": {
            "image/png": "[encoded data removed]",
            "text/latex": "$\\displaystyle \\left\\{-5, 1, -1 + \\sqrt{6}, - \\sqrt{6} - 1\\right\\}$",
            "text/plain": [
              "{-5, 1, -1 + √6, -√6 - 1}"
            ]
          },
          "metadata": {
            "tags": []
          },
          "execution_count": 179
        }
      ]
    },
    {
      "cell_type": "markdown",
      "metadata": {
        "id": "vegWq084BORh"
      },
      "source": [
        "92"
      ]
    },
    {
      "cell_type": "code",
      "metadata": {
        "colab": {
          "base_uri": "https://localhost:8080/",
          "height": 56
        },
        "id": "hEwAhQxZBmfk",
        "outputId": "32c81aaa-eb13-4f4a-cee7-7ce17ac9b900"
      },
      "source": [
        "Eq((x**2-14)/x - 10*x/(x**2-14),3)"
      ],
      "execution_count": 180,
      "outputs": [
        {
          "output_type": "execute_result",
          "data": {
            "image/png": "[encoded data removed]",
            "text/latex": "$\\displaystyle - \\frac{10 x}{x^{2} - 14} + \\frac{x^{2} - 14}{x} = 3$",
            "text/plain": [
              "             2         \n",
              "    10⋅x    x  - 14    \n",
              "- ─────── + ─────── = 3\n",
              "   2           x       \n",
              "  x  - 14              "
            ]
          },
          "metadata": {
            "tags": []
          },
          "execution_count": 180
        }
      ]
    },
    {
      "cell_type": "code",
      "metadata": {
        "colab": {
          "base_uri": "https://localhost:8080/",
          "height": 47
        },
        "id": "dN9MrOmnBPS2",
        "outputId": "beb45a64-6f2f-43a5-a786-763ab46549a6"
      },
      "source": [
        "solveset(Eq((x**2-14)/x - 10*x/(x**2-14),3), domain=S.Reals)"
      ],
      "execution_count": 181,
      "outputs": [
        {
          "output_type": "execute_result",
          "data": {
            "image/png": "[encoded data removed]",
            "text/latex": "$\\displaystyle \\left\\{-2, 7, -1 + \\sqrt{15}, - \\sqrt{15} - 1\\right\\}$",
            "text/plain": [
              "{-2, 7, -1 + √15, -√15 - 1}"
            ]
          },
          "metadata": {
            "tags": []
          },
          "execution_count": 181
        }
      ]
    },
    {
      "cell_type": "markdown",
      "metadata": {
        "id": "1_vKcr8yB9Z7"
      },
      "source": [
        "93"
      ]
    },
    {
      "cell_type": "code",
      "metadata": {
        "colab": {
          "base_uri": "https://localhost:8080/",
          "height": 86
        },
        "id": "jH__r6DQB-K8",
        "outputId": "01990b00-df17-402c-d956-b58f20c2c596"
      },
      "source": [
        "display(Eq(((x**2+12)/(9-x**2))**2 - (7*x/(x**2-9))**2,0))\n",
        "solveset(Eq(((x**2+12)/(9-x**2))**2 - (7*x/(x**2-9))**2,0), domain=S.Reals)"
      ],
      "execution_count": 182,
      "outputs": [
        {
          "output_type": "display_data",
          "data": {
            "image/png": "[encoded data removed]",
            "text/latex": "$\\displaystyle - \\frac{49 x^{2}}{\\left(x^{2} - 9\\right)^{2}} + \\frac{\\left(x^{2} + 12\\right)^{2}}{\\left(9 - x^{2}\\right)^{2}} = 0$",
            "text/plain": [
              "                       2    \n",
              "        2     ⎛ 2     ⎞     \n",
              "    49⋅x      ⎝x  + 12⎠     \n",
              "- ───────── + ────────── = 0\n",
              "          2           2     \n",
              "  ⎛ 2    ⎞    ⎛     2⎞      \n",
              "  ⎝x  - 9⎠    ⎝9 - x ⎠      "
            ]
          },
          "metadata": {
            "tags": []
          }
        },
        {
          "output_type": "execute_result",
          "data": {
            "image/png": "[encoded data removed]",
            "text/latex": "$\\displaystyle \\left\\{-4, 4\\right\\}$",
            "text/plain": [
              "{-4, 4}"
            ]
          },
          "metadata": {
            "tags": []
          },
          "execution_count": 182
        }
      ]
    },
    {
      "cell_type": "markdown",
      "metadata": {
        "id": "rUhXbBU_Cd_E"
      },
      "source": [
        "94"
      ]
    },
    {
      "cell_type": "code",
      "metadata": {
        "colab": {
          "base_uri": "https://localhost:8080/",
          "height": 86
        },
        "id": "YwHBr_oDCfGU",
        "outputId": "a6bcb39e-2939-4a0b-c4b9-9f51f5c7ad2a"
      },
      "source": [
        "qn = Eq(((x**2+10)/(4-x**2))**2 - (7*x/(x**2-4))**2,0)\n",
        "display(qn)\n",
        "solveset(qn, domain=S.Reals)"
      ],
      "execution_count": 183,
      "outputs": [
        {
          "output_type": "display_data",
          "data": {
            "image/png": "[encoded data removed]",
            "text/latex": "$\\displaystyle - \\frac{49 x^{2}}{\\left(x^{2} - 4\\right)^{2}} + \\frac{\\left(x^{2} + 10\\right)^{2}}{\\left(4 - x^{2}\\right)^{2}} = 0$",
            "text/plain": [
              "                       2    \n",
              "        2     ⎛ 2     ⎞     \n",
              "    49⋅x      ⎝x  + 10⎠     \n",
              "- ───────── + ────────── = 0\n",
              "          2           2     \n",
              "  ⎛ 2    ⎞    ⎛     2⎞      \n",
              "  ⎝x  - 4⎠    ⎝4 - x ⎠      "
            ]
          },
          "metadata": {
            "tags": []
          }
        },
        {
          "output_type": "execute_result",
          "data": {
            "image/png": "[encoded data removed]",
            "text/latex": "$\\displaystyle \\left\\{-5, 5\\right\\}$",
            "text/plain": [
              "{-5, 5}"
            ]
          },
          "metadata": {
            "tags": []
          },
          "execution_count": 183
        }
      ]
    },
    {
      "cell_type": "markdown",
      "metadata": {
        "id": "wZId4EHnDDHK"
      },
      "source": [
        "95"
      ]
    },
    {
      "cell_type": "code",
      "metadata": {
        "colab": {
          "base_uri": "https://localhost:8080/",
          "height": 78
        },
        "id": "qSDws3z0DENh",
        "outputId": "64bb7935-1d04-4b0e-e351-fc2c54139622"
      },
      "source": [
        "qn = Eq(1/(x*(x+2))-1/(x+1)**2,1/12)\n",
        "display(qn)\n",
        "solveset(qn, domain=S.Reals)"
      ],
      "execution_count": 184,
      "outputs": [
        {
          "output_type": "display_data",
          "data": {
            "image/png": "[encoded data removed]",
            "text/latex": "$\\displaystyle - \\frac{1}{\\left(x + 1\\right)^{2}} + \\frac{1}{x \\left(x + 2\\right)} = 0.0833333333333333$",
            "text/plain": [
              "     1           1                         \n",
              "- ──────── + ───────── = 0.0833333333333333\n",
              "         2   x⋅(x + 2)                     \n",
              "  (x + 1)                                  "
            ]
          },
          "metadata": {
            "tags": []
          }
        },
        {
          "output_type": "execute_result",
          "data": {
            "image/png": "[encoded data removed]",
            "text/latex": "$\\displaystyle \\left\\{-3.0, 1.0\\right\\}$",
            "text/plain": [
              "{-3.0, 1.0}"
            ]
          },
          "metadata": {
            "tags": []
          },
          "execution_count": 184
        }
      ]
    },
    {
      "cell_type": "markdown",
      "metadata": {
        "id": "vnhlmj0PDtkr"
      },
      "source": [
        "96"
      ]
    },
    {
      "cell_type": "code",
      "metadata": {
        "colab": {
          "base_uri": "https://localhost:8080/",
          "height": 78
        },
        "id": "h03Vu-1yDv7r",
        "outputId": "6e4432ea-a2b2-47c9-e6e7-71d0b6788511"
      },
      "source": [
        "qn = Eq(1/(x-2)**2-1/(x*(x-4)),4/3)\n",
        "display(qn)\n",
        "solveset(qn, domain=S.Reals)"
      ],
      "execution_count": 185,
      "outputs": [
        {
          "output_type": "display_data",
          "data": {
            "image/png": "[encoded data removed]",
            "text/latex": "$\\displaystyle \\frac{1}{\\left(x - 2\\right)^{2}} - \\frac{1}{x \\left(x - 4\\right)} = 1.33333333333333$",
            "text/plain": [
              "   1           1                       \n",
              "──────── - ───────── = 1.33333333333333\n",
              "       2   x⋅(x - 4)                   \n",
              "(x - 2)                                "
            ]
          },
          "metadata": {
            "tags": []
          }
        },
        {
          "output_type": "execute_result",
          "data": {
            "image/png": "[encoded data removed]",
            "text/latex": "$\\displaystyle \\left\\{0.267949192431123, 1.0, 3.0, 3.73205080756888\\right\\}$",
            "text/plain": [
              "{0.267949192431123, 1.0, 3.0, 3.73205080756888}"
            ]
          },
          "metadata": {
            "tags": []
          },
          "execution_count": 185
        }
      ]
    },
    {
      "cell_type": "markdown",
      "metadata": {
        "id": "RYlPbvGTDu8-"
      },
      "source": [
        "97"
      ]
    },
    {
      "cell_type": "code",
      "metadata": {
        "colab": {
          "base_uri": "https://localhost:8080/",
          "height": 81
        },
        "id": "Fh-_seLfEJum",
        "outputId": "7e1c8849-197c-4c12-8a9d-fdcc860c7520"
      },
      "source": [
        "qn = Eq((x-2*x/(x+2))**2+4*x**2/(x+2),5)\n",
        "display(qn)\n",
        "solveset(qn, domain=S.Reals)"
      ],
      "execution_count": 186,
      "outputs": [
        {
          "output_type": "display_data",
          "data": {
            "image/png": "[encoded data removed]",
            "text/latex": "$\\displaystyle \\frac{4 x^{2}}{x + 2} + \\left(x - \\frac{2 x}{x + 2}\\right)^{2} = 5$",
            "text/plain": [
              "    2              2    \n",
              " 4⋅x    ⎛     2⋅x ⎞     \n",
              "───── + ⎜x - ─────⎟  = 5\n",
              "x + 2   ⎝    x + 2⎠     "
            ]
          },
          "metadata": {
            "tags": []
          }
        },
        {
          "output_type": "execute_result",
          "data": {
            "image/png": "[encoded data removed]",
            "text/latex": "$\\displaystyle \\left\\{-1, 2\\right\\}$",
            "text/plain": [
              "{-1, 2}"
            ]
          },
          "metadata": {
            "tags": []
          },
          "execution_count": 186
        }
      ]
    },
    {
      "cell_type": "markdown",
      "metadata": {
        "id": "rjhjzY1pEfiL"
      },
      "source": [
        "98"
      ]
    },
    {
      "cell_type": "code",
      "metadata": {
        "colab": {
          "base_uri": "https://localhost:8080/",
          "height": 101
        },
        "id": "dBJ7bKnLEgol",
        "outputId": "543d7226-c7e3-4ad3-db07-2c0155003c45"
      },
      "source": [
        "qn = Eq((x+3*x/(x-3))**2 +3*x**2/(x-3),4)\n",
        "display(qn)\n",
        "sols = list(solveset(qn, x,domain=S.Reals))\n",
        "for sol in sols:\n",
        "  display(N(sol))"
      ],
      "execution_count": 187,
      "outputs": [
        {
          "output_type": "display_data",
          "data": {
            "image/png": "[encoded data removed]",
            "text/latex": "$\\displaystyle \\frac{3 x^{2}}{x - 3} + \\left(x + \\frac{3 x}{x - 3}\\right)^{2} = 4$",
            "text/plain": [
              "    2              2    \n",
              " 3⋅x    ⎛     3⋅x ⎞     \n",
              "───── + ⎜x + ─────⎟  = 4\n",
              "x - 3   ⎝    x - 3⎠     "
            ]
          },
          "metadata": {
            "tags": []
          }
        },
        {
          "output_type": "display_data",
          "data": {
            "image/png": "[encoded data removed]",
            "text/latex": "$\\displaystyle -6.0$",
            "text/plain": [
              "-6.00000000000000"
            ]
          },
          "metadata": {
            "tags": []
          }
        },
        {
          "output_type": "display_data",
          "data": {
            "image/png": "[encoded data removed]",
            "text/latex": "$\\displaystyle 2.0$",
            "text/plain": [
              "2.00000000000000"
            ]
          },
          "metadata": {
            "tags": []
          }
        }
      ]
    },
    {
      "cell_type": "markdown",
      "metadata": {
        "id": "rlDwcWN0HHpH"
      },
      "source": [
        "99"
      ]
    },
    {
      "cell_type": "code",
      "metadata": {
        "colab": {
          "base_uri": "https://localhost:8080/",
          "height": 92
        },
        "id": "SkpAuaZRHI7o",
        "outputId": "137f7053-93e5-41ec-dba3-4e2e7b390d5a"
      },
      "source": [
        "qn = Eq(7*(x+1/x)-2*(x**2+1/x**2),9)\n",
        "display(qn)\n",
        "solveset(qn, domain=S.Reals)"
      ],
      "execution_count": 188,
      "outputs": [
        {
          "output_type": "display_data",
          "data": {
            "image/png": "[encoded data removed]",
            "text/latex": "$\\displaystyle - 2 x^{2} + 7 x + \\frac{7}{x} - \\frac{2}{x^{2}} = 9$",
            "text/plain": [
              "     2         7   2     \n",
              "- 2⋅x  + 7⋅x + ─ - ── = 9\n",
              "               x    2    \n",
              "                   x     "
            ]
          },
          "metadata": {
            "tags": []
          }
        },
        {
          "output_type": "execute_result",
          "data": {
            "image/png": "[encoded data removed]",
            "text/latex": "$\\displaystyle \\left\\{\\frac{1}{2}, 2\\right\\}$",
            "text/plain": [
              "{1/2, 2}"
            ]
          },
          "metadata": {
            "tags": []
          },
          "execution_count": 188
        }
      ]
    },
    {
      "cell_type": "markdown",
      "metadata": {
        "id": "F2Ou7XSoHX_3"
      },
      "source": [
        "100"
      ]
    },
    {
      "cell_type": "code",
      "metadata": {
        "colab": {
          "base_uri": "https://localhost:8080/",
          "height": 92
        },
        "id": "PODZaDQ7HY88",
        "outputId": "47915db5-43ec-4b0b-d2be-c553bb197641"
      },
      "source": [
        "qn = Eq(2*(x**2+1/x**2)-11*(x-1/x)+8,0)\n",
        "display(qn)\n",
        "solveset(qn, domain=S.Reals)"
      ],
      "execution_count": 189,
      "outputs": [
        {
          "output_type": "display_data",
          "data": {
            "image/png": "[encoded data removed]",
            "text/latex": "$\\displaystyle 2 x^{2} - 11 x + 8 + \\frac{11}{x} + \\frac{2}{x^{2}} = 0$",
            "text/plain": [
              "   2              11   2     \n",
              "2⋅x  - 11⋅x + 8 + ── + ── = 0\n",
              "                  x     2    \n",
              "                       x     "
            ]
          },
          "metadata": {
            "tags": []
          }
        },
        {
          "output_type": "execute_result",
          "data": {
            "image/png": "[encoded data removed]",
            "text/latex": "$\\displaystyle \\left\\{- \\frac{1}{2}, 2, 2 - \\sqrt{5}, 2 + \\sqrt{5}\\right\\}$",
            "text/plain": [
              "{-1/2, 2, 2 - √5, 2 + √5}"
            ]
          },
          "metadata": {
            "tags": []
          },
          "execution_count": 189
        }
      ]
    },
    {
      "cell_type": "markdown",
      "metadata": {
        "id": "8bc5kbzBHtGh"
      },
      "source": [
        "101"
      ]
    },
    {
      "cell_type": "code",
      "metadata": {
        "colab": {
          "base_uri": "https://localhost:8080/",
          "height": 106
        },
        "id": "LtUyHc8DHuQ1",
        "outputId": "9fa07321-3d81-412d-8f35-5dc7fc6ddf75"
      },
      "source": [
        "qn = Eq(12/((x+1)*(x+5))+15/((x+2)*(x+4)), 2)\n",
        "display(qn)\n",
        "solveset(qn, domain=S.Reals)"
      ],
      "execution_count": 190,
      "outputs": [
        {
          "output_type": "display_data",
          "data": {
            "image/png": "[encoded data removed]",
            "text/latex": "$\\displaystyle \\frac{15}{\\left(x + 2\\right) \\left(x + 4\\right)} + \\frac{12}{\\left(x + 1\\right) \\left(x + 5\\right)} = 2$",
            "text/plain": [
              "       15                12          \n",
              "─────────────── + ─────────────── = 2\n",
              "(x + 2)⋅(x + 4)   (x + 1)⋅(x + 5)    "
            ]
          },
          "metadata": {
            "tags": []
          }
        },
        {
          "output_type": "execute_result",
          "data": {
            "image/png": "[encoded data removed]",
            "text/latex": "$\\displaystyle \\left\\{-7, 1, -3 - \\frac{\\sqrt{10}}{2}, -3 + \\frac{\\sqrt{10}}{2}\\right\\}$",
            "text/plain": [
              "⎧            √10       √10⎫\n",
              "⎨-7, 1, -3 - ───, -3 + ───⎬\n",
              "⎩             2         2 ⎭"
            ]
          },
          "metadata": {
            "tags": []
          },
          "execution_count": 190
        }
      ]
    },
    {
      "cell_type": "markdown",
      "metadata": {
        "id": "sOfs8JucIDL5"
      },
      "source": [
        "102"
      ]
    },
    {
      "cell_type": "code",
      "metadata": {
        "colab": {
          "base_uri": "https://localhost:8080/",
          "height": 86
        },
        "id": "uqAUViLsID62",
        "outputId": "697337e3-27b7-4943-bd06-290ba0bfa1a4"
      },
      "source": [
        "qn = Eq(1/((x+1)*(x+3))+9/((x-1)*(x+5)), -1)\n",
        "display(qn)\n",
        "solveset(qn, domain=S.Reals)"
      ],
      "execution_count": 191,
      "outputs": [
        {
          "output_type": "display_data",
          "data": {
            "image/png": "[encoded data removed]",
            "text/latex": "$\\displaystyle \\frac{1}{\\left(x + 1\\right) \\left(x + 3\\right)} + \\frac{9}{\\left(x - 1\\right) \\left(x + 5\\right)} = -1$",
            "text/plain": [
              "       1                 9            \n",
              "─────────────── + ─────────────── = -1\n",
              "(x + 1)⋅(x + 3)   (x - 1)⋅(x + 5)     "
            ]
          },
          "metadata": {
            "tags": []
          }
        },
        {
          "output_type": "execute_result",
          "data": {
            "image/png": "[encoded data removed]",
            "text/latex": "$\\displaystyle \\left\\{-2 - \\sqrt{3}, -2 + \\sqrt{3}\\right\\}$",
            "text/plain": [
              "{-2 - √3, -2 + √3}"
            ]
          },
          "metadata": {
            "tags": []
          },
          "execution_count": 191
        }
      ]
    },
    {
      "cell_type": "markdown",
      "metadata": {
        "id": "akeJCoNTIQ-5"
      },
      "source": [
        "103"
      ]
    },
    {
      "cell_type": "code",
      "metadata": {
        "colab": {
          "base_uri": "https://localhost:8080/",
          "height": 69
        },
        "id": "VYI7yTgvIRnT",
        "outputId": "672302c2-344b-4abf-926a-2fd635c10d15"
      },
      "source": [
        "qn = Eq(x**3-4*x**2+3*x+2,0)\n",
        "display(qn)\n",
        "solveset(qn, domain=S.Reals)"
      ],
      "execution_count": 192,
      "outputs": [
        {
          "output_type": "display_data",
          "data": {
            "image/png": "[encoded data removed]",
            "text/latex": "$\\displaystyle x^{3} - 4 x^{2} + 3 x + 2 = 0$",
            "text/plain": [
              " 3      2              \n",
              "x  - 4⋅x  + 3⋅x + 2 = 0"
            ]
          },
          "metadata": {
            "tags": []
          }
        },
        {
          "output_type": "execute_result",
          "data": {
            "image/png": "[encoded data removed]",
            "text/latex": "$\\displaystyle \\left\\{2, 1 - \\sqrt{2}, 1 + \\sqrt{2}\\right\\}$",
            "text/plain": [
              "{2, 1 - √2, 1 + √2}"
            ]
          },
          "metadata": {
            "tags": []
          },
          "execution_count": 192
        }
      ]
    },
    {
      "cell_type": "markdown",
      "metadata": {
        "id": "MvJ6pLAcIcgj"
      },
      "source": [
        "104"
      ]
    },
    {
      "cell_type": "code",
      "metadata": {
        "colab": {
          "base_uri": "https://localhost:8080/",
          "height": 90
        },
        "id": "90Fy_3OUId06",
        "outputId": "0f059fb2-0540-4b5a-a5a1-16f7a04223e6"
      },
      "source": [
        "qn = Eq(x**3-x**2-9*x-6,0)\n",
        "display(qn)\n",
        "solveset(qn, domain=S.Reals)"
      ],
      "execution_count": 193,
      "outputs": [
        {
          "output_type": "display_data",
          "data": {
            "image/png": "[encoded data removed]",
            "text/latex": "$\\displaystyle x^{3} - x^{2} - 9 x - 6 = 0$",
            "text/plain": [
              " 3    2              \n",
              "x  - x  - 9⋅x - 6 = 0"
            ]
          },
          "metadata": {
            "tags": []
          }
        },
        {
          "output_type": "execute_result",
          "data": {
            "image/png": "[encoded data removed]",
            "text/latex": "$\\displaystyle \\left\\{-2, \\frac{3}{2} - \\frac{\\sqrt{21}}{2}, \\frac{3}{2} + \\frac{\\sqrt{21}}{2}\\right\\}$",
            "text/plain": [
              "⎧    3   √21  3   √21⎫\n",
              "⎨-2, ─ - ───, ─ + ───⎬\n",
              "⎩    2    2   2    2 ⎭"
            ]
          },
          "metadata": {
            "tags": []
          },
          "execution_count": 193
        }
      ]
    },
    {
      "cell_type": "markdown",
      "metadata": {
        "id": "qmxXr0EBIrZC"
      },
      "source": [
        "105"
      ]
    },
    {
      "cell_type": "code",
      "metadata": {
        "colab": {
          "base_uri": "https://localhost:8080/",
          "height": 58
        },
        "id": "ROtiqhRXIsqj",
        "outputId": "b57c4ce0-f3ff-4f8f-bc3d-922181864c64"
      },
      "source": [
        "qn = Eq(x**4+x**3+x**2+3*x+2,0)\n",
        "display(qn)\n",
        "solveset(qn, domain=S.Reals)"
      ],
      "execution_count": 194,
      "outputs": [
        {
          "output_type": "display_data",
          "data": {
            "image/png": "[encoded data removed]",
            "text/latex": "$\\displaystyle x^{4} + x^{3} + x^{2} + 3 x + 2 = 0$",
            "text/plain": [
              " 4    3    2              \n",
              "x  + x  + x  + 3⋅x + 2 = 0"
            ]
          },
          "metadata": {
            "tags": []
          }
        },
        {
          "output_type": "execute_result",
          "data": {
            "image/png": "[encoded data removed]",
            "text/latex": "$\\displaystyle \\left\\{-1\\right\\}$",
            "text/plain": [
              "{-1}"
            ]
          },
          "metadata": {
            "tags": []
          },
          "execution_count": 194
        }
      ]
    },
    {
      "cell_type": "markdown",
      "metadata": {
        "id": "zYdJZYSdJHBP"
      },
      "source": [
        "Неравенства"
      ]
    },
    {
      "cell_type": "markdown",
      "metadata": {
        "id": "1I1Z-coPJJhe"
      },
      "source": [
        "25"
      ]
    },
    {
      "cell_type": "code",
      "metadata": {
        "colab": {
          "base_uri": "https://localhost:8080/",
          "height": 37
        },
        "id": "yIflDqhKJKay",
        "outputId": "74d1fc24-f4b9-4ce1-e963-dea3c937e7ff"
      },
      "source": [
        "solveset(x**4-5*x**2+4 < 0, x, S.Reals)"
      ],
      "execution_count": 195,
      "outputs": [
        {
          "output_type": "execute_result",
          "data": {
            "image/png": "[encoded data removed]",
            "text/latex": "$\\displaystyle \\left(-2, -1\\right) \\cup \\left(1, 2\\right)$",
            "text/plain": [
              "(-2, -1) ∪ (1, 2)"
            ]
          },
          "metadata": {
            "tags": []
          },
          "execution_count": 195
        }
      ]
    },
    {
      "cell_type": "markdown",
      "metadata": {
        "id": "VE3XczSiJ0qM"
      },
      "source": [
        "26"
      ]
    },
    {
      "cell_type": "code",
      "metadata": {
        "colab": {
          "base_uri": "https://localhost:8080/",
          "height": 37
        },
        "id": "wYe7fEQ6J1ZB",
        "outputId": "a4b34d93-10b6-4465-ca35-f5e626e835f5"
      },
      "source": [
        "solveset(x**4-13*x**2+36 >= 0, x, S.Reals)"
      ],
      "execution_count": 196,
      "outputs": [
        {
          "output_type": "execute_result",
          "data": {
            "image/png": "[encoded data removed]",
            "text/latex": "$\\displaystyle \\left(-\\infty, -3\\right] \\cup \\left[-2, 2\\right] \\cup \\left[3, \\infty\\right)$",
            "text/plain": [
              "(-∞, -3] ∪ [-2, 2] ∪ [3, ∞)"
            ]
          },
          "metadata": {
            "tags": []
          },
          "execution_count": 196
        }
      ]
    },
    {
      "cell_type": "markdown",
      "metadata": {
        "id": "moiN4Q-qJ_1p"
      },
      "source": [
        "27"
      ]
    },
    {
      "cell_type": "code",
      "metadata": {
        "colab": {
          "base_uri": "https://localhost:8080/",
          "height": 37
        },
        "id": "RkitFuDEKAkP",
        "outputId": "a921d740-999b-4fae-8bf5-9af279fcb090"
      },
      "source": [
        "solveset((x**2+1)**2-12*(x**2+1)+20>=0, x, S.Reals)"
      ],
      "execution_count": 197,
      "outputs": [
        {
          "output_type": "execute_result",
          "data": {
            "image/png": "[encoded data removed]",
            "text/latex": "$\\displaystyle \\left(-\\infty, -3\\right] \\cup \\left[-1, 1\\right] \\cup \\left[3, \\infty\\right)$",
            "text/plain": [
              "(-∞, -3] ∪ [-1, 1] ∪ [3, ∞)"
            ]
          },
          "metadata": {
            "tags": []
          },
          "execution_count": 197
        }
      ]
    },
    {
      "cell_type": "markdown",
      "metadata": {
        "id": "OZQ2PqUWKPyN"
      },
      "source": [
        "28"
      ]
    },
    {
      "cell_type": "code",
      "metadata": {
        "colab": {
          "base_uri": "https://localhost:8080/",
          "height": 37
        },
        "id": "neL2C1Z2KSmS",
        "outputId": "cde8beff-db4c-4527-85aa-628701b8b9de"
      },
      "source": [
        "solveset((x**2-5)**2-10*(x**2-5)-11<=0, x, S.Reals)"
      ],
      "execution_count": 198,
      "outputs": [
        {
          "output_type": "execute_result",
          "data": {
            "image/png": "[encoded data removed]",
            "text/latex": "$\\displaystyle \\left[-4, -2\\right] \\cup \\left[2, 4\\right]$",
            "text/plain": [
              "[-4, -2] ∪ [2, 4]"
            ]
          },
          "metadata": {
            "tags": []
          },
          "execution_count": 198
        }
      ]
    },
    {
      "cell_type": "markdown",
      "metadata": {
        "id": "NbrRc03GKgoH"
      },
      "source": [
        "34"
      ]
    },
    {
      "cell_type": "code",
      "metadata": {
        "colab": {
          "base_uri": "https://localhost:8080/",
          "height": 37
        },
        "id": "GglzXIPMKhcd",
        "outputId": "f37f3402-fa57-4894-9981-647b96a1b6a2"
      },
      "source": [
        "solveset((x**2-5)**2-10*(x**2-5)-11>0, x, S.Reals)"
      ],
      "execution_count": 199,
      "outputs": [
        {
          "output_type": "execute_result",
          "data": {
            "image/png": "[encoded data removed]",
            "text/latex": "$\\displaystyle \\left(-\\infty, -4\\right) \\cup \\left(-2, 2\\right) \\cup \\left(4, \\infty\\right)$",
            "text/plain": [
              "(-∞, -4) ∪ (-2, 2) ∪ (4, ∞)"
            ]
          },
          "metadata": {
            "tags": []
          },
          "execution_count": 199
        }
      ]
    },
    {
      "cell_type": "markdown",
      "metadata": {
        "id": "NnhCSXUfPLq6"
      },
      "source": [
        "Системы уравнений (49-56)"
      ]
    },
    {
      "cell_type": "markdown",
      "metadata": {
        "id": "mBsuPCjPbINc"
      },
      "source": [
        "49"
      ]
    },
    {
      "cell_type": "code",
      "metadata": {
        "colab": {
          "base_uri": "https://localhost:8080/",
          "height": 91
        },
        "id": "mMXxDuOdPYJB",
        "outputId": "ee4eb39e-813e-4def-893f-e40170884753"
      },
      "source": [
        "from sympy.solvers.solveset import linsolve\n",
        "import sympy\n",
        "from sympy import *\n",
        "init_printing()\n",
        "\n",
        "equations = [\n",
        "    Eq( x**2 + y**2+x*y, 7 ),\n",
        "    Eq( x+y+x*y , 5)\n",
        "]\n",
        "display(equations)\n",
        "solve(equations, [x,y], real=true)"
      ],
      "execution_count": 205,
      "outputs": [
        {
          "output_type": "display_data",
          "data": {
            "image/png": "[encoded data removed]",
            "text/latex": "$\\displaystyle \\left[ x^{2} + x y + y^{2} = 7, \\  x y + x + y = 5\\right]$",
            "text/plain": [
              "⎡ 2          2                     ⎤\n",
              "⎣x  + x⋅y + y  = 7, x⋅y + x + y = 5⎦"
            ]
          },
          "metadata": {
            "tags": []
          }
        },
        {
          "output_type": "execute_result",
          "data": {
            "image/png": "[encoded data removed]",
            "text/latex": "$\\displaystyle \\left[ \\left( 1, \\  2\\right), \\  \\left( 2, \\  1\\right), \\  \\left( \\frac{5}{3} - \\frac{\\sqrt{5} i}{6} - \\frac{\\left(-2 - \\sqrt{5} i\\right)^{3}}{6}, \\  -2 - \\sqrt{5} i\\right), \\  \\left( \\frac{5}{3} - \\frac{\\left(-2 + \\sqrt{5} i\\right)^{3}}{6} + \\frac{\\sqrt{5} i}{6}, \\  -2 + \\sqrt{5} i\\right)\\right]$",
            "text/plain": [
              "⎡                ⎛                      3           ⎞  ⎛               3      \n",
              "⎢                ⎜5   √5⋅ⅈ   (-2 - √5⋅ⅈ)            ⎟  ⎜5   (-2 + √5⋅ⅈ)    √5⋅\n",
              "⎢(1, 2), (2, 1), ⎜─ - ──── - ────────────, -2 - √5⋅ⅈ⎟, ⎜─ - ──────────── + ───\n",
              "⎣                ⎝3    6          6                 ⎠  ⎝3        6          6 \n",
              "\n",
              "            ⎞⎤\n",
              "ⅈ           ⎟⎥\n",
              "─, -2 + √5⋅ⅈ⎟⎥\n",
              "            ⎠⎦"
            ]
          },
          "metadata": {
            "tags": []
          },
          "execution_count": 205
        }
      ]
    },
    {
      "cell_type": "markdown",
      "metadata": {
        "id": "9GMRievqbJ7J"
      },
      "source": [
        "50"
      ]
    },
    {
      "cell_type": "code",
      "metadata": {
        "colab": {
          "base_uri": "https://localhost:8080/",
          "height": 58
        },
        "id": "75iKa4UvSClM",
        "outputId": "1d96bd1f-8075-43d7-a047-02298ee0ae21"
      },
      "source": [
        "equations = [\n",
        "    Eq( x**2 + y**2-x*y, 3 ),\n",
        "    Eq( x+y-x*y , 1)\n",
        "]\n",
        "display(equations)\n",
        "solve(equations,[x,y])"
      ],
      "execution_count": 210,
      "outputs": [
        {
          "output_type": "display_data",
          "data": {
            "image/png": "[encoded data removed]",
            "text/latex": "$\\displaystyle \\left[ x^{2} - x y + y^{2} = 3, \\  - x y + x + y = 1\\right]$",
            "text/plain": [
              "⎡ 2          2                      ⎤\n",
              "⎣x  - x⋅y + y  = 3, -x⋅y + x + y = 1⎦"
            ]
          },
          "metadata": {
            "tags": []
          }
        },
        {
          "output_type": "execute_result",
          "data": {
            "image/png": "[encoded data removed]",
            "text/latex": "$\\displaystyle \\left[ \\left( -1, \\  1\\right), \\  \\left( 1, \\  -1\\right), \\  \\left( 1, \\  2\\right), \\  \\left( 2, \\  1\\right)\\right]$",
            "text/plain": [
              "[(-1, 1), (1, -1), (1, 2), (2, 1)]"
            ]
          },
          "metadata": {
            "tags": []
          },
          "execution_count": 210
        }
      ]
    },
    {
      "cell_type": "markdown",
      "metadata": {
        "id": "Njk_q6rlcVVJ"
      },
      "source": [
        "51"
      ]
    },
    {
      "cell_type": "code",
      "metadata": {
        "colab": {
          "base_uri": "https://localhost:8080/",
          "height": 60
        },
        "id": "jNFd4t3TcUiB",
        "outputId": "1914e3db-dd75-429e-ec29-a55bb1f15a90"
      },
      "source": [
        "equations = [\n",
        "    Eq( x**2 + 1/2*x-5*y, 8),\n",
        "    Eq(y**2+x+2*x**2, 40)\n",
        "]\n",
        "display(equations)\n",
        "solve(equations,[x,y], real=true)"
      ],
      "execution_count": 208,
      "outputs": [
        {
          "output_type": "display_data",
          "data": {
            "image/png": "[encoded data removed]",
            "text/latex": "$\\displaystyle \\left[ x^{2} + 0.5 x - 5 y = 8, \\  2 x^{2} + x + y^{2} = 40\\right]$",
            "text/plain": [
              "⎡ 2                       2        2     ⎤\n",
              "⎣x  + 0.5⋅x - 5⋅y = 8, 2⋅x  + x + y  = 40⎦"
            ]
          },
          "metadata": {
            "tags": []
          }
        },
        {
          "output_type": "execute_result",
          "data": {
            "image/png": "[encoded data removed]",
            "text/latex": "$\\displaystyle \\left[ \\left( -4.5, \\  2.0\\right), \\  \\left( 4.0, \\  2.0\\right), \\  \\left( -0.25 - 7.20676765269979 i, \\  -12.0\\right), \\  \\left( -0.25 + 7.20676765269979 i, \\  -12.0\\right)\\right]$",
            "text/plain": [
              "[(-4.5, 2.0), (4.0, 2.0), (-0.25 - 7.20676765269979⋅ⅈ, -12.0), (-0.25 + 7.2067\n",
              "6765269979⋅ⅈ, -12.0)]"
            ]
          },
          "metadata": {
            "tags": []
          },
          "execution_count": 208
        }
      ]
    },
    {
      "cell_type": "markdown",
      "metadata": {
        "id": "KmgifOjsdkNV"
      },
      "source": [
        "52"
      ]
    },
    {
      "cell_type": "code",
      "metadata": {
        "colab": {
          "base_uri": "https://localhost:8080/",
          "height": 58
        },
        "id": "tfcIcVJ3dlIt",
        "outputId": "d7f4c299-1544-4b19-fc26-105a3bddf961"
      },
      "source": [
        "equations = [\n",
        "    Eq( x**2 -y+2*y**2, 29),\n",
        "    Eq(y**2-0.5*y+x, 15)\n",
        "]\n",
        "display(equations)\n",
        "solve(equations,[x,y], real=true)"
      ],
      "execution_count": 211,
      "outputs": [
        {
          "output_type": "display_data",
          "data": {
            "image/png": "[encoded data removed]",
            "text/latex": "$\\displaystyle \\left[ x^{2} + 2 y^{2} - y = 29, \\  x + y^{2} - 0.5 y = 15\\right]$",
            "text/plain": [
              "⎡ 2      2                2             ⎤\n",
              "⎣x  + 2⋅y  - y = 29, x + y  - 0.5⋅y = 15⎦"
            ]
          },
          "metadata": {
            "tags": []
          }
        },
        {
          "output_type": "execute_result",
          "data": {
            "image/png": "[encoded data removed]",
            "text/latex": "$\\displaystyle \\left[ \\left( 1.0, \\  -3.5\\right), \\  \\left( 1.0, \\  4.0\\right)\\right]$",
            "text/plain": [
              "[(1.0, -3.5), (1.0, 4.0)]"
            ]
          },
          "metadata": {
            "tags": []
          },
          "execution_count": 211
        }
      ]
    },
    {
      "cell_type": "markdown",
      "metadata": {
        "id": "FQGs3pFbd1NL"
      },
      "source": [
        "53"
      ]
    },
    {
      "cell_type": "code",
      "metadata": {
        "colab": {
          "base_uri": "https://localhost:8080/",
          "height": 80
        },
        "id": "DzliPZAYd2Fl",
        "outputId": "84967c26-f001-4317-8589-a0df0250e281"
      },
      "source": [
        "qn = Eq((x+2*y)**2+(x-y-1)**2,0)\n",
        "display(qn)\n",
        "equations = [\n",
        "    Eq( (x+2*y)**2, 0),\n",
        "    Eq((x-y-1)**2, 0)\n",
        "]\n",
        "solve(equations,[x,y], real=true)"
      ],
      "execution_count": 220,
      "outputs": [
        {
          "output_type": "display_data",
          "data": {
            "image/png": "[encoded data removed]",
            "text/latex": "$\\displaystyle \\left(x + 2 y\\right)^{2} + \\left(x - y - 1\\right)^{2} = 0$",
            "text/plain": [
              "         2              2    \n",
              "(x + 2⋅y)  + (x - y - 1)  = 0"
            ]
          },
          "metadata": {
            "tags": []
          }
        },
        {
          "output_type": "execute_result",
          "data": {
            "image/png": "[encoded data removed]",
            "text/latex": "$\\displaystyle \\left[ \\left( \\frac{2}{3}, \\  - \\frac{1}{3}\\right)\\right]$",
            "text/plain": [
              "[(2/3, -1/3)]"
            ]
          },
          "metadata": {
            "tags": []
          },
          "execution_count": 220
        }
      ]
    },
    {
      "cell_type": "markdown",
      "metadata": {
        "id": "O8jEGl5_fXwL"
      },
      "source": [
        "54"
      ]
    },
    {
      "cell_type": "code",
      "metadata": {
        "colab": {
          "base_uri": "https://localhost:8080/",
          "height": 80
        },
        "id": "LcraoOl7fYjx",
        "outputId": "58f5417e-a227-410f-97a1-0b9e8d0d91ca"
      },
      "source": [
        "qn = Eq((y-2*x)**2+(x+y-2)**2,0)\n",
        "display(qn)\n",
        "equations = [\n",
        "    Eq( (y-2*x)**2, 0),\n",
        "    Eq((x+y-2)**2, 0)\n",
        "]\n",
        "solve(equations,[x,y], real=true)"
      ],
      "execution_count": 221,
      "outputs": [
        {
          "output_type": "display_data",
          "data": {
            "image/png": "[encoded data removed]",
            "text/latex": "$\\displaystyle \\left(- 2 x + y\\right)^{2} + \\left(x + y - 2\\right)^{2} = 0$",
            "text/plain": [
              "          2              2    \n",
              "(-2⋅x + y)  + (x + y - 2)  = 0"
            ]
          },
          "metadata": {
            "tags": []
          }
        },
        {
          "output_type": "execute_result",
          "data": {
            "image/png": "[encoded data removed]",
            "text/latex": "$\\displaystyle \\left[ \\left( \\frac{2}{3}, \\  \\frac{4}{3}\\right)\\right]$",
            "text/plain": [
              "[(2/3, 4/3)]"
            ]
          },
          "metadata": {
            "tags": []
          },
          "execution_count": 221
        }
      ]
    },
    {
      "cell_type": "markdown",
      "metadata": {
        "id": "34OT5oy1fnmf"
      },
      "source": [
        "55"
      ]
    },
    {
      "cell_type": "code",
      "metadata": {
        "colab": {
          "base_uri": "https://localhost:8080/",
          "height": 62
        },
        "id": "h9d5PeRxfoNL",
        "outputId": "4bf92c2b-4687-4cbf-ce8e-ba53ceb70888"
      },
      "source": [
        "qn = Eq((x-y**2)**2+(x**2-x)**2,0)\n",
        "display(qn)\n",
        "equations = [\n",
        "    Eq( (x-y**2)**2, 0),\n",
        "    Eq((x**2-x)**2, 0)\n",
        "]\n",
        "solve(equations,[x,y], real=true)"
      ],
      "execution_count": 222,
      "outputs": [
        {
          "output_type": "display_data",
          "data": {
            "image/png": "[encoded data removed]",
            "text/latex": "$\\displaystyle \\left(x - y^{2}\\right)^{2} + \\left(x^{2} - x\\right)^{2} = 0$",
            "text/plain": [
              "        2           2    \n",
              "⎛     2⎞    ⎛ 2    ⎞     \n",
              "⎝x - y ⎠  + ⎝x  - x⎠  = 0"
            ]
          },
          "metadata": {
            "tags": []
          }
        },
        {
          "output_type": "execute_result",
          "data": {
            "image/png": "[encoded data removed]",
            "text/latex": "$\\displaystyle \\left[ \\left( 0, \\  0\\right), \\  \\left( 1, \\  -1\\right), \\  \\left( 1, \\  1\\right)\\right]$",
            "text/plain": [
              "[(0, 0), (1, -1), (1, 1)]"
            ]
          },
          "metadata": {
            "tags": []
          },
          "execution_count": 222
        }
      ]
    },
    {
      "cell_type": "markdown",
      "metadata": {
        "id": "t2mPQ1nrfzMd"
      },
      "source": [
        "56"
      ]
    },
    {
      "cell_type": "code",
      "metadata": {
        "colab": {
          "base_uri": "https://localhost:8080/",
          "height": 62
        },
        "id": "vHw22hrGfz5q",
        "outputId": "3a96cf30-b8cd-47ec-b366-3b306dfc9d17"
      },
      "source": [
        "qn = Eq((4*y-y**2)**2+(x**2-y)**2,0)\n",
        "display(qn)\n",
        "equations = [\n",
        "    Eq( (4*y-y**2)**2, 0),\n",
        "    Eq((x**2-y)**2, 0)\n",
        "]\n",
        "solve(equations,[x,y], real=true)"
      ],
      "execution_count": 223,
      "outputs": [
        {
          "output_type": "display_data",
          "data": {
            "image/png": "[encoded data removed]",
            "text/latex": "$\\displaystyle \\left(x^{2} - y\\right)^{2} + \\left(- y^{2} + 4 y\\right)^{2} = 0$",
            "text/plain": [
              "        2               2    \n",
              "⎛ 2    ⎞    ⎛   2      ⎞     \n",
              "⎝x  - y⎠  + ⎝- y  + 4⋅y⎠  = 0"
            ]
          },
          "metadata": {
            "tags": []
          }
        },
        {
          "output_type": "execute_result",
          "data": {
            "image/png": "[encoded data removed]",
            "text/latex": "$\\displaystyle \\left[ \\left( -2, \\  4\\right), \\  \\left( 0, \\  0\\right), \\  \\left( 2, \\  4\\right)\\right]$",
            "text/plain": [
              "[(-2, 4), (0, 0), (2, 4)]"
            ]
          },
          "metadata": {
            "tags": []
          },
          "execution_count": 223
        }
      ]
    },
    {
      "cell_type": "markdown",
      "metadata": {
        "id": "h3NJ9SRRgHHT"
      },
      "source": [
        "Системы неравенств (25-28)"
      ]
    },
    {
      "cell_type": "markdown",
      "metadata": {
        "id": "iNH-o9fli8TC"
      },
      "source": [
        "25"
      ]
    },
    {
      "cell_type": "code",
      "metadata": {
        "colab": {
          "base_uri": "https://localhost:8080/",
          "height": 118
        },
        "id": "ggkys42Hg49E",
        "outputId": "9cf0874d-8d4f-4707-dead-746758a9c00c"
      },
      "source": [
        "qn = solveset(x**2+x+1>=0, x, S.Reals)\n",
        "qn1 = solveset(x**2-x-2>0,x, S.Reals)\n",
        "qn2 = solveset(x**2-x-2<0, x, S.Reals)\n",
        "display(sqrt(x**2+x+1)/(x**2-x-2))\n",
        "display(qn)\n",
        "display(qn1)\n",
        "display(qn2)"
      ],
      "execution_count": 246,
      "outputs": [
        {
          "output_type": "display_data",
          "data": {
            "image/png": "[encoded data removed]",
            "text/latex": "$\\displaystyle \\frac{\\sqrt{x^{2} + x + 1}}{x^{2} - x - 2}$",
            "text/plain": [
              "   ____________\n",
              "  ╱  2         \n",
              "╲╱  x  + x + 1 \n",
              "───────────────\n",
              "    2          \n",
              "   x  - x - 2  "
            ]
          },
          "metadata": {
            "tags": []
          }
        },
        {
          "output_type": "display_data",
          "data": {
            "image/png": "[encoded data removed]",
            "text/latex": "$\\displaystyle \\left(-\\infty, \\infty\\right)$",
            "text/plain": [
              "(-∞, ∞)"
            ]
          },
          "metadata": {
            "tags": []
          }
        },
        {
          "output_type": "display_data",
          "data": {
            "image/png": "[encoded data removed]",
            "text/latex": "$\\displaystyle \\left(-\\infty, -1\\right) \\cup \\left(2, \\infty\\right)$",
            "text/plain": [
              "(-∞, -1) ∪ (2, ∞)"
            ]
          },
          "metadata": {
            "tags": []
          }
        },
        {
          "output_type": "display_data",
          "data": {
            "image/png": "[encoded data removed]",
            "text/latex": "$\\displaystyle \\left(-1, 2\\right)$",
            "text/plain": [
              "(-1, 2)"
            ]
          },
          "metadata": {
            "tags": []
          }
        }
      ]
    },
    {
      "cell_type": "markdown",
      "metadata": {
        "id": "4hgVg2fPi51R"
      },
      "source": [
        "26"
      ]
    },
    {
      "cell_type": "code",
      "metadata": {
        "colab": {
          "base_uri": "https://localhost:8080/",
          "height": 78
        },
        "id": "qV9Omocii5Xb",
        "outputId": "2a96b783-739f-448f-dbb6-d1792669077a"
      },
      "source": [
        "display(sqrt(x**2+x+2)/(x**2+x-2))\n",
        "equations = [\n",
        "    solveset(x**2+x+2>=0, x, S.Reals),\n",
        "    solveset(x**2+x-2>0,x, S.Reals),\n",
        "    solveset(x**2+x-2<0,x, S.Reals)\n",
        "]\n",
        "display(equations)"
      ],
      "execution_count": 250,
      "outputs": [
        {
          "output_type": "display_data",
          "data": {
            "image/png": "[encoded data removed]",
            "text/latex": "$\\displaystyle \\frac{\\sqrt{x^{2} + x + 2}}{x^{2} + x - 2}$",
            "text/plain": [
              "   ____________\n",
              "  ╱  2         \n",
              "╲╱  x  + x + 2 \n",
              "───────────────\n",
              "    2          \n",
              "   x  + x - 2  "
            ]
          },
          "metadata": {
            "tags": []
          }
        },
        {
          "output_type": "display_data",
          "data": {
            "image/png": "[encoded data removed]",
            "text/latex": "$\\displaystyle \\left[ \\left(-\\infty, \\infty\\right), \\  \\left(-\\infty, -2\\right) \\cup \\left(1, \\infty\\right), \\  \\left(-2, 1\\right)\\right]$",
            "text/plain": [
              "[(-∞, ∞), (-∞, -2) ∪ (1, ∞), (-2, 1)]"
            ]
          },
          "metadata": {
            "tags": []
          }
        }
      ]
    },
    {
      "cell_type": "markdown",
      "metadata": {
        "id": "f_bCdvNJjxGn"
      },
      "source": [
        "27 !!!"
      ]
    },
    {
      "cell_type": "code",
      "metadata": {
        "colab": {
          "base_uri": "https://localhost:8080/",
          "height": 80
        },
        "id": "uEV5rK9qjyqB",
        "outputId": "17d2649b-7a57-4b78-8934-d4295a489e6f"
      },
      "source": [
        "display(sqrt(x**2-4)+sqrt(x**2-5*x+6))\n",
        "equations = [\n",
        "    solveset(x**2-4<0, x, S.Reals),\n",
        "    solveset(x**2-5*x+6<0,x, S.Reals)\n",
        "]\n",
        "display(equations)\n",
        "display(Intersection(equations[0], equations[1]))"
      ],
      "execution_count": 262,
      "outputs": [
        {
          "output_type": "display_data",
          "data": {
            "image/png": "[encoded data removed]",
            "text/latex": "$\\displaystyle \\sqrt{x^{2} - 4} + \\sqrt{x^{2} - 5 x + 6}$",
            "text/plain": [
              "   ________      ______________\n",
              "  ╱  2          ╱  2           \n",
              "╲╱  x  - 4  + ╲╱  x  - 5⋅x + 6 "
            ]
          },
          "metadata": {
            "tags": []
          }
        },
        {
          "output_type": "display_data",
          "data": {
            "image/png": "[encoded data removed]",
            "text/latex": "$\\displaystyle \\left[ \\left(-2, 2\\right), \\  \\left(2, 3\\right)\\right]$",
            "text/plain": [
              "[(-2, 2), (2, 3)]"
            ]
          },
          "metadata": {
            "tags": []
          }
        },
        {
          "output_type": "display_data",
          "data": {
            "image/png": "[encoded data removed]",
            "text/latex": "$\\displaystyle \\emptyset$",
            "text/plain": [
              "∅"
            ]
          },
          "metadata": {
            "tags": []
          }
        }
      ]
    },
    {
      "cell_type": "markdown",
      "metadata": {
        "id": "_GLnlKJGl02l"
      },
      "source": [
        "28"
      ]
    },
    {
      "cell_type": "code",
      "metadata": {
        "colab": {
          "base_uri": "https://localhost:8080/",
          "height": 80
        },
        "id": "7PLYloJml19O",
        "outputId": "bb88d5a3-bfd7-42f1-9d9d-e1553e3fd0ee"
      },
      "source": [
        "display(sqrt(x**2-2*x-3)+sqrt(x**2-4))\n",
        "equations = [\n",
        "    solveset(x**2-2*x-3<0, x, S.Reals),\n",
        "    solveset(x**2-4<0,x, S.Reals)\n",
        "]\n",
        "display(equations)\n",
        "display(Intersection(equations[0], equations[1]))"
      ],
      "execution_count": 259,
      "outputs": [
        {
          "output_type": "display_data",
          "data": {
            "image/png": "[encoded data removed]",
            "text/latex": "$\\displaystyle \\sqrt{x^{2} - 4} + \\sqrt{x^{2} - 2 x - 3}$",
            "text/plain": [
              "   ________      ______________\n",
              "  ╱  2          ╱  2           \n",
              "╲╱  x  - 4  + ╲╱  x  - 2⋅x - 3 "
            ]
          },
          "metadata": {
            "tags": []
          }
        },
        {
          "output_type": "display_data",
          "data": {
            "image/png": "[encoded data removed]",
            "text/latex": "$\\displaystyle \\left[ \\left(-1, 3\\right), \\  \\left(-2, 2\\right)\\right]$",
            "text/plain": [
              "[(-1, 3), (-2, 2)]"
            ]
          },
          "metadata": {
            "tags": []
          }
        },
        {
          "output_type": "display_data",
          "data": {
            "image/png": "[encoded data removed]",
            "text/latex": "$\\displaystyle \\left(-1, 2\\right)$",
            "text/plain": [
              "(-1, 2)"
            ]
          },
          "metadata": {
            "tags": []
          }
        }
      ]
    }
  ]
}