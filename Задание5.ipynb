{
  "nbformat": 4,
  "nbformat_minor": 0,
  "metadata": {
    "colab": {
      "name": "Задание5.ipynb",
      "provenance": [],
      "authorship_tag": "ABX9TyOBDp3furVAyw8Kn7I4PTPU",
      "include_colab_link": true
    },
    "kernelspec": {
      "name": "python3",
      "display_name": "Python 3"
    },
    "language_info": {
      "name": "python"
    }
  },
  "cells": [
    {
      "cell_type": "markdown",
      "metadata": {
        "id": "view-in-github",
        "colab_type": "text"
      },
      "source": [
        "<a href=\"https://colab.research.google.com/github/olgashlyakhtova2000/firstName/blob/main/%D0%97%D0%B0%D0%B4%D0%B0%D0%BD%D0%B8%D0%B55.ipynb\" target=\"_parent\"><img src=\"https://colab.research.google.com/assets/colab-badge.svg\" alt=\"Open In Colab\"/></a>"
      ]
    },
    {
      "cell_type": "code",
      "metadata": {
        "id": "02-ziNVJZDF2"
      },
      "source": [
        "from IPython.display import display, Math\n",
        "import matplotlib\n",
        "import matplotlib.pyplot as plt"
      ],
      "execution_count": 1,
      "outputs": []
    },
    {
      "cell_type": "code",
      "metadata": {
        "id": "n9JFR_49ZIOX"
      },
      "source": [
        "def add(x, y):\n",
        "  return ['+', x, y]\n",
        "\n",
        "def mul(x, y):\n",
        "  return ['*', x, y]\n",
        "\n",
        "def div(x, y):\n",
        "  return [\"/\", x, y]\n",
        "\n",
        "def sub(x, y):\n",
        "  return [\"-\", x, y]\n",
        "\n",
        "def pow(x, y):\n",
        "  return [\"^\", x, y]\n",
        "\n",
        "def neg(x):\n",
        "  return [\"--\", x]"
      ],
      "execution_count": 2,
      "outputs": []
    },
    {
      "cell_type": "code",
      "metadata": {
        "id": "HtMR-AKzZSMb"
      },
      "source": [
        "def fsqrt(x):\n",
        "  return ['sqrt', x]\n",
        "\n",
        "def fsin(x):\n",
        "  return ['sin', x]\n",
        "\n",
        "def fcos(x):\n",
        "  return ['cos', x]\n",
        "\n",
        "def fln(x):\n",
        "  return ['ln', x]"
      ],
      "execution_count": 3,
      "outputs": []
    },
    {
      "cell_type": "code",
      "metadata": {
        "id": "6IWTqbTBZTvp"
      },
      "source": [
        "def check(x):\n",
        "  if isinstance(x, Expression):\n",
        "    return x\n",
        "  return Expression(x)\n",
        "\n",
        "class Expression:\n",
        "  def __init__(self, f):\n",
        "    self.f = f\n",
        "  def __add__(self, x):\n",
        "    x = check(x)\n",
        "    return Expression(add(self.f, x.f))\n",
        "  def __sub__(self, x):\n",
        "    x = check(x)\n",
        "    return Expression(sub(self.f, x.f))\n",
        "  def __mul__(self, x):\n",
        "    x = check(x)\n",
        "    return Expression(mul(self.f, x.f))\n",
        "  def __truediv__(self, x):\n",
        "    x = check(x)\n",
        "    return Expression(div(self.f, x.f))\n",
        "  def __pow__(self, x):\n",
        "    x = check(x)\n",
        "    return Expression(pow(self.f, x.f))\n",
        "  def __radd__(self, x):\n",
        "    x = check(x)\n",
        "    return Expression(add(x.f, self.f))\n",
        "  def __rsub__(self, x):\n",
        "    x = check(x)\n",
        "    return Expression(sub(x.f, self.f))\n",
        "  def __rmul__(self, x):\n",
        "    x = check(x)\n",
        "    return Expression(mul(x.f, self.f))\n",
        "  def __rtruediv__(self, x):\n",
        "    x = check(x)\n",
        "    return Expression(div(x.f, self.f))\n",
        "  def __rpow__(self, x):\n",
        "    x = check(x)\n",
        "    return Expression(pow(x.f, self.f))\n",
        "  def __neg__(self):\n",
        "    return Expression(neg(self.f))\n",
        "  def subs(self, var, val):\n",
        "    return Expression(substitute(self.f, var, val))\n",
        "  def evalf(self):\n",
        "    return evaluate(self.f)\n",
        "  def __str__(self):\n",
        "    return expr2latex(self.f)\n",
        "  def show(self):\n",
        "    display(Math(expr2latex(self.f)))\n",
        "  def diff(self, var):\n",
        "    var = check(var).f\n",
        "    return Expression(differentiate(self.f, var))\n",
        "  def simp(self):\n",
        "    return Expression(simplify(self.f))\n",
        "  def expn(self):\n",
        "    return Expression(expand(self.f))"
      ],
      "execution_count": 4,
      "outputs": []
    },
    {
      "cell_type": "code",
      "metadata": {
        "id": "U_7zeOivZZAH"
      },
      "source": [
        "def sqrt(x):\n",
        "  x = check(x)\n",
        "  t = x.f\n",
        "  r = fsqrt(t)\n",
        "  return Expression(r)\n",
        "\n",
        "def sin(x):\n",
        "  return Expression(fsin(check(x).f))\n",
        "\n",
        "def cos(x):\n",
        "  return Expression(fcos(check(x).f))\n",
        "\n",
        "def ln(x):\n",
        "  return Expression(fln(check(x).f))\n"
      ],
      "execution_count": 5,
      "outputs": []
    },
    {
      "cell_type": "code",
      "metadata": {
        "id": "-B-lT-FkZdqS"
      },
      "source": [
        "def substitute(f, var, val):\n",
        "  val = check(val).f\n",
        "  if f == var:\n",
        "    return val\n",
        "  elif isinstance(f, list):\n",
        "    y = [f[0]]\n",
        "    for i in range(1, len(f)):\n",
        "      t = substitute(f[i], var, val)\n",
        "      y.append(t)\n",
        "    return y\n",
        "  else:\n",
        "    return f\n"
      ],
      "execution_count": 6,
      "outputs": []
    },
    {
      "cell_type": "code",
      "metadata": {
        "id": "-IU5zFzbZgDw"
      },
      "source": [
        "import math\n",
        "\n",
        "def evaluate(f):\n",
        "  if isinstance(f, (int, float)):\n",
        "    return f\n",
        "  elif isinstance(f, list):\n",
        "    if f[0] == \"+\": \n",
        "      return evaluate(f[1]) + evaluate(f[2])\n",
        "    elif f[0] == \"*\":\n",
        "      return evaluate(f[1]) * evaluate(f[2])\n",
        "    elif f[0] == \"sqrt\":\n",
        "      return math.sqrt(evaluate(f[1]))\n",
        "    elif f[0] == \"sin\":\n",
        "      return math.sin(evaluate(f[1]))\n",
        "    elif f[0] == \"cos\":\n",
        "      return math.cos(evaluate(f[1]))\n",
        "  return None\n",
        "  "
      ],
      "execution_count": 7,
      "outputs": []
    },
    {
      "cell_type": "code",
      "metadata": {
        "id": "DwBrvzUeZi8p"
      },
      "source": [
        "def expr2latex(x):\n",
        "  if isinstance(x, (int, float)):\n",
        "    return str(x)\n",
        "  if isinstance(x, str):\n",
        "    return x\n",
        "  if isinstance(x, list):\n",
        "    if x[0] == \"+\":\n",
        "      return expr2latex(x[1]) + \"+\" + expr2latex(x[2])\n",
        "    if x[0] == \"-\":\n",
        "      return expr2latex(x[1]) + \"-\" + expr2latex(x[2])\n",
        "    if x[0] == \"*\":\n",
        "      left = expr2latex(x[1])\n",
        "      if isinstance(x[1], list) and x[1][0] == \"+\":\n",
        "        left = \"\\\\left(\" + left + \"\\\\right)\"\n",
        "      right = expr2latex(x[2])\n",
        "      if isinstance(x[2], list) and x[2][0] == \"+\":\n",
        "        right = \"\\\\left(\" + right + \"\\\\right)\"\n",
        "      return left + \"\\\\cdot \" + right\n",
        "    if x[0] == \"/\":\n",
        "      return \"\\\\dfrac{\" + expr2latex(x[1]) + \"}{\" + expr2latex(x[2]) + \"}\"\n",
        "    if x[0] == \"^\":\n",
        "      left = expr2latex(x[1])\n",
        "      if isinstance(x[1], list):\n",
        "        left = \"\\\\left(\" + left + \"\\\\right)\"\n",
        "      right = expr2latex(x[2])\n",
        "      return \"{\" + left + \"}^{\" + right + \"}\"\n",
        "    if x[0] == \"--\":\n",
        "      a = expr2latex(x[1])\n",
        "      if isinstance(x[1], list):\n",
        "        a = \"\\\\left(\" + a + \"\\\\right)\"\n",
        "      return \"-{\" + a + \"}\"\n",
        "    if x[0] == \"sqrt\":\n",
        "      a = expr2latex(x[1])\n",
        "      return \"\\\\sqrt{\" + a + \"}\"\n",
        "    if x[0] == \"sin\":\n",
        "      a = expr2latex(x[1])\n",
        "      if isinstance(x[1], list):\n",
        "        a = \"\\\\left(\" + a + \"\\\\right)\"\n",
        "      return \"\\\\sin{\" + a + \"}\"\n",
        "    if x[0] == \"cos\":\n",
        "      a = expr2latex(x[1])\n",
        "      if isinstance(x[1], list):\n",
        "        a = \"\\\\left(\" + a + \"\\\\right)\"\n",
        "      return \"\\\\cos{\" + a + \"}\"\n",
        "    if x[0] == \"ln\":\n",
        "      a = expr2latex(x[1])\n",
        "      if isinstance(x[1], list):\n",
        "        a = \"\\\\left(\" + a + \"\\\\right)\"\n",
        "      return \"\\\\ln{\" + a + \"}\""
      ],
      "execution_count": 8,
      "outputs": []
    },
    {
      "cell_type": "code",
      "metadata": {
        "id": "wV-JtoMlZrGm"
      },
      "source": [
        "def differentiate(f, x):\n",
        "  if isinstance(f, int):\n",
        "    return 0\n",
        "  if f == x:\n",
        "    return 1\n",
        "  if isinstance(f, str):\n",
        "    return 0\n",
        "  if isinstance(f, list):\n",
        "    if f[0] == \"+\":\n",
        "      u, v = f[1], f[2]\n",
        "      u1, v1 = differentiate(u, x), differentiate(v, x)\n",
        "      return add(u1, v1)\n",
        "    if f[0] == \"-\":\n",
        "      u, v = f[1], f[2]\n",
        "      u1, v1 = differentiate(u, x), differentiate(v, x)\n",
        "      return sub(u1, v1)      \n",
        "    if f[0] == \"*\":\n",
        "      u, v = f[1], f[2]\n",
        "      u1, v1 = differentiate(u, x), differentiate(v, x)\n",
        "      return add(mul(u1, v), mul(u, v1))   \n",
        "    if f[0] == \"/\":\n",
        "      u, v = f[1], f[2]\n",
        "      u1, v1 = differentiate(u, x), differentiate(v, x)\n",
        "      return div(sub(mul(u1, v), mul(u, v1)), pow(v, 2))   \n",
        "    if f[0] == \"^\":\n",
        "      u, v = f[1], f[2]\n",
        "      u1, v1 = differentiate(u, x), differentiate(v, x)\n",
        "      p1, p2 = pow(u, v), pow(u, sub(v, 1))\n",
        "      s1 = mul(p1, mul(v1, fln(u)))\n",
        "      s2 = mul(v, mul(p2, u1))\n",
        "      return add(s1, s2) \n",
        "    if f[0] == \"--\":\n",
        "      u = f[1]\n",
        "      u1 = differentiate(u, x)\n",
        "      return neg(u1)\n",
        "    if f[0] == \"ln\":\n",
        "      u = f[1]\n",
        "      u1 = differentiate(u, x)\n",
        "      return div(u1, u)\n",
        "    if f[0] == \"sin\":\n",
        "      u = f[1]\n",
        "      u1 = differentiate(u, x)\n",
        "      return mul(fcos(u), u1)\n",
        "    if f[0] == \"cos\":\n",
        "      u = f[1]\n",
        "      u1 = differentiate(u, x)\n",
        "      return mul(neg(fsin(u)), u1)\n",
        "    if f[0] == \"sqrt\":\n",
        "      u = f[1]\n",
        "      u1 = differentiate(u, x)\n",
        "      return div(u1, mul(2, fsqrt(u)))"
      ],
      "execution_count": 9,
      "outputs": []
    },
    {
      "cell_type": "code",
      "metadata": {
        "id": "jyv1SdhBvlla"
      },
      "source": [
        "def NOD(num1, num2):\n",
        "  while num1 != 0 and num2 != 0:\n",
        "      if num1 >= num2:\n",
        "          num1 -= num2\n",
        "      else:\n",
        "          num2 -= num1\n",
        "  return num1 or num2"
      ],
      "execution_count": 10,
      "outputs": []
    },
    {
      "cell_type": "code",
      "metadata": {
        "id": "EexsB886dOtB"
      },
      "source": [
        "def findSq(num):\n",
        "  max = int(math.sqrt(num))-1;\n",
        "  while max>1:\n",
        "    if num%max==0:\n",
        "     return max;\n",
        "    else: max=max-1;\n",
        "  return max;\n"
      ],
      "execution_count": 60,
      "outputs": []
    },
    {
      "cell_type": "code",
      "metadata": {
        "colab": {
          "base_uri": "https://localhost:8080/"
        },
        "id": "I_iR8_uWeMya",
        "outputId": "e79370ea-8884-4f9b-b2e9-88fe0668aed7"
      },
      "source": [
        "print(findSq(18))"
      ],
      "execution_count": 61,
      "outputs": [
        {
          "output_type": "stream",
          "text": [
            "3\n"
          ],
          "name": "stdout"
        }
      ]
    },
    {
      "cell_type": "code",
      "metadata": {
        "id": "_aD15ELDZ1C0"
      },
      "source": [
        "def simplify(f):\n",
        "  if isinstance(f, list):\n",
        "    r = [f[0]]\n",
        "    for x in f[1:]:\n",
        "      r.append(simplify(x))\n",
        "    if r[0] == \"+\":\n",
        "      if isinstance(r[1], int) and isinstance(r[2], int):\n",
        "        return r[1] + r[2] \n",
        "      if r[1] == 0: \n",
        "        return r[2]\n",
        "      if r[2] == 0:\n",
        "        return r[1]\n",
        "      if r[1] == r[2]:\n",
        "        return mul(2, r[1])\n",
        "      if isinstance(r[2], list) and r[2][0] == \"--\": # unary minus\n",
        "        return simplify(sub(r[1], r[2][1]))\n",
        "    if r[0] == \"-\":\n",
        "      if isinstance(r[1], int) and isinstance(r[2], int):\n",
        "        return r[1] - r[2]\n",
        "      if r[1] == 0: \n",
        "        return neg(r[2])\n",
        "      if r[2] == 0:\n",
        "        return r[1]\n",
        "      if r[1] == r[2]:\n",
        "        return 0\n",
        "      if isinstance(r[2], list) and r[2][0] == \"--\": # unary minus\n",
        "        return simplify(add(r[1], r[2][1]))\n",
        "    if r[0] == \"*\":\n",
        "      if isinstance(r[1], int) and isinstance(r[2], int):\n",
        "        return r[1] * r[2] \n",
        "      if r[1] == 0 or r[2] == 0: \n",
        "        return 0\n",
        "      if r[1] == 1:\n",
        "        return r[2]\n",
        "      if r[2] == 1:\n",
        "        return r[1]\n",
        "      if r[1] == r[2]:\n",
        "        return pow(r[1], 2)\n",
        "    if r[0] == \"/\":\n",
        "      if isinstance(r[1], int) and isinstance(r[2], int):\n",
        "        if NOD(r[1], r[2])==1:\n",
        "          return r[1] / r[2] \n",
        "        else:\n",
        "          a = NOD(r[1], r[2])\n",
        "          return div(r[1]//a, r[2]//a)\n",
        "      if r[1] == 0: \n",
        "        return 0\n",
        "      if r[2] == 1:\n",
        "        return r[1]\n",
        "      if r[2] == 0:\n",
        "        return \"error\"\n",
        "      if r[1] == r[2]:\n",
        "        return 1\n",
        "    if r[0] == \"^\":\n",
        "      if isinstance(r[1], int) and isinstance(r[2], int) and r[2] > 0:\n",
        "        return r[1] ** r[2] \n",
        "      if r[2] == 1: \n",
        "        return r[1]\n",
        "      if r[2]==0:\n",
        "        return 1\n",
        "    if r[0] == \"sqrt\":\n",
        "      if isinstance(r[1], int):\n",
        "        a = int(math.sqrt(r[1]))\n",
        "        if a * a == r[1]:\n",
        "          return a\n",
        "        else: return mul(findSq(r[1]),fsqrt(r[1]//findSq(r[1])**2))\n",
        "    return r\n",
        "  return f "
      ],
      "execution_count": 67,
      "outputs": []
    },
    {
      "cell_type": "code",
      "metadata": {
        "colab": {
          "base_uri": "https://localhost:8080/",
          "height": 74
        },
        "id": "7vbnrgswwPbQ",
        "outputId": "ac453de7-401d-41de-b522-5aa0794abdc6"
      },
      "source": [
        "x = Expression('x')\n",
        "z = (x + 1 + x).diff(x)\n",
        "z.show()\n",
        "print(z.f)\n",
        "z.simp().show()"
      ],
      "execution_count": 13,
      "outputs": [
        {
          "output_type": "display_data",
          "data": {
            "text/latex": "$$1+0+1$$",
            "text/plain": [
              "<IPython.core.display.Math object>"
            ]
          },
          "metadata": {
            "tags": []
          }
        },
        {
          "output_type": "stream",
          "text": [
            "['+', ['+', 1, 0], 1]\n"
          ],
          "name": "stdout"
        },
        {
          "output_type": "display_data",
          "data": {
            "text/latex": "$$2$$",
            "text/plain": [
              "<IPython.core.display.Math object>"
            ]
          },
          "metadata": {
            "tags": []
          }
        }
      ]
    },
    {
      "cell_type": "code",
      "metadata": {
        "colab": {
          "base_uri": "https://localhost:8080/",
          "height": 60
        },
        "id": "Pja7aKJQw45a",
        "outputId": "4b522c28-d693-45d4-9353-fefbf1dbe15f"
      },
      "source": [
        "z = sin(x**2) + sin(x**2)\n",
        "z.show()\n",
        "z.simp().show()"
      ],
      "execution_count": 14,
      "outputs": [
        {
          "output_type": "display_data",
          "data": {
            "text/latex": "$$\\sin{\\left({x}^{2}\\right)}+\\sin{\\left({x}^{2}\\right)}$$",
            "text/plain": [
              "<IPython.core.display.Math object>"
            ]
          },
          "metadata": {
            "tags": []
          }
        },
        {
          "output_type": "display_data",
          "data": {
            "text/latex": "$$2\\cdot \\sin{\\left({x}^{2}\\right)}$$",
            "text/plain": [
              "<IPython.core.display.Math object>"
            ]
          },
          "metadata": {
            "tags": []
          }
        }
      ]
    },
    {
      "cell_type": "code",
      "metadata": {
        "colab": {
          "base_uri": "https://localhost:8080/",
          "height": 102
        },
        "id": "zXEC8YLRw5jF",
        "outputId": "2953dcf7-ff0a-4b84-d665-34acb5b6d29b"
      },
      "source": [
        "z = (x).diff(x)\n",
        "z = 2*z/4\n",
        "print(z.f)\n",
        "z.show()\n",
        "z.simp().show()\n",
        "\n"
      ],
      "execution_count": 37,
      "outputs": [
        {
          "output_type": "stream",
          "text": [
            "['/', ['*', 2, 1], 4]\n"
          ],
          "name": "stdout"
        },
        {
          "output_type": "display_data",
          "data": {
            "text/latex": "$$\\dfrac{2\\cdot 1}{4}$$",
            "text/plain": [
              "<IPython.core.display.Math object>"
            ]
          },
          "metadata": {
            "tags": []
          }
        },
        {
          "output_type": "display_data",
          "data": {
            "text/latex": "$$\\dfrac{1}{2}$$",
            "text/plain": [
              "<IPython.core.display.Math object>"
            ]
          },
          "metadata": {
            "tags": []
          }
        }
      ]
    },
    {
      "cell_type": "code",
      "metadata": {
        "colab": {
          "base_uri": "https://localhost:8080/",
          "height": 37
        },
        "id": "C9NWP8rnbTBK",
        "outputId": "cecb6b92-2219-4953-8339-3c7cac925e9a"
      },
      "source": [
        "z = sqrt(18)\n",
        "z.simp().show()"
      ],
      "execution_count": 68,
      "outputs": [
        {
          "output_type": "display_data",
          "data": {
            "text/latex": "$$3\\cdot \\sqrt{2}$$",
            "text/plain": [
              "<IPython.core.display.Math object>"
            ]
          },
          "metadata": {
            "tags": []
          }
        }
      ]
    },
    {
      "cell_type": "code",
      "metadata": {
        "colab": {
          "base_uri": "https://localhost:8080/"
        },
        "id": "pxPMlzRjxmUq",
        "outputId": "26bf04ab-6d92-435b-9149-c3731d95a935"
      },
      "source": [
        "print(NOD(2,4))"
      ],
      "execution_count": 27,
      "outputs": [
        {
          "output_type": "stream",
          "text": [
            "2\n"
          ],
          "name": "stdout"
        }
      ]
    }
  ]
}